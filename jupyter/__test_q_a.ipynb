{
 "cells": [
  {
   "cell_type": "code",
   "execution_count": 4,
   "outputs": [],
   "source": [
    "from python_developer import PythonDeveloperCP\n",
    "from skills import *\n",
    "import os\n",
    "import openai\n",
    "from langchain.llms import OpenAI\n",
    "from langchain.chat_models import ChatOpenAI\n",
    "from langchain.prompts import PromptTemplate\n",
    "from langchain.pydantic_v1 import BaseModel, Field\n",
    "from langchain.output_parsers import PydanticOutputParser\n",
    "import json \n",
    "\n",
    "openai.api_key = os.getenv(\"openai_key\")"
   ],
   "metadata": {
    "collapsed": false,
    "ExecuteTime": {
     "end_time": "2023-11-25T12:46:14.998919Z",
     "start_time": "2023-11-25T12:46:13.992445700Z"
    }
   },
   "id": "d56111b89b42ee51"
  },
  {
   "cell_type": "code",
   "execution_count": 5,
   "outputs": [
    {
     "data": {
      "text/plain": "[('Procedural Programming', 0),\n ('Object-Oriented Programming', 0),\n ('Functional Programming', 0),\n ('Concurrent Programming', 0),\n ('DB Design', 0),\n ('Relational Databases', 0),\n ('Python', 0)]"
     },
     "execution_count": 5,
     "metadata": {},
     "output_type": "execute_result"
    }
   ],
   "source": [
    "python_developer_cp = PythonDeveloperCP()\n",
    "\n",
    "SKILL_ProgrammazioneProcedurale.score = 10\n",
    "SKILL_ProgrammazioneOOP.score = 10\n",
    "SKILL_ProgrammazioneFunzionale.score = 15\n",
    "SKILL_ProgrammazioneConcorrente.score = 2\n",
    "SKILL_ProgettazioneDiDB.score = 1\n",
    "SKILL_BasiDiDatiRelazionali.score = 5\n",
    "SKILL_Python.score = 12\n",
    "SKILL_Programmazione.score = 10\n",
    "\n",
    "[(x.name, x.score) for x in python_developer_cp.modules[0].sub_skills]"
   ],
   "metadata": {
    "collapsed": false,
    "ExecuteTime": {
     "end_time": "2023-11-25T12:46:15.027918500Z",
     "start_time": "2023-11-25T12:46:15.007921700Z"
    }
   },
   "id": "10c4e4c4a2e736a5"
  },
  {
   "cell_type": "code",
   "execution_count": 6,
   "outputs": [],
   "source": [
    "cp_eng = \"Python Developer\"\n",
    "module_eng = \"Software Development\"\n",
    "skill_eng = \"Relational Database\"\n",
    "skill_descr_eng = \"design and management of relational databases and the main RDBMS\""
   ],
   "metadata": {
    "collapsed": false,
    "ExecuteTime": {
     "end_time": "2023-11-25T12:46:15.074949800Z",
     "start_time": "2023-11-25T12:46:15.015922300Z"
    }
   },
   "id": "e3871b4dba30c434"
  },
  {
   "cell_type": "code",
   "execution_count": 7,
   "outputs": [],
   "source": [
    "model = OpenAI(model=\"gpt-3.5-turbo-instruct\", temperature=.75, openai_api_key=os.getenv(\"openai_key\"), max_tokens=500)"
   ],
   "metadata": {
    "collapsed": false,
    "ExecuteTime": {
     "end_time": "2023-11-25T12:46:15.089923300Z",
     "start_time": "2023-11-25T12:46:15.033924500Z"
    }
   },
   "id": "dc6dbb1e5f28155c"
  },
  {
   "cell_type": "code",
   "execution_count": 8,
   "outputs": [],
   "source": [
    "model = ChatOpenAI(model=\"gpt-4-0613\", temperature=.75, openai_api_key=os.getenv(\"openai_key\"), max_tokens=500)"
   ],
   "metadata": {
    "collapsed": false,
    "ExecuteTime": {
     "end_time": "2023-11-25T12:46:16.209588400Z",
     "start_time": "2023-11-25T12:46:16.165562500Z"
    }
   },
   "id": "1853dfa090f98c85"
  },
  {
   "cell_type": "code",
   "execution_count": 9,
   "outputs": [],
   "source": [
    "class StepInfo(BaseModel):\n",
    "    question_summary: str = Field(description=\"summary of the question in very few words\")\n",
    "    ai_comment: str = Field(description=\"comment on the user's answer\")\n",
    "    score: int = Field(description=\"score of the user's answer\")\n",
    "    new_question: str = Field(description=\"any new question\")\n",
    "    further_questions: str = Field(description=\"the only word CONTINUE if it's needed to propose further questions on the topic, else the only word STOP\")\n",
    "\n",
    "step_info_parser = PydanticOutputParser(pydantic_object=StepInfo)"
   ],
   "metadata": {
    "collapsed": false,
    "ExecuteTime": {
     "end_time": "2023-11-25T12:46:16.990558900Z",
     "start_time": "2023-11-25T12:46:16.859562900Z"
    }
   },
   "id": "94ffb1403fc9c322"
  },
  {
   "cell_type": "code",
   "execution_count": 10,
   "outputs": [],
   "source": [
    "class FinalInfo(BaseModel):\n",
    "    ai_comment: str = Field(description=\"comment on the user's answer\")\n",
    "    score: int = Field(description=\"score of the user's answer\")\n",
    "\n",
    "final_info_parser = PydanticOutputParser(pydantic_object=FinalInfo)"
   ],
   "metadata": {
    "collapsed": false,
    "ExecuteTime": {
     "end_time": "2023-11-25T12:46:17.954456700Z",
     "start_time": "2023-11-25T12:46:17.933457200Z"
    }
   },
   "id": "c5ab62655cb948ce"
  },
  {
   "cell_type": "code",
   "execution_count": 21,
   "outputs": [],
   "source": [
    "prompt = PromptTemplate(\n",
    "    template=\"\"\"act as an expert {cp} evaluator who has experience in {module}, especially regarding {skill}\n",
    "use informal but refined language\n",
    "evaluates how competent the user is in {skill} (that is {descr})\n",
    "\n",
    "first of all, analyze the question: ```{question}```\n",
    "\n",
    "then follow these steps:\n",
    "\n",
    "`question_summary`: ```summarize the specific topic of the question in very few words without using verbs``` \n",
    "\n",
    "`score`: ```carefully evaluate the user's skills in {skill} by evaluating the user's response to a question with a score from 0 to 100 and write only the score```\n",
    "\n",
    "`ai_comment`: ```evaluate the answer given by the user and write a very short comment to the user without revealing the correct answer; possibly just suggest how to improve future answers```\n",
    "\n",
    "`new_question`: ```write a new question to evaluate the user's knowledge in {skill}; the difficulty of the new question is proportional to the user's score in {skill}```\n",
    "\n",
    "`further_questions`: ```write only the word CONTINUE if it's needed to propose further questions to the user with the aim of evaluating his competence in {skill}, otherwise write only the word STOP to indicate that there is no need to investigate the user's evaluation in {skill} with further questions```\n",
    "\n",
    "{format_instructions}\n",
    "\n",
    "User Answer: ```{answer}```\n",
    "\n",
    "\"\"\",\n",
    "    input_variables=[\"cp\", \"module\", \"skill\", \"question\", \"user_answer\", \"descr\"],\n",
    "    partial_variables={\"format_instructions\": step_info_parser.get_format_instructions()},\n",
    ")\n",
    "\n",
    "prompt_with_old_questions = PromptTemplate(\n",
    "    template=\"\"\"act as an expert {cp} evaluator who has experience in {module}, especially regarding {skill}\n",
    "use informal but refined language\n",
    "evaluates how competent the user is in {skill} (that is {descr})\n",
    "\n",
    "first of all, analyze the question: ```{question}```\n",
    "\n",
    "then follow these steps:\n",
    "\n",
    "`question_summary`: ```summarize the specific topic of the question in very few words without using verbs``` \n",
    "\n",
    "`score`: ```carefully evaluate the user's skills in {skill} by evaluating the user's response to a question with a score from 0 to 100 and write only the score```\n",
    "\n",
    "`ai_comment`: ```evaluate the answer given by the user and write a very short comment to the user without revealing the correct answer; possibly just suggest how to improve future answers```\n",
    "\n",
    "`new_question`: ```write a new question to evaluate the user's knowledge in {skill} ; the difficulty of the new question is proportional to the user's score in {skill} ; the topic of the new question must not be on one of the following: [{old_subjects}]```\n",
    "\n",
    "`further_questions`: ```write only the word CONTINUE if it's needed to propose further questions to the user with the aim of evaluating his competence in {skill}, otherwise write only the word STOP to indicate that there is no need to investigate the user's evaluation in {skill} with further questions```\n",
    "\n",
    "{format_instructions}\n",
    "\n",
    "User Answer: ```{answer}```\n",
    "\n",
    "\"\"\",\n",
    "    input_variables=[\"cp\", \"module\", \"skill\", \"question\", \"user_answer\", \"old_subjects\", \"descr\"],\n",
    "    partial_variables={\"format_instructions\": step_info_parser.get_format_instructions()},\n",
    ")"
   ],
   "metadata": {
    "collapsed": false,
    "ExecuteTime": {
     "end_time": "2023-11-25T12:49:29.034404700Z",
     "start_time": "2023-11-25T12:49:29.012405100Z"
    }
   },
   "id": "6c7fbe654c7d882a"
  },
  {
   "cell_type": "code",
   "execution_count": 22,
   "outputs": [],
   "source": [
    "prompt_and_model = prompt | model\n",
    "\n",
    "def check_llm(question, answer):\n",
    "    retry = 0\n",
    "    while retry < 2:\n",
    "        try:\n",
    "            output = prompt_and_model.invoke({\n",
    "                \"cp\": cp_eng,\n",
    "                \"module\": module_eng,\n",
    "                \"skill\": skill_eng,\n",
    "                \"descr\": skill_descr_eng,\n",
    "                \"question\": question,\n",
    "                \"answer\": answer\n",
    "            })\n",
    "            result = step_info_parser.parse(output.content)\n",
    "            retry = 22\n",
    "        except ValueError:\n",
    "            retry += 1\n",
    "    \n",
    "    if retry == 22:\n",
    "        print('question:', question)\n",
    "        print('answer:', answer)\n",
    "        print('question summary:', result.question_summary)\n",
    "        print('comment to answer:', result.ai_comment)\n",
    "        print('score:', result.score)\n",
    "        print('more questions:', result.further_questions)\n",
    "        print('new question:', result.new_question)\n",
    "        return result.question_summary, result.score, result.ai_comment\n",
    "    else:\n",
    "        print('>> error connecting LLM:', output)"
   ],
   "metadata": {
    "collapsed": false,
    "ExecuteTime": {
     "end_time": "2023-11-25T12:49:30.967713200Z",
     "start_time": "2023-11-25T12:49:30.946738300Z"
    }
   },
   "id": "930612908a1df7f3"
  },
  {
   "cell_type": "code",
   "execution_count": 23,
   "outputs": [],
   "source": [
    "prompt_and_model_with_old_subjects = prompt_with_old_questions | model\n",
    "\n",
    "old_questions = []\n",
    "questions = []\n",
    "answers = []\n",
    "scores = []\n",
    "comments = []\n",
    "\n",
    "def check_llm_with_old_subjects(question, answer):\n",
    "    retry = 0\n",
    "    while retry < 2:\n",
    "        try:\n",
    "            result = step_info_parser.parse(prompt_and_model.invoke({\n",
    "                \"cp\": cp_eng,\n",
    "                \"module\": module_eng,\n",
    "                \"skill\": skill_eng,\n",
    "                \"descr\": skill_descr_eng,\n",
    "                \"question\": question,\n",
    "                \"answer\": answer,\n",
    "                \"old_questions\": \", \".join(old_questions)\n",
    "            }).content)\n",
    "            retry = 22\n",
    "        except ValueError:\n",
    "            retry += 1\n",
    "    \n",
    "    if retry == 22:\n",
    "        print('question:', question)\n",
    "        print('answer:', answer)\n",
    "        print('question summary:', result.question_summary)\n",
    "        print('comment to answer:', result.ai_comment)\n",
    "        print('score:', result.score)\n",
    "        print('more questions:', result.further_questions)\n",
    "        print('new question:', result.new_question)\n",
    "        return result.question_summary, result.score, result.ai_comment\n",
    "    else:\n",
    "        print('>> error connecting LLM')"
   ],
   "metadata": {
    "collapsed": false,
    "ExecuteTime": {
     "end_time": "2023-11-25T12:49:32.855308Z",
     "start_time": "2023-11-25T12:49:32.812870500Z"
    }
   },
   "id": "a44ded5b619dfb3b"
  },
  {
   "cell_type": "code",
   "execution_count": 24,
   "outputs": [
    {
     "name": "stdout",
     "output_type": "stream",
     "text": [
      "---[bot]---\n",
      " What is a relational database?\n",
      "\n",
      "---[user]---\n",
      " a software to manage structured tabular data\n"
     ]
    }
   ],
   "source": [
    "question_eng = \"What is a relational database?\"\n",
    "print('---[bot]---\\n', question_eng)\n",
    "\n",
    "answer_eng = \"a software to manage structured tabular data\"\n",
    "print('\\n---[user]---\\n', answer_eng)"
   ],
   "metadata": {
    "collapsed": false,
    "ExecuteTime": {
     "end_time": "2023-11-25T12:49:33.577160Z",
     "start_time": "2023-11-25T12:49:33.564160Z"
    }
   },
   "id": "5ba28175968df0b8"
  },
  {
   "cell_type": "code",
   "execution_count": 25,
   "outputs": [
    {
     "name": "stdout",
     "output_type": "stream",
     "text": [
      "act as an expert Python Developer evaluator who has experience in Software Development, especially regarding Relational Database\n",
      "use informal but refined language\n",
      "evaluates how competent the user is in Relational Database (that is design and management of relational databases and the main RDBMS)\n",
      "\n",
      "first of all, analyze the question: ```What is a relational database?```\n",
      "\n",
      "then follow these steps:\n",
      "\n",
      "`question_summary`: ```summarize the specific topic of the question in very few words without using verbs``` \n",
      "\n",
      "`score`: ```carefully evaluate the user's skills in Relational Database by evaluating the user's response to a question with a score from 0 to 100 and write only the score```\n",
      "\n",
      "`ai_comment`: ```evaluate the answer given by the user and write a very short comment to the user without revealing the correct answer; possibly just suggest how to improve future answers```\n",
      "\n",
      "`new_question`: ```write a new question to evaluate the user's knowledge in Relational Database; the difficulty of the new question is proportional to the user's score in Relational Database```\n",
      "\n",
      "`further_questions`: ```write only the word CONTINUE if it's needed to propose further questions to the user with the aim of evaluating his competence in Relational Database, otherwise write only the word STOP to indicate that there is no need to investigate the user's evaluation in Relational Database with further questions```\n",
      "\n",
      "The output should be formatted as a JSON instance that conforms to the JSON schema below.\n",
      "\n",
      "As an example, for the schema {\"properties\": {\"foo\": {\"title\": \"Foo\", \"description\": \"a list of strings\", \"type\": \"array\", \"items\": {\"type\": \"string\"}}}, \"required\": [\"foo\"]}\n",
      "the object {\"foo\": [\"bar\", \"baz\"]} is a well-formatted instance of the schema. The object {\"properties\": {\"foo\": [\"bar\", \"baz\"]}} is not well-formatted.\n",
      "\n",
      "Here is the output schema:\n",
      "```\n",
      "{\"properties\": {\"question_summary\": {\"title\": \"Question Summary\", \"description\": \"summary of the question in very few words\", \"type\": \"string\"}, \"ai_comment\": {\"title\": \"Ai Comment\", \"description\": \"comment on the user's answer\", \"type\": \"string\"}, \"score\": {\"title\": \"Score\", \"description\": \"score of the user's answer\", \"type\": \"integer\"}, \"new_question\": {\"title\": \"New Question\", \"description\": \"any new question\", \"type\": \"string\"}, \"further_questions\": {\"title\": \"Further Questions\", \"description\": \"the only word CONTINUE if it's needed to propose further questions on the topic, else the only word STOP\", \"type\": \"string\"}}, \"required\": [\"question_summary\", \"ai_comment\", \"score\", \"new_question\", \"further_questions\"]}\n",
      "```\n",
      "\n",
      "User Answer: ```a software to manage structured tabular data```\n"
     ]
    }
   ],
   "source": [
    "print(prompt.invoke({\n",
    "    \"cp\": cp_eng,\n",
    "    \"module\": module_eng,\n",
    "    \"skill\": skill_eng,\n",
    "    \"descr\": skill_descr_eng,\n",
    "    \"question\": question_eng,\n",
    "    \"answer\": answer_eng\n",
    "}).text)"
   ],
   "metadata": {
    "collapsed": false,
    "ExecuteTime": {
     "end_time": "2023-11-25T12:49:34.520289900Z",
     "start_time": "2023-11-25T12:49:34.489288700Z"
    }
   },
   "id": "af18e0cb1327794e"
  },
  {
   "cell_type": "code",
   "execution_count": 26,
   "outputs": [],
   "source": [
    "questions.append(question_eng)\n",
    "answers.append(answer_eng)"
   ],
   "metadata": {
    "collapsed": false,
    "ExecuteTime": {
     "end_time": "2023-11-25T12:49:40.200124300Z",
     "start_time": "2023-11-25T12:49:40.185125500Z"
    }
   },
   "id": "31aa0d097a7cb11d"
  },
  {
   "cell_type": "code",
   "execution_count": 27,
   "outputs": [
    {
     "name": "stdout",
     "output_type": "stream",
     "text": [
      "question: What is a relational database?\n",
      "answer: a software to manage structured tabular data\n",
      "question summary: Concept of relational database\n",
      "comment to answer: Your answer is on the right track but is too broad. Try to incorporate more specific concepts tied to relational databases.\n",
      "score: 40\n",
      "more questions: CONTINUE\n",
      "new question: Can you list and describe some of the key principles of relational databases?\n"
     ]
    }
   ],
   "source": [
    "_, score, ai_comment = check_llm(question_eng, answer_eng)"
   ],
   "metadata": {
    "collapsed": false,
    "ExecuteTime": {
     "end_time": "2023-11-25T12:49:45.048063800Z",
     "start_time": "2023-11-25T12:49:41.777460900Z"
    }
   },
   "id": "a5b6f547a2988e92"
  },
  {
   "cell_type": "code",
   "execution_count": 582,
   "outputs": [],
   "source": [
    "scores.append(score)\n",
    "comments.append(ai_comment)"
   ],
   "metadata": {
    "collapsed": false,
    "ExecuteTime": {
     "end_time": "2023-11-22T14:58:26.742805500Z",
     "start_time": "2023-11-22T14:58:26.702301200Z"
    }
   },
   "id": "ca076fd67d914147"
  },
  {
   "cell_type": "code",
   "execution_count": 583,
   "outputs": [
    {
     "name": "stdout",
     "output_type": "stream",
     "text": [
      "act as an expert Python Developer evaluator who has experience in Software Development, especially regarding Relational Database\n",
      "use informal but refined language\n",
      "evaluates how competent the user is in Relational Database (that is design and management of relational databases and the main RDBMS)\n",
      "\n",
      "first of all, analyze the question: \"\"\"What is a relational database?\"\"\"\n",
      "\n",
      "then follow these steps:\n",
      "\n",
      "\"question_summary\": \"\"\"summarize the specific topic of the question in very few words without using verbs\"\"\" \n",
      "\n",
      "\"score\": \"\"\"carefully evaluate the user's skills in Relational Database by evaluating the user's response to a question with a score from 0 to 100 and write only the score\"\"\"\n",
      "\n",
      "\"ai_comment\": \"\"\"evaluate the answer given by the user and write a very short comment to the user without revealing the correct answer; possibly just suggest how to improve future answers\"\"\"\n",
      "\n",
      "\"new_question\": \"\"\"write a new question to evaluate the user's knowledge in Relational Database ; the difficulty of the new question is proportional to the user's score in Relational Database ; the topic of the new question must not be on one of the following: []\"\"\"\n",
      "\n",
      "\"further_questions\": \"\"\"write only the word CONTINUE if it's needed to propose further questions to the user with the aim of evaluating his competence in Relational Database, otherwise write only the word STOP to indicate that there is no need to investigate the user's evaluation in Relational Database with further questions\"\"\"\n",
      "\n",
      "The output should be formatted as a JSON instance that conforms to the JSON schema below.\n",
      "\n",
      "As an example, for the schema {\"properties\": {\"foo\": {\"title\": \"Foo\", \"description\": \"a list of strings\", \"type\": \"array\", \"items\": {\"type\": \"string\"}}}, \"required\": [\"foo\"]}\n",
      "the object {\"foo\": [\"bar\", \"baz\"]} is a well-formatted instance of the schema. The object {\"properties\": {\"foo\": [\"bar\", \"baz\"]}} is not well-formatted.\n",
      "\n",
      "Here is the output schema:\n",
      "```\n",
      "{\"properties\": {\"question_summary\": {\"title\": \"Question Summary\", \"description\": \"summary of the question in very few words\", \"type\": \"string\"}, \"ai_comment\": {\"title\": \"Ai Comment\", \"description\": \"comment on the user's answer\", \"type\": \"string\"}, \"score\": {\"title\": \"Score\", \"description\": \"score of the user's answer\", \"type\": \"integer\"}, \"new_question\": {\"title\": \"New Question\", \"description\": \"any new question\", \"type\": \"string\"}, \"further_questions\": {\"title\": \"Further Questions\", \"description\": \"the only word CONTINUE if it's needed to propose further questions on the topic, else the only word STOP\", \"type\": \"string\"}}, \"required\": [\"question_summary\", \"ai_comment\", \"score\", \"new_question\", \"further_questions\"]}\n",
      "```\n",
      "\n",
      "User Answer: \"\"\"a software to manage structured tabular data\"\"\"\n"
     ]
    }
   ],
   "source": [
    "print(prompt_with_old_questions.invoke({\n",
    "    \"cp\": cp_eng,\n",
    "    \"module\": module_eng,\n",
    "    \"skill\": skill_eng,\n",
    "    \"descr\": skill_descr_eng,\n",
    "    \"question\": question_eng,\n",
    "    \"answer\": answer_eng,\n",
    "    \"old_subjects\": \", \".join(old_questions)\n",
    "}).text)"
   ],
   "metadata": {
    "collapsed": false,
    "ExecuteTime": {
     "end_time": "2023-11-22T14:58:26.750643100Z",
     "start_time": "2023-11-22T14:58:26.716319400Z"
    }
   },
   "id": "688c421f414f25c1"
  },
  {
   "cell_type": "code",
   "execution_count": 584,
   "outputs": [
    {
     "name": "stdout",
     "output_type": "stream",
     "text": [
      "---[bot]---\n",
      " What is the purpose of a primary key in a relational database?\n",
      "\n",
      "---[user]---\n",
      " The primary key serves as the backbone of a relational database, ensuring data organization, preventing duplication, and maintaining the integrity of relationships between tables. A primary key in a relational database serves two crucial purposes: Unique Identification and Enforcing Referential Integrity\n",
      "\n",
      "question: What is the purpose of a primary key in a relational database?\n",
      "answer: The primary key serves as the backbone of a relational database, ensuring data organization, preventing duplication, and maintaining the integrity of relationships between tables. A primary key in a relational database serves two crucial purposes: Unique Identification and Enforcing Referential Integrity\n",
      "question summary: Primary key purpose in relational database\n",
      "comment to answer: Great answer! You've covered the key points about primary keys. Just make sure to also mention that a table can only have one primary key.\n",
      "score: 90\n",
      "more questions: CONTINUE\n",
      "new question: What is the difference between a primary key and a foreign key in a relational database?\n"
     ]
    }
   ],
   "source": [
    "question_eng = \"What is the purpose of a primary key in a relational database?\"\n",
    "print('---[bot]---\\n', question_eng)\n",
    "\n",
    "answer_eng = \"The primary key serves as the backbone of a relational database, ensuring data organization, preventing duplication, and maintaining the integrity of relationships between tables. A primary key in a relational database serves two crucial purposes: Unique Identification and Enforcing Referential Integrity\"\n",
    "print('\\n---[user]---\\n', answer_eng)\n",
    "\n",
    "print('\\n')\n",
    "\n",
    "old_questions = ['Relational database definition']\n",
    "\n",
    "questions.append(question_eng)\n",
    "answers.append(answer_eng)\n",
    "\n",
    "_, score, ai_comment = check_llm_with_old_subjects(question_eng, answer_eng)\n",
    "\n",
    "scores.append(score)\n",
    "comments.append(ai_comment)"
   ],
   "metadata": {
    "collapsed": false,
    "ExecuteTime": {
     "end_time": "2023-11-22T14:58:33.515852Z",
     "start_time": "2023-11-22T14:58:26.731483Z"
    }
   },
   "id": "f491bfba36c88897"
  },
  {
   "cell_type": "code",
   "execution_count": 585,
   "outputs": [
    {
     "name": "stdout",
     "output_type": "stream",
     "text": [
      "---[bot]---\n",
      " Can you give an example of how a primary key helps prevent data duplication in a relational database?\n",
      "\n",
      "---[user]---\n",
      " Sure, here is an example of how a primary key helps prevent data duplication in a relational database: Consider a database that stores information about customers and their orders. The Customers table might have the following columns: Customer ID (primary key), First Name, Last Name. The primary key, Customer ID ensures that each customer has a unique identifier. When a new customer record is added to the table, the database checks to see if the Customer ID already exists. If it does, the insert operation fails, preventing the creation of a duplicate record. This mechanism ensures that there is only one record for each customer, preventing data redundancy and maintaining the accuracy of customer information. The primary key acts as a gatekeeper, ensuring that no duplicate data enters the database, preserving its integrity and efficiency.\n",
      "question: Can you give an example of how a primary key helps prevent data duplication in a relational database?\n",
      "answer: Sure, here is an example of how a primary key helps prevent data duplication in a relational database: Consider a database that stores information about customers and their orders. The Customers table might have the following columns: Customer ID (primary key), First Name, Last Name. The primary key, Customer ID ensures that each customer has a unique identifier. When a new customer record is added to the table, the database checks to see if the Customer ID already exists. If it does, the insert operation fails, preventing the creation of a duplicate record. This mechanism ensures that there is only one record for each customer, preventing data redundancy and maintaining the accuracy of customer information. The primary key acts as a gatekeeper, ensuring that no duplicate data enters the database, preserving its integrity and efficiency.\n",
      "question summary: Primary key preventing data duplication\n",
      "comment to answer: Excellent explanation on how primary keys prevent data duplication. However, consider also mentioning the importance of primary keys in the context of relationships between tables.\n",
      "score: 90\n",
      "more questions: CONTINUE\n",
      "new question: Can you explain the difference between a primary key and a foreign key, and how they contribute to the relational model in databases?\n"
     ]
    }
   ],
   "source": [
    "question_eng = \"Can you give an example of how a primary key helps prevent data duplication in a relational database?\"\n",
    "print('---[bot]---\\n', question_eng)\n",
    "\n",
    "answer_eng = \"Sure, here is an example of how a primary key helps prevent data duplication in a relational database: Consider a database that stores information about customers and their orders. The Customers table might have the following columns: Customer ID (primary key), First Name, Last Name. The primary key, Customer ID ensures that each customer has a unique identifier. When a new customer record is added to the table, the database checks to see if the Customer ID already exists. If it does, the insert operation fails, preventing the creation of a duplicate record. This mechanism ensures that there is only one record for each customer, preventing data redundancy and maintaining the accuracy of customer information. The primary key acts as a gatekeeper, ensuring that no duplicate data enters the database, preserving its integrity and efficiency.\"\n",
    "print('\\n---[user]---\\n', answer_eng)\n",
    "\n",
    "print()\n",
    "\n",
    "old_questions = ['Relational database definition', 'The purpose of a primary key in a relational database']\n",
    "\n",
    "questions.append(question_eng)\n",
    "answers.append(answer_eng)\n",
    "\n",
    "_, score, ai_comment = check_llm_with_old_subjects(question_eng, answer_eng)\n",
    "\n",
    "scores.append(score)\n",
    "comments.append(ai_comment)"
   ],
   "metadata": {
    "collapsed": false,
    "ExecuteTime": {
     "end_time": "2023-11-22T14:58:39.221421400Z",
     "start_time": "2023-11-22T14:58:33.517851800Z"
    }
   },
   "id": "49ccdcf07ecb0ebd"
  },
  {
   "cell_type": "code",
   "execution_count": 586,
   "outputs": [
    {
     "name": "stdout",
     "output_type": "stream",
     "text": [
      "60 \t What is a relational database? >> a software to manage structured tabular data > Your answer is partially correct, but you could expand it by discussing how data is organized in tables and the importance of relations between these tables in a relational database. \n",
      "\n",
      "\n",
      "90 \t What is the purpose of a primary key in a relational database? >> The primary key serves as the backbone of a relational database, ensuring data organization, preventing duplication, and maintaining the integrity of relationships between tables. A primary key in a relational database serves two crucial purposes: Unique Identification and Enforcing Referential Integrity > Great answer! You've covered the key points about primary keys. Just make sure to also mention that a table can only have one primary key. \n",
      "\n",
      "\n",
      "90 \t Can you give an example of how a primary key helps prevent data duplication in a relational database? >> Sure, here is an example of how a primary key helps prevent data duplication in a relational database: Consider a database that stores information about customers and their orders. The Customers table might have the following columns: Customer ID (primary key), First Name, Last Name. The primary key, Customer ID ensures that each customer has a unique identifier. When a new customer record is added to the table, the database checks to see if the Customer ID already exists. If it does, the insert operation fails, preventing the creation of a duplicate record. This mechanism ensures that there is only one record for each customer, preventing data redundancy and maintaining the accuracy of customer information. The primary key acts as a gatekeeper, ensuring that no duplicate data enters the database, preserving its integrity and efficiency. > Excellent explanation on how primary keys prevent data duplication. However, consider also mentioning the importance of primary keys in the context of relationships between tables. \n"
     ]
    }
   ],
   "source": [
    "for q, a, c, s in zip(questions, answers, comments, scores):\n",
    "    print(s, '\\t', q, '>>', a, '>', c, '\\n\\n')"
   ],
   "metadata": {
    "collapsed": false,
    "ExecuteTime": {
     "end_time": "2023-11-22T14:58:39.234421400Z",
     "start_time": "2023-11-22T14:58:39.219422200Z"
    }
   },
   "id": "4d819a8919c7bf8e"
  },
  {
   "cell_type": "code",
   "execution_count": 587,
   "outputs": [],
   "source": [
    "prompt_final_score = PromptTemplate(\n",
    "    template=\"\"\"act as an expert {cp} evaluator who has experience in {module}, especially on {skill} ({descr})\n",
    "\n",
    "let's think step by step\n",
    "\n",
    "analyze the list of questions, where each question is followed by the response created by the user, the response generated by you and the score you rated the user for their response\n",
    "\n",
    "then carefully evaluate the user's skills in {skill} by evaluating the user's answers to the questions and relating the scores especially regarding {skill} ({descr})\n",
    "\n",
    "ai_comment: \\\"\\\"\\\"describe in few words the user's skills in relation to the {skill} competence considering that the user is following a course of study to become {cp} and has been examined in relation to the {module} module\\\"\\\"\\\"\n",
    "score: \\\"\\\"\\\"assigns and write a score from 0 to 100 to the user's skills in {skill} based on the evaluations made on the answers provided\\\"\\\"\\\"\n",
    "\n",
    "\n",
    "{format_instructions}\n",
    "\n",
    "\n",
    "\\\"\\\"\\\"{questions}\n",
    "\\\"\\\"\\\"\n",
    "\"\"\",\n",
    "    input_variables=[\"cp\", \"module\", \"skill\", \"questions\", \"descr\"],\n",
    "    partial_variables={\"format_instructions\": final_info_parser.get_format_instructions()},\n",
    ")"
   ],
   "metadata": {
    "collapsed": false,
    "ExecuteTime": {
     "end_time": "2023-11-22T14:58:39.279171100Z",
     "start_time": "2023-11-22T14:58:39.235476100Z"
    }
   },
   "id": "ae87617af6aece23"
  },
  {
   "cell_type": "code",
   "execution_count": 588,
   "outputs": [
    {
     "name": "stdout",
     "output_type": "stream",
     "text": [
      "\n",
      "# question: \"What is a relational database?\" ; answer: \"a software to manage structured tabular data\" ; ai comment: \"Your answer is partially correct, but you could expand it by discussing how data is organized in tables and the importance of relations between these tables in a relational database.\" ; score: \"60\"\n",
      "# question: \"What is the purpose of a primary key in a relational database?\" ; answer: \"The primary key serves as the backbone of a relational database, ensuring data organization, preventing duplication, and maintaining the integrity of relationships between tables. A primary key in a relational database serves two crucial purposes: Unique Identification and Enforcing Referential Integrity\" ; ai comment: \"Great answer! You've covered the key points about primary keys. Just make sure to also mention that a table can only have one primary key.\" ; score: \"90\"\n",
      "# question: \"Can you give an example of how a primary key helps prevent data duplication in a relational database?\" ; answer: \"Sure, here is an example of how a primary key helps prevent data duplication in a relational database: Consider a database that stores information about customers and their orders. The Customers table might have the following columns: Customer ID (primary key), First Name, Last Name. The primary key, Customer ID ensures that each customer has a unique identifier. When a new customer record is added to the table, the database checks to see if the Customer ID already exists. If it does, the insert operation fails, preventing the creation of a duplicate record. This mechanism ensures that there is only one record for each customer, preventing data redundancy and maintaining the accuracy of customer information. The primary key acts as a gatekeeper, ensuring that no duplicate data enters the database, preserving its integrity and efficiency.\" ; ai comment: \"Excellent explanation on how primary keys prevent data duplication. However, consider also mentioning the importance of primary keys in the context of relationships between tables.\" ; score: \"90\"\n"
     ]
    }
   ],
   "source": [
    "prompt_and_model = prompt_final_score | model\n",
    "\n",
    "q_a_s = \"\"\n",
    "\n",
    "for i in range(len(questions)):\n",
    "    q_a_s += \"\\n# question: \\\"\" + questions[i] + \"\\\" ; answer: \\\"\" + answers[i] + \"\\\" ; ai comment: \\\"\" + comments[i] + \"\\\" ; score: \\\"\" + str(scores[i]) + \"\\\"\"\n",
    "    \n",
    "print(q_a_s)"
   ],
   "metadata": {
    "collapsed": false,
    "ExecuteTime": {
     "end_time": "2023-11-22T14:58:39.280157200Z",
     "start_time": "2023-11-22T14:58:39.251124600Z"
    }
   },
   "id": "71e6600530d14790"
  },
  {
   "cell_type": "code",
   "execution_count": 589,
   "outputs": [
    {
     "name": "stdout",
     "output_type": "stream",
     "text": [
      "act as an expert Python Developer evaluator who has experience in Software Development, especially on Relational Database (design and management of relational databases and the main RDBMS)\n",
      "\n",
      "let's think step by step\n",
      "\n",
      "analyze the list of questions, where each question is followed by the response created by the user, the response generated by you and the score you rated the user for their response\n",
      "\n",
      "then carefully evaluate the user's skills in Relational Database by evaluating the user's answers to the questions and relating the scores especially regarding Relational Database (design and management of relational databases and the main RDBMS)\n",
      "\n",
      "ai_comment: \"\"\"describe in few words the user's skills in relation to the Relational Database competence considering that the user is following a course of study to become Python Developer and has been examined in relation to the Software Development module\"\"\"\n",
      "score: \"\"\"assigns and write a score from 0 to 100 to the user's skills in Relational Database based on the evaluations made on the answers provided\"\"\"\n",
      "\n",
      "\n",
      "The output should be formatted as a JSON instance that conforms to the JSON schema below.\n",
      "\n",
      "As an example, for the schema {\"properties\": {\"foo\": {\"title\": \"Foo\", \"description\": \"a list of strings\", \"type\": \"array\", \"items\": {\"type\": \"string\"}}}, \"required\": [\"foo\"]}\n",
      "the object {\"foo\": [\"bar\", \"baz\"]} is a well-formatted instance of the schema. The object {\"properties\": {\"foo\": [\"bar\", \"baz\"]}} is not well-formatted.\n",
      "\n",
      "Here is the output schema:\n",
      "```\n",
      "{\"properties\": {\"ai_comment\": {\"title\": \"Ai Comment\", \"description\": \"comment on the user's answer\", \"type\": \"string\"}, \"score\": {\"title\": \"Score\", \"description\": \"score of the user's answer\", \"type\": \"integer\"}}, \"required\": [\"ai_comment\", \"score\"]}\n",
      "```\n",
      "\n",
      "\n",
      "\"\"\"\n",
      "# question: \"What is a relational database?\" ; answer: \"a software to manage structured tabular data\" ; ai comment: \"Your answer is partially correct, but you could expand it by discussing how data is organized in tables and the importance of relations between these tables in a relational database.\" ; score: \"60\"\n",
      "# question: \"What is the purpose of a primary key in a relational database?\" ; answer: \"The primary key serves as the backbone of a relational database, ensuring data organization, preventing duplication, and maintaining the integrity of relationships between tables. A primary key in a relational database serves two crucial purposes: Unique Identification and Enforcing Referential Integrity\" ; ai comment: \"Great answer! You've covered the key points about primary keys. Just make sure to also mention that a table can only have one primary key.\" ; score: \"90\"\n",
      "# question: \"Can you give an example of how a primary key helps prevent data duplication in a relational database?\" ; answer: \"Sure, here is an example of how a primary key helps prevent data duplication in a relational database: Consider a database that stores information about customers and their orders. The Customers table might have the following columns: Customer ID (primary key), First Name, Last Name. The primary key, Customer ID ensures that each customer has a unique identifier. When a new customer record is added to the table, the database checks to see if the Customer ID already exists. If it does, the insert operation fails, preventing the creation of a duplicate record. This mechanism ensures that there is only one record for each customer, preventing data redundancy and maintaining the accuracy of customer information. The primary key acts as a gatekeeper, ensuring that no duplicate data enters the database, preserving its integrity and efficiency.\" ; ai comment: \"Excellent explanation on how primary keys prevent data duplication. However, consider also mentioning the importance of primary keys in the context of relationships between tables.\" ; score: \"90\"\n",
      "\"\"\"\n"
     ]
    }
   ],
   "source": [
    "print(prompt_final_score.invoke({\n",
    "    \"cp\": cp_eng,\n",
    "    \"module\": module_eng,\n",
    "    \"skill\": skill_eng,\n",
    "    \"descr\": skill_descr_eng,\n",
    "    \"questions\": q_a_s\n",
    "}).text)"
   ],
   "metadata": {
    "collapsed": false,
    "ExecuteTime": {
     "end_time": "2023-11-22T14:58:39.295128200Z",
     "start_time": "2023-11-22T14:58:39.267124400Z"
    }
   },
   "id": "4b097020f8d24561"
  },
  {
   "cell_type": "code",
   "execution_count": 590,
   "outputs": [
    {
     "data": {
      "text/plain": "AIMessage(content='{\\n\"ai_comment\": \"The user has shown a strong understanding of the concepts of relational database, including key elements such as primary keys and prevention of data duplication. They have demonstrated the ability to apply these concepts in practical examples. However, they missed some important aspects like the organization of data in tables and relations between tables in a relational database. Therefore, the user\\'s skills in Relational Database are strong, but there is room for improvement in understanding the full functionality and structure of relational databases.\",\\n\"score\": 80\\n}')"
     },
     "execution_count": 590,
     "metadata": {},
     "output_type": "execute_result"
    }
   ],
   "source": [
    "res = prompt_and_model.invoke({\n",
    "    \"cp\": cp_eng,\n",
    "    \"module\": module_eng,\n",
    "    \"skill\": skill_eng,\n",
    "    \"descr\": skill_descr_eng,\n",
    "    \"questions\": q_a_s\n",
    "})\n",
    "\n",
    "res"
   ],
   "metadata": {
    "collapsed": false,
    "ExecuteTime": {
     "end_time": "2023-11-22T14:58:45.054764100Z",
     "start_time": "2023-11-22T14:58:39.283150700Z"
    }
   },
   "id": "89d6f22a98bf6abb"
  },
  {
   "cell_type": "code",
   "execution_count": 592,
   "outputs": [
    {
     "data": {
      "text/plain": "\"The user has shown a strong understanding of the concepts of relational database, including key elements such as primary keys and prevention of data duplication. They have demonstrated the ability to apply these concepts in practical examples. However, they missed some important aspects like the organization of data in tables and relations between tables in a relational database. Therefore, the user's skills in Relational Database are strong, but there is room for improvement in understanding the full functionality and structure of relational databases.\""
     },
     "execution_count": 592,
     "metadata": {},
     "output_type": "execute_result"
    }
   ],
   "source": [
    "final_info_parser.parse(res.content).ai_comment"
   ],
   "metadata": {
    "collapsed": false,
    "ExecuteTime": {
     "end_time": "2023-11-22T14:58:58.429742500Z",
     "start_time": "2023-11-22T14:58:58.408237200Z"
    }
   },
   "id": "817b9fe147d2fcd2"
  },
  {
   "cell_type": "code",
   "execution_count": 594,
   "outputs": [
    {
     "data": {
      "text/plain": "80"
     },
     "execution_count": 594,
     "metadata": {},
     "output_type": "execute_result"
    }
   ],
   "source": [
    "final_info_parser.parse(res.content).score"
   ],
   "metadata": {
    "collapsed": false,
    "ExecuteTime": {
     "end_time": "2023-11-22T14:59:03.552891Z",
     "start_time": "2023-11-22T14:59:03.495386500Z"
    }
   },
   "id": "2c47bb507c1224b"
  },
  {
   "cell_type": "code",
   "execution_count": 595,
   "outputs": [
    {
     "data": {
      "text/plain": "FinalInfo(ai_comment=\"The user has shown a strong understanding of the concepts of relational database, including key elements such as primary keys and prevention of data duplication. They have demonstrated the ability to apply these concepts in practical examples. However, they missed some important aspects like the organization of data in tables and relations between tables in a relational database. Therefore, the user's skills in Relational Database are strong, but there is room for improvement in understanding the full functionality and structure of relational databases.\", score=80)"
     },
     "execution_count": 595,
     "metadata": {},
     "output_type": "execute_result"
    }
   ],
   "source": [
    "final_info_parser.parse(res.content)"
   ],
   "metadata": {
    "collapsed": false,
    "ExecuteTime": {
     "end_time": "2023-11-22T14:59:06.264242200Z",
     "start_time": "2023-11-22T14:59:06.244912600Z"
    }
   },
   "id": "6e0a1a35ca28b81e"
  },
  {
   "cell_type": "code",
   "execution_count": 28,
   "outputs": [
    {
     "name": "stdout",
     "output_type": "stream",
     "text": [
      "0:00:02.010216 <class 'datetime.timedelta'>\n"
     ]
    }
   ],
   "source": [
    "from datetime import datetime\n",
    "from time import sleep\n",
    "a = datetime.now()\n",
    "sleep(2)\n",
    "b = datetime.now()\n",
    "\n",
    "print(b-a, type(b-a))"
   ],
   "metadata": {
    "collapsed": false,
    "ExecuteTime": {
     "end_time": "2023-11-25T13:23:01.863324300Z",
     "start_time": "2023-11-25T13:22:59.837131800Z"
    }
   },
   "id": "1ba73c9511c2d8c"
  },
  {
   "cell_type": "code",
   "execution_count": null,
   "outputs": [],
   "source": [],
   "metadata": {
    "collapsed": false
   },
   "id": "1ddd1d3b2c6140a4"
  }
 ],
 "metadata": {
  "kernelspec": {
   "display_name": "Python 3",
   "language": "python",
   "name": "python3"
  },
  "language_info": {
   "codemirror_mode": {
    "name": "ipython",
    "version": 2
   },
   "file_extension": ".py",
   "mimetype": "text/x-python",
   "name": "python",
   "nbconvert_exporter": "python",
   "pygments_lexer": "ipython2",
   "version": "2.7.6"
  }
 },
 "nbformat": 4,
 "nbformat_minor": 5
}
