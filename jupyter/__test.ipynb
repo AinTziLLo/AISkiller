{
 "cells": [
  {
   "cell_type": "code",
   "execution_count": 1,
   "outputs": [],
   "source": [
    "from python_developer import PythonDeveloperCP\n",
    "from skills import *"
   ],
   "metadata": {
    "collapsed": false,
    "ExecuteTime": {
     "end_time": "2023-11-19T14:10:27.427642Z",
     "start_time": "2023-11-19T14:10:27.323833700Z"
    }
   },
   "id": "77da7999e6ec6ae7"
  },
  {
   "cell_type": "code",
   "execution_count": 2,
   "outputs": [],
   "source": [
    "python_developer_cp = PythonDeveloperCP()"
   ],
   "metadata": {
    "collapsed": false,
    "ExecuteTime": {
     "end_time": "2023-11-19T14:10:27.443660800Z",
     "start_time": "2023-11-19T14:10:27.422644400Z"
    }
   },
   "id": "a7e7abadcfdb3acf"
  },
  {
   "cell_type": "code",
   "execution_count": 3,
   "outputs": [
    {
     "data": {
      "text/plain": "[('Programmazione', 'Basi di Dati Relazionali'),\n ('Reti', 'Cloud Computing'),\n ('Data Science', 'Data Driven Mindset'),\n ('Machine Learning', 'Introduzione al Machine Learning')]"
     },
     "execution_count": 3,
     "metadata": {},
     "output_type": "execute_result"
    }
   ],
   "source": [
    "[(x.name, y.name) for (x, y) in python_developer_cp.get_skills_to_evaluate()]"
   ],
   "metadata": {
    "collapsed": false,
    "ExecuteTime": {
     "end_time": "2023-11-19T14:10:27.480502600Z",
     "start_time": "2023-11-19T14:10:27.438642600Z"
    }
   },
   "id": "998e03243de00058"
  },
  {
   "cell_type": "code",
   "execution_count": 4,
   "outputs": [
    {
     "name": "stdout",
     "output_type": "stream",
     "text": [
      "***** Python Developer *****\n",
      "Programmazione\n",
      "\t Programmazione Procedurale\n",
      "\t Programmazione ad Oggetti\n",
      "\t Programmazione Funzionale\n",
      "\t Programmazione Concorrente\n",
      "\t Progettazione di DB\n",
      "\t Basi di Dati Relazionali\n",
      "\t\t MySQL\n",
      "\t\t PostgreSQL\n",
      "\t Python\n",
      "Reti\n",
      "\t Cloud Computing\n",
      "\t\t Introduzione al Cloud Computing\n",
      "Data Science\n",
      "\t Data Driven Mindset\n",
      "Machine Learning\n",
      "\t Introduzione al Machine Learning\n"
     ]
    }
   ],
   "source": [
    "CarrierPathName = python_developer_cp.name\n",
    "CarrierPathModules = python_developer_cp.modules\n",
    "\n",
    "print(\"*\" * 5, CarrierPathName, \"*\" * 5)\n",
    "for skill_family in CarrierPathModules:\n",
    "    print(skill_family.name)\n",
    "    for sub_family in skill_family.sub_skills:\n",
    "        print('\\t', sub_family.name)\n",
    "        for sub_skill in sub_family.sub_skills:\n",
    "            print('\\t\\t', sub_skill.name)"
   ],
   "metadata": {
    "collapsed": false,
    "ExecuteTime": {
     "end_time": "2023-11-19T14:10:28.504132200Z",
     "start_time": "2023-11-19T14:10:28.467024900Z"
    }
   },
   "id": "93a7e33ddaef9d6d"
  },
  {
   "cell_type": "code",
   "execution_count": 5,
   "outputs": [
    {
     "name": "stdout",
     "output_type": "stream",
     "text": [
      "Programmazione Concorrente\n"
     ]
    }
   ],
   "source": [
    "print(CarrierPathModules[0].get_skill_to_evaluate().name)"
   ],
   "metadata": {
    "collapsed": false,
    "ExecuteTime": {
     "end_time": "2023-11-19T14:10:29.566748Z",
     "start_time": "2023-11-19T14:10:29.534735100Z"
    }
   },
   "id": "fb722122e403e501"
  },
  {
   "cell_type": "code",
   "execution_count": 6,
   "outputs": [
    {
     "name": "stdout",
     "output_type": "stream",
     "text": [
      "Programmazione Concorrente\n"
     ]
    }
   ],
   "source": [
    "SKILL_ProgrammazioneProcedurale.score = 10\n",
    "\n",
    "print(CarrierPathModules[0].get_skill_to_evaluate().name)"
   ],
   "metadata": {
    "collapsed": false,
    "ExecuteTime": {
     "end_time": "2023-11-19T14:10:30.144580200Z",
     "start_time": "2023-11-19T14:10:30.118918300Z"
    }
   },
   "id": "801b3274232020d8"
  },
  {
   "cell_type": "code",
   "execution_count": 7,
   "outputs": [
    {
     "name": "stdout",
     "output_type": "stream",
     "text": [
      "Programmazione Concorrente\n"
     ]
    }
   ],
   "source": [
    "SKILL_ProgrammazioneOOP.score = 10\n",
    "\n",
    "print(CarrierPathModules[0].get_skill_to_evaluate().name)"
   ],
   "metadata": {
    "collapsed": false,
    "ExecuteTime": {
     "end_time": "2023-11-19T14:10:30.598860200Z",
     "start_time": "2023-11-19T14:10:30.568857700Z"
    }
   },
   "id": "35b645fc8f1f41c0"
  },
  {
   "cell_type": "code",
   "execution_count": 8,
   "outputs": [
    {
     "name": "stdout",
     "output_type": "stream",
     "text": [
      "Progettazione di DB\n"
     ]
    }
   ],
   "source": [
    "SKILL_ProgrammazioneFunzionale.score = 15\n",
    "\n",
    "print(CarrierPathModules[0].get_skill_to_evaluate().name)"
   ],
   "metadata": {
    "collapsed": false,
    "ExecuteTime": {
     "end_time": "2023-11-19T14:10:30.841538200Z",
     "start_time": "2023-11-19T14:10:30.816536900Z"
    }
   },
   "id": "d14c4e440596a9ee"
  },
  {
   "cell_type": "code",
   "execution_count": 9,
   "outputs": [
    {
     "name": "stdout",
     "output_type": "stream",
     "text": [
      "Basi di Dati Relazionali\n"
     ]
    }
   ],
   "source": [
    "SKILL_ProgrammazioneConcorrente.score = 2\n",
    "\n",
    "print(CarrierPathModules[0].get_skill_to_evaluate().name)"
   ],
   "metadata": {
    "collapsed": false,
    "ExecuteTime": {
     "end_time": "2023-11-19T14:10:30.931569800Z",
     "start_time": "2023-11-19T14:10:30.908539100Z"
    }
   },
   "id": "5efa8fdb2f014a6b"
  },
  {
   "cell_type": "code",
   "execution_count": 10,
   "outputs": [
    {
     "name": "stdout",
     "output_type": "stream",
     "text": [
      "Basi di Dati Relazionali\n"
     ]
    }
   ],
   "source": [
    "SKILL_ProgettazioneDiDB.score = 1\n",
    "\n",
    "print(CarrierPathModules[0].get_skill_to_evaluate().name)"
   ],
   "metadata": {
    "collapsed": false,
    "ExecuteTime": {
     "end_time": "2023-11-19T14:10:31.088564Z",
     "start_time": "2023-11-19T14:10:31.065533500Z"
    }
   },
   "id": "74b42f92aa8015c3"
  },
  {
   "cell_type": "code",
   "execution_count": 11,
   "outputs": [
    {
     "name": "stdout",
     "output_type": "stream",
     "text": [
      "Progettazione di DB\n"
     ]
    }
   ],
   "source": [
    "SKILL_BasiDiDatiRelazionali.score = 5\n",
    "\n",
    "print(CarrierPathModules[0].get_skill_to_evaluate().name)"
   ],
   "metadata": {
    "collapsed": false,
    "ExecuteTime": {
     "end_time": "2023-11-19T14:10:31.266678600Z",
     "start_time": "2023-11-19T14:10:31.236534100Z"
    }
   },
   "id": "d826896745a67833"
  },
  {
   "cell_type": "code",
   "execution_count": 12,
   "outputs": [],
   "source": [
    "SKILL_Python.score = 12\n",
    "SKILL_Programmazione.score = 10"
   ],
   "metadata": {
    "collapsed": false,
    "ExecuteTime": {
     "end_time": "2023-11-19T14:10:31.449377500Z",
     "start_time": "2023-11-19T14:10:31.428456800Z"
    }
   },
   "id": "8e56b69574a6eee2"
  },
  {
   "cell_type": "code",
   "execution_count": 13,
   "outputs": [
    {
     "data": {
      "text/plain": "'Progettazione di DB'"
     },
     "execution_count": 13,
     "metadata": {},
     "output_type": "execute_result"
    }
   ],
   "source": [
    "CarrierPathModules[0].get_skill_to_evaluate().name"
   ],
   "metadata": {
    "collapsed": false,
    "ExecuteTime": {
     "end_time": "2023-11-19T14:10:32.106523300Z",
     "start_time": "2023-11-19T14:10:32.076493Z"
    }
   },
   "id": "50209552c7252cd1"
  },
  {
   "cell_type": "code",
   "execution_count": 14,
   "outputs": [
    {
     "data": {
      "text/plain": "[('Programmazione Procedurale', 10),\n ('Programmazione ad Oggetti', 10),\n ('Programmazione Funzionale', 15),\n ('Programmazione Concorrente', 2),\n ('Progettazione di DB', 1),\n ('Basi di Dati Relazionali', 5),\n ('Python', 12)]"
     },
     "execution_count": 14,
     "metadata": {},
     "output_type": "execute_result"
    }
   ],
   "source": [
    "[(x.name, x.score) for x in CarrierPathModules[0].sub_skills]"
   ],
   "metadata": {
    "collapsed": false,
    "ExecuteTime": {
     "end_time": "2023-11-19T14:10:33.135280100Z",
     "start_time": "2023-11-19T14:10:33.127284Z"
    }
   },
   "id": "124a5141fecea38e"
  },
  {
   "cell_type": "code",
   "execution_count": null,
   "outputs": [],
   "source": [],
   "metadata": {
    "collapsed": false,
    "ExecuteTime": {
     "start_time": "2023-11-18T15:55:00.328118Z"
    }
   },
   "id": "8c555fa05f52aa1a"
  }
 ],
 "metadata": {
  "kernelspec": {
   "display_name": "Python 3",
   "language": "python",
   "name": "python3"
  },
  "language_info": {
   "codemirror_mode": {
    "name": "ipython",
    "version": 2
   },
   "file_extension": ".py",
   "mimetype": "text/x-python",
   "name": "python",
   "nbconvert_exporter": "python",
   "pygments_lexer": "ipython2",
   "version": "2.7.6"
  }
 },
 "nbformat": 4,
 "nbformat_minor": 5
}
