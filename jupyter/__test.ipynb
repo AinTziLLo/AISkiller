{
 "cells": [
  {
   "cell_type": "code",
   "execution_count": 1,
   "outputs": [],
   "source": [
    "from python_developer import PythonDeveloperCP\n",
    "from skills import *"
   ],
   "metadata": {
    "collapsed": false,
    "ExecuteTime": {
     "end_time": "2023-11-17T23:47:42.444928100Z",
     "start_time": "2023-11-17T23:47:42.427934100Z"
    }
   },
   "id": "77da7999e6ec6ae7"
  },
  {
   "cell_type": "code",
   "execution_count": 2,
   "outputs": [],
   "source": [
    "python_developer_cp = PythonDeveloperCP()"
   ],
   "metadata": {
    "collapsed": false,
    "ExecuteTime": {
     "end_time": "2023-11-17T23:47:42.460480900Z",
     "start_time": "2023-11-17T23:47:42.446936200Z"
    }
   },
   "id": "a7e7abadcfdb3acf"
  },
  {
   "cell_type": "code",
   "execution_count": 18,
   "outputs": [
    {
     "data": {
      "text/plain": "'Python Developer'"
     },
     "execution_count": 18,
     "metadata": {},
     "output_type": "execute_result"
    }
   ],
   "source": [
    "python_developer_cp.get_skill_to_evaluate().name"
   ],
   "metadata": {
    "collapsed": false,
    "ExecuteTime": {
     "end_time": "2023-11-17T23:47:56.511424100Z",
     "start_time": "2023-11-17T23:47:56.483597900Z"
    }
   },
   "id": "64c1a7c620bd44c3"
  },
  {
   "cell_type": "code",
   "execution_count": 19,
   "outputs": [
    {
     "name": "stdout",
     "output_type": "stream",
     "text": [
      "***** Python Developer *****\n",
      "Programmazione\n",
      "\t Programmazione Procedurale\n",
      "\t Programmazione ad Oggetti\n",
      "\t Programmazione Funzionale\n",
      "\t Programmazione Concorrente\n",
      "\t Progettazione di DB\n",
      "\t Basi di Dati Relazionali\n",
      "\t\t MySQL\n",
      "\t\t PostgreSQL\n",
      "\t Python\n",
      "Reti\n",
      "\t Cloud Computing\n",
      "\t\t Introduzione al Cloud Computing\n",
      "Data Science\n",
      "\t Data Driven Mindset\n",
      "Machine Learning\n",
      "\t Introduzione al Machine Learning\n"
     ]
    }
   ],
   "source": [
    "CarrierPathName = python_developer_cp.name\n",
    "CarrierPathModules = python_developer_cp.modules\n",
    "\n",
    "print(\"*\" * 5, CarrierPathName, \"*\" * 5)\n",
    "for skill_family in CarrierPathModules:\n",
    "    print(skill_family.name)\n",
    "    for sub_family in skill_family.sub_skills:\n",
    "        print('\\t', sub_family.name)\n",
    "        for sub_skill in sub_family.sub_skills:\n",
    "            print('\\t\\t', sub_skill.name)"
   ],
   "metadata": {
    "collapsed": false,
    "ExecuteTime": {
     "end_time": "2023-11-17T23:47:58.676043500Z",
     "start_time": "2023-11-17T23:47:58.665045700Z"
    }
   },
   "id": "93a7e33ddaef9d6d"
  },
  {
   "cell_type": "code",
   "execution_count": 25,
   "outputs": [
    {
     "name": "stdout",
     "output_type": "stream",
     "text": [
      "Basi di Dati Relazionali\n"
     ]
    }
   ],
   "source": [
    "if type(CarrierPathModules[0].evaluate()) == Skill:\n",
    "    print(CarrierPathModules[0].evaluate().name)"
   ],
   "metadata": {
    "collapsed": false,
    "ExecuteTime": {
     "end_time": "2023-11-17T23:48:15.640184900Z",
     "start_time": "2023-11-17T23:48:15.614953100Z"
    }
   },
   "id": "fb722122e403e501"
  },
  {
   "cell_type": "code",
   "execution_count": 26,
   "outputs": [
    {
     "name": "stdout",
     "output_type": "stream",
     "text": [
      "Basi di Dati Relazionali\n"
     ]
    }
   ],
   "source": [
    "SKILL_ProgrammazioneProcedurale.score = 10\n",
    "\n",
    "if type(CarrierPathModules[0].evaluate()) == Skill:\n",
    "    print(CarrierPathModules[0].evaluate().name)"
   ],
   "metadata": {
    "collapsed": false,
    "ExecuteTime": {
     "end_time": "2023-11-17T23:48:16.124324300Z",
     "start_time": "2023-11-17T23:48:16.102862100Z"
    }
   },
   "id": "801b3274232020d8"
  },
  {
   "cell_type": "code",
   "execution_count": 27,
   "outputs": [
    {
     "name": "stdout",
     "output_type": "stream",
     "text": [
      "Basi di Dati Relazionali\n"
     ]
    }
   ],
   "source": [
    "SKILL_ProgrammazioneOOP.score = 10\n",
    "\n",
    "if type(CarrierPathModules[0].evaluate()) == Skill:\n",
    "    print(CarrierPathModules[0].evaluate().name)"
   ],
   "metadata": {
    "collapsed": false,
    "ExecuteTime": {
     "end_time": "2023-11-17T23:48:17.618548900Z",
     "start_time": "2023-11-17T23:48:17.607516700Z"
    }
   },
   "id": "35b645fc8f1f41c0"
  },
  {
   "cell_type": "code",
   "execution_count": 28,
   "outputs": [
    {
     "name": "stdout",
     "output_type": "stream",
     "text": [
      "Basi di Dati Relazionali\n"
     ]
    }
   ],
   "source": [
    "SKILL_ProgrammazioneFunzionale.score = 15\n",
    "\n",
    "if type(CarrierPathModules[0].evaluate()) == Skill:\n",
    "    print(CarrierPathModules[0].evaluate().name)"
   ],
   "metadata": {
    "collapsed": false,
    "ExecuteTime": {
     "end_time": "2023-11-17T23:48:18.266126200Z",
     "start_time": "2023-11-17T23:48:18.237904100Z"
    }
   },
   "id": "d14c4e440596a9ee"
  },
  {
   "cell_type": "code",
   "execution_count": 29,
   "outputs": [
    {
     "name": "stdout",
     "output_type": "stream",
     "text": [
      "Basi di Dati Relazionali\n"
     ]
    }
   ],
   "source": [
    "SKILL_ProgrammazioneConcorrente.score = 2\n",
    "\n",
    "if type(CarrierPathModules[0].evaluate()) == Skill:\n",
    "    print(CarrierPathModules[0].evaluate().name)"
   ],
   "metadata": {
    "collapsed": false,
    "ExecuteTime": {
     "end_time": "2023-11-17T23:48:18.977463500Z",
     "start_time": "2023-11-17T23:48:18.967466100Z"
    }
   },
   "id": "5efa8fdb2f014a6b"
  },
  {
   "cell_type": "code",
   "execution_count": 30,
   "outputs": [
    {
     "name": "stdout",
     "output_type": "stream",
     "text": [
      "Basi di Dati Relazionali\n"
     ]
    }
   ],
   "source": [
    "SKILL_ProgettazioneDiDB.score = 1\n",
    "\n",
    "if type(CarrierPathModules[0].evaluate()) == Skill:\n",
    "    print(CarrierPathModules[0].evaluate().name)"
   ],
   "metadata": {
    "collapsed": false,
    "ExecuteTime": {
     "end_time": "2023-11-17T23:48:19.860869500Z",
     "start_time": "2023-11-17T23:48:19.832871Z"
    }
   },
   "id": "74b42f92aa8015c3"
  },
  {
   "cell_type": "code",
   "execution_count": 31,
   "outputs": [],
   "source": [
    "SKILL_BasiDiDatiRelazionali.score = 5\n",
    "\n",
    "if type(CarrierPathModules[0].evaluate()) == Skill:\n",
    "    print(CarrierPathModules[0].evaluate().name)"
   ],
   "metadata": {
    "collapsed": false,
    "ExecuteTime": {
     "end_time": "2023-11-17T23:48:20.634371Z",
     "start_time": "2023-11-17T23:48:20.624366400Z"
    }
   },
   "id": "d826896745a67833"
  },
  {
   "cell_type": "code",
   "execution_count": 32,
   "outputs": [
    {
     "data": {
      "text/plain": "6"
     },
     "execution_count": 32,
     "metadata": {},
     "output_type": "execute_result"
    }
   ],
   "source": [
    "SKILL_Python.score = 12\n",
    "\n",
    "CarrierPathModules[0].evaluate()"
   ],
   "metadata": {
    "collapsed": false,
    "ExecuteTime": {
     "end_time": "2023-11-17T23:48:22.720623900Z",
     "start_time": "2023-11-17T23:48:22.712624800Z"
    }
   },
   "id": "97cf867c186f0b6d"
  },
  {
   "cell_type": "code",
   "execution_count": 33,
   "outputs": [
    {
     "data": {
      "text/plain": "[('Programmazione Procedurale', 10),\n ('Programmazione ad Oggetti', 10),\n ('Programmazione Funzionale', 15),\n ('Programmazione Concorrente', 2),\n ('Progettazione di DB', 1),\n ('Basi di Dati Relazionali', 5),\n ('Python', 12)]"
     },
     "execution_count": 33,
     "metadata": {},
     "output_type": "execute_result"
    }
   ],
   "source": [
    "[(x.name, x.score) for x in CarrierPathModules[0].sub_skills]"
   ],
   "metadata": {
    "collapsed": false,
    "ExecuteTime": {
     "end_time": "2023-11-17T23:48:23.995499400Z",
     "start_time": "2023-11-17T23:48:23.978190300Z"
    }
   },
   "id": "124a5141fecea38e"
  },
  {
   "cell_type": "code",
   "execution_count": 11,
   "outputs": [],
   "source": [],
   "metadata": {
    "collapsed": false,
    "ExecuteTime": {
     "end_time": "2023-11-17T16:41:53.156505800Z",
     "start_time": "2023-11-17T16:41:53.049931200Z"
    }
   },
   "id": "8c555fa05f52aa1a"
  }
 ],
 "metadata": {
  "kernelspec": {
   "display_name": "Python 3",
   "language": "python",
   "name": "python3"
  },
  "language_info": {
   "codemirror_mode": {
    "name": "ipython",
    "version": 2
   },
   "file_extension": ".py",
   "mimetype": "text/x-python",
   "name": "python",
   "nbconvert_exporter": "python",
   "pygments_lexer": "ipython2",
   "version": "2.7.6"
  }
 },
 "nbformat": 4,
 "nbformat_minor": 5
}
