{
 "cells": [
  {
   "cell_type": "code",
   "execution_count": 10,
   "outputs": [],
   "source": [
    "from python_developer import PythonDeveloperCP\n",
    "from python_developer_skills import *"
   ],
   "metadata": {
    "collapsed": false,
    "ExecuteTime": {
     "end_time": "2023-11-17T22:43:08.823654300Z",
     "start_time": "2023-11-17T22:43:08.807658200Z"
    }
   },
   "id": "77da7999e6ec6ae7"
  },
  {
   "cell_type": "code",
   "execution_count": 11,
   "outputs": [
    {
     "name": "stdout",
     "output_type": "stream",
     "text": [
      "***** [Carrier path name] *****\n",
      "Programmazione\n",
      "\t Programmazione Procedurale\n",
      "\t Programmazione ad Oggetti\n",
      "\t Programmazione Funzionale\n",
      "\t Programmazione Concorrente\n",
      "\t Progettazione di DB\n",
      "\t Basi di Dati Relazionali\n",
      "\t\t MySQL\n",
      "\t\t PostgreSQL\n",
      "\t Python\n",
      "Reti\n",
      "\t Cloud Computing\n",
      "\t\t Introduzione al Cloud Computing\n",
      "Data Science\n",
      "\t Data Driven Mindset\n",
      "Machine Learning\n",
      "\t Introduzione al Machine Learning\n"
     ]
    }
   ],
   "source": [
    "python_developer_cp = PythonDeveloperCP()\n",
    "\n",
    "CarrierPathName = python_developer_cp.name\n",
    "CarrierPathModules = python_developer_cp.modules\n",
    "\n",
    "print(\"*\" * 5, CarrierPathName, \"*\" * 5)\n",
    "for skill_family in CarrierPathModules:\n",
    "    print(skill_family.name)\n",
    "    for sub_family in skill_family.sub_skills:\n",
    "        print('\\t', sub_family.name)\n",
    "        for sub_skill in sub_family.sub_skills:\n",
    "            print('\\t\\t', sub_skill.name)"
   ],
   "metadata": {
    "collapsed": false,
    "ExecuteTime": {
     "end_time": "2023-11-17T22:43:09.814725600Z",
     "start_time": "2023-11-17T22:43:09.783014400Z"
    }
   },
   "id": "23d439b90515ad72"
  },
  {
   "cell_type": "code",
   "execution_count": 16,
   "outputs": [
    {
     "name": "stdout",
     "output_type": "stream",
     "text": [
      "Programmazione ad Oggetti\n"
     ]
    }
   ],
   "source": [
    "if type(CarrierPathModules[0].evaluate()) == Skill:\n",
    "    print(CarrierPathModules[0].evaluate().name)"
   ],
   "metadata": {
    "collapsed": false,
    "ExecuteTime": {
     "end_time": "2023-11-17T22:43:15.299473700Z",
     "start_time": "2023-11-17T22:43:15.276434Z"
    }
   },
   "id": "fb722122e403e501"
  },
  {
   "cell_type": "code",
   "execution_count": 19,
   "outputs": [
    {
     "name": "stdout",
     "output_type": "stream",
     "text": [
      "Python\n"
     ]
    }
   ],
   "source": [
    "SKILL_ProgrammazioneProcedurale.score = 10\n",
    "\n",
    "if type(CarrierPathModules[0].evaluate()) == Skill:\n",
    "    print(CarrierPathModules[0].evaluate().name)"
   ],
   "metadata": {
    "collapsed": false,
    "ExecuteTime": {
     "end_time": "2023-11-17T22:43:18.015581700Z",
     "start_time": "2023-11-17T22:43:17.967476800Z"
    }
   },
   "id": "801b3274232020d8"
  },
  {
   "cell_type": "code",
   "execution_count": 20,
   "outputs": [
    {
     "name": "stdout",
     "output_type": "stream",
     "text": [
      "Programmazione Concorrente\n"
     ]
    }
   ],
   "source": [
    "SKILL_ProgrammazioneOOP.score = 10\n",
    "\n",
    "if type(CarrierPathModules[0].evaluate()) == Skill:\n",
    "    print(CarrierPathModules[0].evaluate().name)"
   ],
   "metadata": {
    "collapsed": false,
    "ExecuteTime": {
     "end_time": "2023-11-17T22:43:19.084158800Z",
     "start_time": "2023-11-17T22:43:19.061155400Z"
    }
   },
   "id": "35b645fc8f1f41c0"
  },
  {
   "cell_type": "code",
   "execution_count": 21,
   "outputs": [
    {
     "name": "stdout",
     "output_type": "stream",
     "text": [
      "Progettazione di DB\n"
     ]
    }
   ],
   "source": [
    "SKILL_ProgrammazioneFunzionale.score = 15\n",
    "\n",
    "if type(CarrierPathModules[0].evaluate()) == Skill:\n",
    "    print(CarrierPathModules[0].evaluate().name)"
   ],
   "metadata": {
    "collapsed": false,
    "ExecuteTime": {
     "end_time": "2023-11-17T22:43:20.989431700Z",
     "start_time": "2023-11-17T22:43:20.957748500Z"
    }
   },
   "id": "d14c4e440596a9ee"
  },
  {
   "cell_type": "code",
   "execution_count": 22,
   "outputs": [
    {
     "name": "stdout",
     "output_type": "stream",
     "text": [
      "Progettazione di DB\n"
     ]
    }
   ],
   "source": [
    "SKILL_ProgrammazioneConcorrente.score = 2\n",
    "\n",
    "if type(CarrierPathModules[0].evaluate()) == Skill:\n",
    "    print(CarrierPathModules[0].evaluate().name)"
   ],
   "metadata": {
    "collapsed": false,
    "ExecuteTime": {
     "end_time": "2023-11-17T22:43:21.596880400Z",
     "start_time": "2023-11-17T22:43:21.582882900Z"
    }
   },
   "id": "5efa8fdb2f014a6b"
  },
  {
   "cell_type": "code",
   "execution_count": 23,
   "outputs": [
    {
     "name": "stdout",
     "output_type": "stream",
     "text": [
      "Python\n"
     ]
    }
   ],
   "source": [
    "SKILL_ProgettazioneDiDB.score = 1\n",
    "\n",
    "if type(CarrierPathModules[0].evaluate()) == Skill:\n",
    "    print(CarrierPathModules[0].evaluate().name)"
   ],
   "metadata": {
    "collapsed": false,
    "ExecuteTime": {
     "end_time": "2023-11-17T22:43:22.220958400Z",
     "start_time": "2023-11-17T22:43:22.206959Z"
    }
   },
   "id": "74b42f92aa8015c3"
  },
  {
   "cell_type": "code",
   "execution_count": 24,
   "outputs": [
    {
     "name": "stdout",
     "output_type": "stream",
     "text": [
      "Python\n"
     ]
    }
   ],
   "source": [
    "SKILL_BasiDiDatiRelazionali.score = 5\n",
    "\n",
    "if type(CarrierPathModules[0].evaluate()) == Skill:\n",
    "    print(CarrierPathModules[0].evaluate().name)"
   ],
   "metadata": {
    "collapsed": false,
    "ExecuteTime": {
     "end_time": "2023-11-17T22:43:23.126194100Z",
     "start_time": "2023-11-17T22:43:23.101192100Z"
    }
   },
   "id": "d826896745a67833"
  },
  {
   "cell_type": "code",
   "execution_count": 25,
   "outputs": [
    {
     "data": {
      "text/plain": "7"
     },
     "execution_count": 25,
     "metadata": {},
     "output_type": "execute_result"
    }
   ],
   "source": [
    "SKILL_Python.score = 12\n",
    "\n",
    "CarrierPathModules[0].evaluate()"
   ],
   "metadata": {
    "collapsed": false,
    "ExecuteTime": {
     "end_time": "2023-11-17T22:43:24.281567500Z",
     "start_time": "2023-11-17T22:43:24.251517400Z"
    }
   },
   "id": "97cf867c186f0b6d"
  },
  {
   "cell_type": "code",
   "execution_count": 26,
   "outputs": [
    {
     "data": {
      "text/plain": "[('Programmazione Procedurale', 10),\n ('Programmazione ad Oggetti', 10),\n ('Programmazione Funzionale', 15),\n ('Programmazione Concorrente', 2),\n ('Progettazione di DB', 1),\n ('Basi di Dati Relazionali', 5),\n ('Python', 12)]"
     },
     "execution_count": 26,
     "metadata": {},
     "output_type": "execute_result"
    }
   ],
   "source": [
    "[(x.name, x.score) for x in CarrierPathModules[0].sub_skills]"
   ],
   "metadata": {
    "collapsed": false,
    "ExecuteTime": {
     "end_time": "2023-11-17T22:43:26.245579500Z",
     "start_time": "2023-11-17T22:43:26.231547900Z"
    }
   },
   "id": "124a5141fecea38e"
  },
  {
   "cell_type": "code",
   "execution_count": 11,
   "outputs": [],
   "source": [],
   "metadata": {
    "collapsed": false,
    "ExecuteTime": {
     "end_time": "2023-11-17T16:41:53.156505800Z",
     "start_time": "2023-11-17T16:41:53.049931200Z"
    }
   },
   "id": "8c555fa05f52aa1a"
  }
 ],
 "metadata": {
  "kernelspec": {
   "display_name": "Python 3",
   "language": "python",
   "name": "python3"
  },
  "language_info": {
   "codemirror_mode": {
    "name": "ipython",
    "version": 2
   },
   "file_extension": ".py",
   "mimetype": "text/x-python",
   "name": "python",
   "nbconvert_exporter": "python",
   "pygments_lexer": "ipython2",
   "version": "2.7.6"
  }
 },
 "nbformat": 4,
 "nbformat_minor": 5
}
