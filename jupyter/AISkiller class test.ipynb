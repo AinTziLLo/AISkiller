{
 "cells": [
  {
   "cell_type": "code",
   "execution_count": 3,
   "id": "initial_id",
   "metadata": {
    "collapsed": true,
    "ExecuteTime": {
     "end_time": "2023-11-17T14:19:04.959516800Z",
     "start_time": "2023-11-17T14:19:04.877840800Z"
    }
   },
   "outputs": [
    {
     "ename": "NameError",
     "evalue": "name 'null' is not defined",
     "output_type": "error",
     "traceback": [
      "\u001B[1;31m---------------------------------------------------------------------------\u001B[0m",
      "\u001B[1;31mNameError\u001B[0m                                 Traceback (most recent call last)",
      "Cell \u001B[1;32mIn[3], line 14\u001B[0m\n\u001B[0;32m     12\u001B[0m \u001B[38;5;28;01mimport\u001B[39;00m \u001B[38;5;21;01mcsv\u001B[39;00m\n\u001B[0;32m     13\u001B[0m \u001B[38;5;28;01mfrom\u001B[39;00m \u001B[38;5;21;01mdatetime\u001B[39;00m \u001B[38;5;28;01mimport\u001B[39;00m datetime\n\u001B[1;32m---> 14\u001B[0m \u001B[38;5;28;01mfrom\u001B[39;00m \u001B[38;5;21;01mcarrier_path_python_developer\u001B[39;00m \u001B[38;5;28;01mimport\u001B[39;00m CarrierPath\n\u001B[0;32m     17\u001B[0m \u001B[38;5;28;01mclass\u001B[39;00m \u001B[38;5;21;01mAISkiller\u001B[39;00m:\n\u001B[0;32m     18\u001B[0m     \u001B[38;5;28;01mdef\u001B[39;00m \u001B[38;5;21msetup\u001B[39m(\u001B[38;5;28mself\u001B[39m, profession\u001B[38;5;241m=\u001B[39m\u001B[38;5;124m\"\u001B[39m\u001B[38;5;124mMachine Learning Engineer\u001B[39m\u001B[38;5;124m\"\u001B[39m, student\u001B[38;5;241m=\u001B[39m\u001B[38;5;124m\"\u001B[39m\u001B[38;5;124mMario Rossi\u001B[39m\u001B[38;5;124m\"\u001B[39m, questions_number\u001B[38;5;241m=\u001B[39m\u001B[38;5;241m3\u001B[39m, verbose\u001B[38;5;241m=\u001B[39m\u001B[38;5;28;01mTrue\u001B[39;00m,\n\u001B[0;32m     19\u001B[0m               fake_data\u001B[38;5;241m=\u001B[39m\u001B[38;5;28;01mFalse\u001B[39;00m):\n\u001B[0;32m     20\u001B[0m         \u001B[38;5;66;03m# ---\u001B[39;00m\n",
      "File \u001B[1;32mC:\\Cloud\\GitHub\\AISkiller\\jupyter\\carrier_path_python_developer.py:5\u001B[0m\n\u001B[0;32m      1\u001B[0m {\n\u001B[0;32m      2\u001B[0m  \u001B[38;5;124m\"\u001B[39m\u001B[38;5;124mcells\u001B[39m\u001B[38;5;124m\"\u001B[39m: [\n\u001B[0;32m      3\u001B[0m   {\n\u001B[0;32m      4\u001B[0m    \u001B[38;5;124m\"\u001B[39m\u001B[38;5;124mcell_type\u001B[39m\u001B[38;5;124m\"\u001B[39m: \u001B[38;5;124m\"\u001B[39m\u001B[38;5;124mcode\u001B[39m\u001B[38;5;124m\"\u001B[39m,\n\u001B[1;32m----> 5\u001B[0m    \u001B[38;5;124m\"\u001B[39m\u001B[38;5;124mexecution_count\u001B[39m\u001B[38;5;124m\"\u001B[39m: \u001B[43mnull\u001B[49m,\n\u001B[0;32m      6\u001B[0m    \u001B[38;5;124m\"\u001B[39m\u001B[38;5;124mid\u001B[39m\u001B[38;5;124m\"\u001B[39m: \u001B[38;5;124m\"\u001B[39m\u001B[38;5;124minitial_id\u001B[39m\u001B[38;5;124m\"\u001B[39m,\n\u001B[0;32m      7\u001B[0m    \u001B[38;5;124m\"\u001B[39m\u001B[38;5;124mmetadata\u001B[39m\u001B[38;5;124m\"\u001B[39m: {\n\u001B[0;32m      8\u001B[0m     \u001B[38;5;124m\"\u001B[39m\u001B[38;5;124mcollapsed\u001B[39m\u001B[38;5;124m\"\u001B[39m: true\n\u001B[0;32m      9\u001B[0m    },\n\u001B[0;32m     10\u001B[0m    \u001B[38;5;124m\"\u001B[39m\u001B[38;5;124moutputs\u001B[39m\u001B[38;5;124m\"\u001B[39m: [],\n\u001B[0;32m     11\u001B[0m    \u001B[38;5;124m\"\u001B[39m\u001B[38;5;124msource\u001B[39m\u001B[38;5;124m\"\u001B[39m: [\n\u001B[0;32m     12\u001B[0m     \u001B[38;5;124m\"\u001B[39m\u001B[38;5;124mSKILL_MY_SQL = \u001B[39m\u001B[38;5;124m{\u001B[39m\u001B[38;5;130;01m\\n\u001B[39;00m\u001B[38;5;124m\"\u001B[39m,\n\u001B[0;32m     13\u001B[0m     \u001B[38;5;124m\"\u001B[39m\u001B[38;5;124m    \u001B[39m\u001B[38;5;130;01m\\\"\u001B[39;00m\u001B[38;5;124mname\u001B[39m\u001B[38;5;130;01m\\\"\u001B[39;00m\u001B[38;5;124m: \u001B[39m\u001B[38;5;130;01m\\\"\u001B[39;00m\u001B[38;5;124mMySQL\u001B[39m\u001B[38;5;130;01m\\\"\u001B[39;00m\u001B[38;5;124m,\u001B[39m\u001B[38;5;130;01m\\n\u001B[39;00m\u001B[38;5;124m\"\u001B[39m,\n\u001B[0;32m     14\u001B[0m     \u001B[38;5;124m\"\u001B[39m\u001B[38;5;124m    \u001B[39m\u001B[38;5;130;01m\\\"\u001B[39;00m\u001B[38;5;124msub_skills\u001B[39m\u001B[38;5;130;01m\\\"\u001B[39;00m\u001B[38;5;124m: []\u001B[39m\u001B[38;5;130;01m\\n\u001B[39;00m\u001B[38;5;124m\"\u001B[39m,\n\u001B[0;32m     15\u001B[0m     \u001B[38;5;124m\"\u001B[39m\u001B[38;5;124m}\u001B[39m\u001B[38;5;130;01m\\n\u001B[39;00m\u001B[38;5;124m\"\u001B[39m,\n\u001B[0;32m     16\u001B[0m     \u001B[38;5;124m\"\u001B[39m\u001B[38;5;130;01m\\n\u001B[39;00m\u001B[38;5;124m\"\u001B[39m,\n\u001B[0;32m     17\u001B[0m     \u001B[38;5;124m\"\u001B[39m\u001B[38;5;124mSKILL_PostgreSQL = \u001B[39m\u001B[38;5;124m{\u001B[39m\u001B[38;5;130;01m\\n\u001B[39;00m\u001B[38;5;124m\"\u001B[39m,\n\u001B[0;32m     18\u001B[0m     \u001B[38;5;124m\"\u001B[39m\u001B[38;5;124m    \u001B[39m\u001B[38;5;130;01m\\\"\u001B[39;00m\u001B[38;5;124mname\u001B[39m\u001B[38;5;130;01m\\\"\u001B[39;00m\u001B[38;5;124m: \u001B[39m\u001B[38;5;130;01m\\\"\u001B[39;00m\u001B[38;5;124mPostgreSQL\u001B[39m\u001B[38;5;130;01m\\\"\u001B[39;00m\u001B[38;5;124m,\u001B[39m\u001B[38;5;130;01m\\n\u001B[39;00m\u001B[38;5;124m\"\u001B[39m,\n\u001B[0;32m     19\u001B[0m     \u001B[38;5;124m\"\u001B[39m\u001B[38;5;124m    \u001B[39m\u001B[38;5;130;01m\\\"\u001B[39;00m\u001B[38;5;124msub_skills\u001B[39m\u001B[38;5;130;01m\\\"\u001B[39;00m\u001B[38;5;124m: []\u001B[39m\u001B[38;5;130;01m\\n\u001B[39;00m\u001B[38;5;124m\"\u001B[39m,\n\u001B[0;32m     20\u001B[0m     \u001B[38;5;124m\"\u001B[39m\u001B[38;5;124m}\u001B[39m\u001B[38;5;130;01m\\n\u001B[39;00m\u001B[38;5;124m\"\u001B[39m,\n\u001B[0;32m     21\u001B[0m     \u001B[38;5;124m\"\u001B[39m\u001B[38;5;130;01m\\n\u001B[39;00m\u001B[38;5;124m\"\u001B[39m,\n\u001B[0;32m     22\u001B[0m     \u001B[38;5;124m\"\u001B[39m\u001B[38;5;124mSKILL_BasiDiDatiRelazionali = \u001B[39m\u001B[38;5;124m{\u001B[39m\u001B[38;5;130;01m\\n\u001B[39;00m\u001B[38;5;124m\"\u001B[39m,\n\u001B[0;32m     23\u001B[0m     \u001B[38;5;124m\"\u001B[39m\u001B[38;5;124m    \u001B[39m\u001B[38;5;130;01m\\\"\u001B[39;00m\u001B[38;5;124mname\u001B[39m\u001B[38;5;130;01m\\\"\u001B[39;00m\u001B[38;5;124m: \u001B[39m\u001B[38;5;130;01m\\\"\u001B[39;00m\u001B[38;5;124mBasi di Dati Relazionali\u001B[39m\u001B[38;5;130;01m\\\"\u001B[39;00m\u001B[38;5;124m,\u001B[39m\u001B[38;5;130;01m\\n\u001B[39;00m\u001B[38;5;124m\"\u001B[39m,\n\u001B[0;32m     24\u001B[0m     \u001B[38;5;124m\"\u001B[39m\u001B[38;5;124m    \u001B[39m\u001B[38;5;130;01m\\\"\u001B[39;00m\u001B[38;5;124msub_skills\u001B[39m\u001B[38;5;130;01m\\\"\u001B[39;00m\u001B[38;5;124m: [\u001B[39m\u001B[38;5;130;01m\\n\u001B[39;00m\u001B[38;5;124m\"\u001B[39m,\n\u001B[0;32m     25\u001B[0m     \u001B[38;5;124m\"\u001B[39m\u001B[38;5;124m        SKILL_MY_SQL,\u001B[39m\u001B[38;5;130;01m\\n\u001B[39;00m\u001B[38;5;124m\"\u001B[39m,\n\u001B[0;32m     26\u001B[0m     \u001B[38;5;124m\"\u001B[39m\u001B[38;5;124m        SKILL_PostgreSQL\u001B[39m\u001B[38;5;130;01m\\n\u001B[39;00m\u001B[38;5;124m\"\u001B[39m,\n\u001B[0;32m     27\u001B[0m     \u001B[38;5;124m\"\u001B[39m\u001B[38;5;124m    ]\u001B[39m\u001B[38;5;130;01m\\n\u001B[39;00m\u001B[38;5;124m\"\u001B[39m,\n\u001B[0;32m     28\u001B[0m     \u001B[38;5;124m\"\u001B[39m\u001B[38;5;124m}\u001B[39m\u001B[38;5;130;01m\\n\u001B[39;00m\u001B[38;5;124m\"\u001B[39m,\n\u001B[0;32m     29\u001B[0m     \u001B[38;5;124m\"\u001B[39m\u001B[38;5;130;01m\\n\u001B[39;00m\u001B[38;5;124m\"\u001B[39m,\n\u001B[0;32m     30\u001B[0m     \u001B[38;5;124m\"\u001B[39m\u001B[38;5;124mSKILL_ProgettazioneDiDB = \u001B[39m\u001B[38;5;124m{\u001B[39m\u001B[38;5;130;01m\\n\u001B[39;00m\u001B[38;5;124m\"\u001B[39m,\n\u001B[0;32m     31\u001B[0m     \u001B[38;5;124m\"\u001B[39m\u001B[38;5;124m    \u001B[39m\u001B[38;5;130;01m\\\"\u001B[39;00m\u001B[38;5;124mname\u001B[39m\u001B[38;5;130;01m\\\"\u001B[39;00m\u001B[38;5;124m: \u001B[39m\u001B[38;5;130;01m\\\"\u001B[39;00m\u001B[38;5;124mProgettazione di DB\u001B[39m\u001B[38;5;130;01m\\\"\u001B[39;00m\u001B[38;5;124m,\u001B[39m\u001B[38;5;130;01m\\n\u001B[39;00m\u001B[38;5;124m\"\u001B[39m,\n\u001B[0;32m     32\u001B[0m     \u001B[38;5;124m\"\u001B[39m\u001B[38;5;124m    \u001B[39m\u001B[38;5;130;01m\\\"\u001B[39;00m\u001B[38;5;124msub_skills\u001B[39m\u001B[38;5;130;01m\\\"\u001B[39;00m\u001B[38;5;124m: []\u001B[39m\u001B[38;5;130;01m\\n\u001B[39;00m\u001B[38;5;124m\"\u001B[39m,\n\u001B[0;32m     33\u001B[0m     \u001B[38;5;124m\"\u001B[39m\u001B[38;5;124m}\u001B[39m\u001B[38;5;130;01m\\n\u001B[39;00m\u001B[38;5;124m\"\u001B[39m,\n\u001B[0;32m     34\u001B[0m     \u001B[38;5;124m\"\u001B[39m\u001B[38;5;130;01m\\n\u001B[39;00m\u001B[38;5;124m\"\u001B[39m,\n\u001B[0;32m     35\u001B[0m     \u001B[38;5;124m\"\u001B[39m\u001B[38;5;124mSKILL_ProgrammazioneConcorrente = \u001B[39m\u001B[38;5;124m{\u001B[39m\u001B[38;5;130;01m\\n\u001B[39;00m\u001B[38;5;124m\"\u001B[39m,\n\u001B[0;32m     36\u001B[0m     \u001B[38;5;124m\"\u001B[39m\u001B[38;5;124m    \u001B[39m\u001B[38;5;130;01m\\\"\u001B[39;00m\u001B[38;5;124mname\u001B[39m\u001B[38;5;130;01m\\\"\u001B[39;00m\u001B[38;5;124m: \u001B[39m\u001B[38;5;130;01m\\\"\u001B[39;00m\u001B[38;5;124mProgrammazione Concorrente\u001B[39m\u001B[38;5;130;01m\\\"\u001B[39;00m\u001B[38;5;124m,\u001B[39m\u001B[38;5;130;01m\\n\u001B[39;00m\u001B[38;5;124m\"\u001B[39m,\n\u001B[0;32m     37\u001B[0m     \u001B[38;5;124m\"\u001B[39m\u001B[38;5;124m    \u001B[39m\u001B[38;5;130;01m\\\"\u001B[39;00m\u001B[38;5;124msub_skills\u001B[39m\u001B[38;5;130;01m\\\"\u001B[39;00m\u001B[38;5;124m: []\u001B[39m\u001B[38;5;130;01m\\n\u001B[39;00m\u001B[38;5;124m\"\u001B[39m,\n\u001B[0;32m     38\u001B[0m     \u001B[38;5;124m\"\u001B[39m\u001B[38;5;124m}\u001B[39m\u001B[38;5;130;01m\\n\u001B[39;00m\u001B[38;5;124m\"\u001B[39m,\n\u001B[0;32m     39\u001B[0m     \u001B[38;5;124m\"\u001B[39m\u001B[38;5;130;01m\\n\u001B[39;00m\u001B[38;5;124m\"\u001B[39m,\n\u001B[0;32m     40\u001B[0m     \u001B[38;5;124m\"\u001B[39m\u001B[38;5;124mSKILL_ProgrammazioneFunzionale = \u001B[39m\u001B[38;5;124m{\u001B[39m\u001B[38;5;130;01m\\n\u001B[39;00m\u001B[38;5;124m\"\u001B[39m,\n\u001B[0;32m     41\u001B[0m     \u001B[38;5;124m\"\u001B[39m\u001B[38;5;124m    \u001B[39m\u001B[38;5;130;01m\\\"\u001B[39;00m\u001B[38;5;124mname\u001B[39m\u001B[38;5;130;01m\\\"\u001B[39;00m\u001B[38;5;124m: \u001B[39m\u001B[38;5;130;01m\\\"\u001B[39;00m\u001B[38;5;124mProgrammazione Funzionale\u001B[39m\u001B[38;5;130;01m\\\"\u001B[39;00m\u001B[38;5;124m,\u001B[39m\u001B[38;5;130;01m\\n\u001B[39;00m\u001B[38;5;124m\"\u001B[39m,\n\u001B[0;32m     42\u001B[0m     \u001B[38;5;124m\"\u001B[39m\u001B[38;5;124m    \u001B[39m\u001B[38;5;130;01m\\\"\u001B[39;00m\u001B[38;5;124msub_skills\u001B[39m\u001B[38;5;130;01m\\\"\u001B[39;00m\u001B[38;5;124m: []\u001B[39m\u001B[38;5;130;01m\\n\u001B[39;00m\u001B[38;5;124m\"\u001B[39m,\n\u001B[0;32m     43\u001B[0m     \u001B[38;5;124m\"\u001B[39m\u001B[38;5;124m}\u001B[39m\u001B[38;5;130;01m\\n\u001B[39;00m\u001B[38;5;124m\"\u001B[39m,\n\u001B[0;32m     44\u001B[0m     \u001B[38;5;124m\"\u001B[39m\u001B[38;5;130;01m\\n\u001B[39;00m\u001B[38;5;124m\"\u001B[39m,\n\u001B[0;32m     45\u001B[0m     \u001B[38;5;124m\"\u001B[39m\u001B[38;5;124mSKILL_ProgrammazioneOOP = \u001B[39m\u001B[38;5;124m{\u001B[39m\u001B[38;5;130;01m\\n\u001B[39;00m\u001B[38;5;124m\"\u001B[39m,\n\u001B[0;32m     46\u001B[0m     \u001B[38;5;124m\"\u001B[39m\u001B[38;5;124m    \u001B[39m\u001B[38;5;130;01m\\\"\u001B[39;00m\u001B[38;5;124mname\u001B[39m\u001B[38;5;130;01m\\\"\u001B[39;00m\u001B[38;5;124m: \u001B[39m\u001B[38;5;130;01m\\\"\u001B[39;00m\u001B[38;5;124mProgrammazione ad Oggetti\u001B[39m\u001B[38;5;130;01m\\\"\u001B[39;00m\u001B[38;5;124m,\u001B[39m\u001B[38;5;130;01m\\n\u001B[39;00m\u001B[38;5;124m\"\u001B[39m,\n\u001B[0;32m     47\u001B[0m     \u001B[38;5;124m\"\u001B[39m\u001B[38;5;124m    \u001B[39m\u001B[38;5;130;01m\\\"\u001B[39;00m\u001B[38;5;124msub_skills\u001B[39m\u001B[38;5;130;01m\\\"\u001B[39;00m\u001B[38;5;124m: []\u001B[39m\u001B[38;5;130;01m\\n\u001B[39;00m\u001B[38;5;124m\"\u001B[39m,\n\u001B[0;32m     48\u001B[0m     \u001B[38;5;124m\"\u001B[39m\u001B[38;5;124m}\u001B[39m\u001B[38;5;130;01m\\n\u001B[39;00m\u001B[38;5;124m\"\u001B[39m,\n\u001B[0;32m     49\u001B[0m     \u001B[38;5;124m\"\u001B[39m\u001B[38;5;130;01m\\n\u001B[39;00m\u001B[38;5;124m\"\u001B[39m,\n\u001B[0;32m     50\u001B[0m     \u001B[38;5;124m\"\u001B[39m\u001B[38;5;124mSKILL_ProgrammazioneProcedurale = \u001B[39m\u001B[38;5;124m{\u001B[39m\u001B[38;5;130;01m\\n\u001B[39;00m\u001B[38;5;124m\"\u001B[39m,\n\u001B[0;32m     51\u001B[0m     \u001B[38;5;124m\"\u001B[39m\u001B[38;5;124m    \u001B[39m\u001B[38;5;130;01m\\\"\u001B[39;00m\u001B[38;5;124mname\u001B[39m\u001B[38;5;130;01m\\\"\u001B[39;00m\u001B[38;5;124m: \u001B[39m\u001B[38;5;130;01m\\\"\u001B[39;00m\u001B[38;5;124mProgrammazione Procedurale\u001B[39m\u001B[38;5;130;01m\\\"\u001B[39;00m\u001B[38;5;124m,\u001B[39m\u001B[38;5;130;01m\\n\u001B[39;00m\u001B[38;5;124m\"\u001B[39m,\n\u001B[0;32m     52\u001B[0m     \u001B[38;5;124m\"\u001B[39m\u001B[38;5;124m    \u001B[39m\u001B[38;5;130;01m\\\"\u001B[39;00m\u001B[38;5;124msub_skills\u001B[39m\u001B[38;5;130;01m\\\"\u001B[39;00m\u001B[38;5;124m: []\u001B[39m\u001B[38;5;130;01m\\n\u001B[39;00m\u001B[38;5;124m\"\u001B[39m,\n\u001B[0;32m     53\u001B[0m     \u001B[38;5;124m\"\u001B[39m\u001B[38;5;124m}\u001B[39m\u001B[38;5;130;01m\\n\u001B[39;00m\u001B[38;5;124m\"\u001B[39m,\n\u001B[0;32m     54\u001B[0m     \u001B[38;5;124m\"\u001B[39m\u001B[38;5;130;01m\\n\u001B[39;00m\u001B[38;5;124m\"\u001B[39m,\n\u001B[0;32m     55\u001B[0m     \u001B[38;5;124m\"\u001B[39m\u001B[38;5;124mSKILL_Python = \u001B[39m\u001B[38;5;124m{\u001B[39m\u001B[38;5;130;01m\\n\u001B[39;00m\u001B[38;5;124m\"\u001B[39m,\n\u001B[0;32m     56\u001B[0m     \u001B[38;5;124m\"\u001B[39m\u001B[38;5;124m    \u001B[39m\u001B[38;5;130;01m\\\"\u001B[39;00m\u001B[38;5;124mname\u001B[39m\u001B[38;5;130;01m\\\"\u001B[39;00m\u001B[38;5;124m: \u001B[39m\u001B[38;5;130;01m\\\"\u001B[39;00m\u001B[38;5;124mPython\u001B[39m\u001B[38;5;130;01m\\\"\u001B[39;00m\u001B[38;5;124m,\u001B[39m\u001B[38;5;130;01m\\n\u001B[39;00m\u001B[38;5;124m\"\u001B[39m,\n\u001B[0;32m     57\u001B[0m     \u001B[38;5;124m\"\u001B[39m\u001B[38;5;124m    \u001B[39m\u001B[38;5;130;01m\\\"\u001B[39;00m\u001B[38;5;124msub_skills\u001B[39m\u001B[38;5;130;01m\\\"\u001B[39;00m\u001B[38;5;124m: []\u001B[39m\u001B[38;5;130;01m\\n\u001B[39;00m\u001B[38;5;124m\"\u001B[39m,\n\u001B[0;32m     58\u001B[0m     \u001B[38;5;124m\"\u001B[39m\u001B[38;5;124m}\u001B[39m\u001B[38;5;130;01m\\n\u001B[39;00m\u001B[38;5;124m\"\u001B[39m,\n\u001B[0;32m     59\u001B[0m     \u001B[38;5;124m\"\u001B[39m\u001B[38;5;130;01m\\n\u001B[39;00m\u001B[38;5;124m\"\u001B[39m,\n\u001B[0;32m     60\u001B[0m     \u001B[38;5;124m\"\u001B[39m\u001B[38;5;124mSKILL_Programmazione = \u001B[39m\u001B[38;5;124m{\u001B[39m\u001B[38;5;130;01m\\n\u001B[39;00m\u001B[38;5;124m\"\u001B[39m,\n\u001B[0;32m     61\u001B[0m     \u001B[38;5;124m\"\u001B[39m\u001B[38;5;124m    \u001B[39m\u001B[38;5;130;01m\\\"\u001B[39;00m\u001B[38;5;124mname\u001B[39m\u001B[38;5;130;01m\\\"\u001B[39;00m\u001B[38;5;124m: \u001B[39m\u001B[38;5;130;01m\\\"\u001B[39;00m\u001B[38;5;124mProgrammazione\u001B[39m\u001B[38;5;130;01m\\\"\u001B[39;00m\u001B[38;5;124m,\u001B[39m\u001B[38;5;130;01m\\n\u001B[39;00m\u001B[38;5;124m\"\u001B[39m,\n\u001B[0;32m     62\u001B[0m     \u001B[38;5;124m\"\u001B[39m\u001B[38;5;124m    \u001B[39m\u001B[38;5;130;01m\\\"\u001B[39;00m\u001B[38;5;124msub_skills\u001B[39m\u001B[38;5;130;01m\\\"\u001B[39;00m\u001B[38;5;124m: [\u001B[39m\u001B[38;5;130;01m\\n\u001B[39;00m\u001B[38;5;124m\"\u001B[39m,\n\u001B[0;32m     63\u001B[0m     \u001B[38;5;124m\"\u001B[39m\u001B[38;5;124m        SKILL_ProgrammazioneProcedurale,\u001B[39m\u001B[38;5;130;01m\\n\u001B[39;00m\u001B[38;5;124m\"\u001B[39m,\n\u001B[0;32m     64\u001B[0m     \u001B[38;5;124m\"\u001B[39m\u001B[38;5;124m        SKILL_ProgrammazioneOOP,\u001B[39m\u001B[38;5;130;01m\\n\u001B[39;00m\u001B[38;5;124m\"\u001B[39m,\n\u001B[0;32m     65\u001B[0m     \u001B[38;5;124m\"\u001B[39m\u001B[38;5;124m        SKILL_ProgrammazioneFunzionale,\u001B[39m\u001B[38;5;130;01m\\n\u001B[39;00m\u001B[38;5;124m\"\u001B[39m,\n\u001B[0;32m     66\u001B[0m     \u001B[38;5;124m\"\u001B[39m\u001B[38;5;124m        SKILL_ProgrammazioneConcorrente,\u001B[39m\u001B[38;5;130;01m\\n\u001B[39;00m\u001B[38;5;124m\"\u001B[39m,\n\u001B[0;32m     67\u001B[0m     \u001B[38;5;124m\"\u001B[39m\u001B[38;5;124m        SKILL_ProgettazioneDiDB,\u001B[39m\u001B[38;5;130;01m\\n\u001B[39;00m\u001B[38;5;124m\"\u001B[39m,\n\u001B[0;32m     68\u001B[0m     \u001B[38;5;124m\"\u001B[39m\u001B[38;5;124m        SKILL_BasiDiDatiRelazionali,\u001B[39m\u001B[38;5;130;01m\\n\u001B[39;00m\u001B[38;5;124m\"\u001B[39m,\n\u001B[0;32m     69\u001B[0m     \u001B[38;5;124m\"\u001B[39m\u001B[38;5;124m        SKILL_Python\u001B[39m\u001B[38;5;130;01m\\n\u001B[39;00m\u001B[38;5;124m\"\u001B[39m,\n\u001B[0;32m     70\u001B[0m     \u001B[38;5;124m\"\u001B[39m\u001B[38;5;124m    ]\u001B[39m\u001B[38;5;130;01m\\n\u001B[39;00m\u001B[38;5;124m\"\u001B[39m,\n\u001B[0;32m     71\u001B[0m     \u001B[38;5;124m\"\u001B[39m\u001B[38;5;124m}\u001B[39m\u001B[38;5;130;01m\\n\u001B[39;00m\u001B[38;5;124m\"\u001B[39m,\n\u001B[0;32m     72\u001B[0m     \u001B[38;5;124m\"\u001B[39m\u001B[38;5;130;01m\\n\u001B[39;00m\u001B[38;5;124m\"\u001B[39m,\n\u001B[0;32m     73\u001B[0m     \u001B[38;5;124m\"\u001B[39m\u001B[38;5;124mSKILL_IntroduzioneAlCloudComputing = \u001B[39m\u001B[38;5;124m{\u001B[39m\u001B[38;5;130;01m\\n\u001B[39;00m\u001B[38;5;124m\"\u001B[39m,\n\u001B[0;32m     74\u001B[0m     \u001B[38;5;124m\"\u001B[39m\u001B[38;5;124m    \u001B[39m\u001B[38;5;130;01m\\\"\u001B[39;00m\u001B[38;5;124mname\u001B[39m\u001B[38;5;130;01m\\\"\u001B[39;00m\u001B[38;5;124m: \u001B[39m\u001B[38;5;130;01m\\\"\u001B[39;00m\u001B[38;5;124mIntroduzione al Cloud Computing\u001B[39m\u001B[38;5;130;01m\\\"\u001B[39;00m\u001B[38;5;124m,\u001B[39m\u001B[38;5;130;01m\\n\u001B[39;00m\u001B[38;5;124m\"\u001B[39m,\n\u001B[0;32m     75\u001B[0m     \u001B[38;5;124m\"\u001B[39m\u001B[38;5;124m    \u001B[39m\u001B[38;5;130;01m\\\"\u001B[39;00m\u001B[38;5;124msub_skills\u001B[39m\u001B[38;5;130;01m\\\"\u001B[39;00m\u001B[38;5;124m: []\u001B[39m\u001B[38;5;130;01m\\n\u001B[39;00m\u001B[38;5;124m\"\u001B[39m,\n\u001B[0;32m     76\u001B[0m     \u001B[38;5;124m\"\u001B[39m\u001B[38;5;124m}\u001B[39m\u001B[38;5;130;01m\\n\u001B[39;00m\u001B[38;5;124m\"\u001B[39m,\n\u001B[0;32m     77\u001B[0m     \u001B[38;5;124m\"\u001B[39m\u001B[38;5;130;01m\\n\u001B[39;00m\u001B[38;5;124m\"\u001B[39m,\n\u001B[0;32m     78\u001B[0m     \u001B[38;5;124m\"\u001B[39m\u001B[38;5;124mSKILL_CloudComputing = \u001B[39m\u001B[38;5;124m{\u001B[39m\u001B[38;5;130;01m\\n\u001B[39;00m\u001B[38;5;124m\"\u001B[39m,\n\u001B[0;32m     79\u001B[0m     \u001B[38;5;124m\"\u001B[39m\u001B[38;5;124m    \u001B[39m\u001B[38;5;130;01m\\\"\u001B[39;00m\u001B[38;5;124mname\u001B[39m\u001B[38;5;130;01m\\\"\u001B[39;00m\u001B[38;5;124m: \u001B[39m\u001B[38;5;130;01m\\\"\u001B[39;00m\u001B[38;5;124mCloud Computing\u001B[39m\u001B[38;5;130;01m\\\"\u001B[39;00m\u001B[38;5;124m,\u001B[39m\u001B[38;5;130;01m\\n\u001B[39;00m\u001B[38;5;124m\"\u001B[39m,\n\u001B[0;32m     80\u001B[0m     \u001B[38;5;124m\"\u001B[39m\u001B[38;5;124m    \u001B[39m\u001B[38;5;130;01m\\\"\u001B[39;00m\u001B[38;5;124msub_skills\u001B[39m\u001B[38;5;130;01m\\\"\u001B[39;00m\u001B[38;5;124m: [\u001B[39m\u001B[38;5;130;01m\\n\u001B[39;00m\u001B[38;5;124m\"\u001B[39m,\n\u001B[0;32m     81\u001B[0m     \u001B[38;5;124m\"\u001B[39m\u001B[38;5;124m        SKILL_IntroduzioneAlCloudComputing\u001B[39m\u001B[38;5;130;01m\\n\u001B[39;00m\u001B[38;5;124m\"\u001B[39m,\n\u001B[0;32m     82\u001B[0m     \u001B[38;5;124m\"\u001B[39m\u001B[38;5;124m    ]\u001B[39m\u001B[38;5;130;01m\\n\u001B[39;00m\u001B[38;5;124m\"\u001B[39m,\n\u001B[0;32m     83\u001B[0m     \u001B[38;5;124m\"\u001B[39m\u001B[38;5;124m}\u001B[39m\u001B[38;5;130;01m\\n\u001B[39;00m\u001B[38;5;124m\"\u001B[39m,\n\u001B[0;32m     84\u001B[0m     \u001B[38;5;124m\"\u001B[39m\u001B[38;5;130;01m\\n\u001B[39;00m\u001B[38;5;124m\"\u001B[39m,\n\u001B[0;32m     85\u001B[0m     \u001B[38;5;124m\"\u001B[39m\u001B[38;5;124mSKILL_Reti = \u001B[39m\u001B[38;5;124m{\u001B[39m\u001B[38;5;130;01m\\n\u001B[39;00m\u001B[38;5;124m\"\u001B[39m,\n\u001B[0;32m     86\u001B[0m     \u001B[38;5;124m\"\u001B[39m\u001B[38;5;124m    \u001B[39m\u001B[38;5;130;01m\\\"\u001B[39;00m\u001B[38;5;124mname\u001B[39m\u001B[38;5;130;01m\\\"\u001B[39;00m\u001B[38;5;124m: \u001B[39m\u001B[38;5;130;01m\\\"\u001B[39;00m\u001B[38;5;124mReti\u001B[39m\u001B[38;5;130;01m\\\"\u001B[39;00m\u001B[38;5;124m,\u001B[39m\u001B[38;5;130;01m\\n\u001B[39;00m\u001B[38;5;124m\"\u001B[39m,\n\u001B[0;32m     87\u001B[0m     \u001B[38;5;124m\"\u001B[39m\u001B[38;5;124m    \u001B[39m\u001B[38;5;130;01m\\\"\u001B[39;00m\u001B[38;5;124msub_skills\u001B[39m\u001B[38;5;130;01m\\\"\u001B[39;00m\u001B[38;5;124m: [\u001B[39m\u001B[38;5;130;01m\\n\u001B[39;00m\u001B[38;5;124m\"\u001B[39m,\n\u001B[0;32m     88\u001B[0m     \u001B[38;5;124m\"\u001B[39m\u001B[38;5;124m        SKILL_CloudComputing\u001B[39m\u001B[38;5;130;01m\\n\u001B[39;00m\u001B[38;5;124m\"\u001B[39m,\n\u001B[0;32m     89\u001B[0m     \u001B[38;5;124m\"\u001B[39m\u001B[38;5;124m    ]\u001B[39m\u001B[38;5;130;01m\\n\u001B[39;00m\u001B[38;5;124m\"\u001B[39m,\n\u001B[0;32m     90\u001B[0m     \u001B[38;5;124m\"\u001B[39m\u001B[38;5;124m}\u001B[39m\u001B[38;5;130;01m\\n\u001B[39;00m\u001B[38;5;124m\"\u001B[39m,\n\u001B[0;32m     91\u001B[0m     \u001B[38;5;124m\"\u001B[39m\u001B[38;5;130;01m\\n\u001B[39;00m\u001B[38;5;124m\"\u001B[39m,\n\u001B[0;32m     92\u001B[0m     \u001B[38;5;124m\"\u001B[39m\u001B[38;5;124mSKILL_DataDrivenMindset = \u001B[39m\u001B[38;5;124m{\u001B[39m\u001B[38;5;130;01m\\n\u001B[39;00m\u001B[38;5;124m\"\u001B[39m,\n\u001B[0;32m     93\u001B[0m     \u001B[38;5;124m\"\u001B[39m\u001B[38;5;124m    \u001B[39m\u001B[38;5;130;01m\\\"\u001B[39;00m\u001B[38;5;124mname\u001B[39m\u001B[38;5;130;01m\\\"\u001B[39;00m\u001B[38;5;124m: \u001B[39m\u001B[38;5;130;01m\\\"\u001B[39;00m\u001B[38;5;124mData Driven Mindset\u001B[39m\u001B[38;5;130;01m\\\"\u001B[39;00m\u001B[38;5;124m,\u001B[39m\u001B[38;5;130;01m\\n\u001B[39;00m\u001B[38;5;124m\"\u001B[39m,\n\u001B[0;32m     94\u001B[0m     \u001B[38;5;124m\"\u001B[39m\u001B[38;5;124m    \u001B[39m\u001B[38;5;130;01m\\\"\u001B[39;00m\u001B[38;5;124msub_skills\u001B[39m\u001B[38;5;130;01m\\\"\u001B[39;00m\u001B[38;5;124m: []\u001B[39m\u001B[38;5;130;01m\\n\u001B[39;00m\u001B[38;5;124m\"\u001B[39m,\n\u001B[0;32m     95\u001B[0m     \u001B[38;5;124m\"\u001B[39m\u001B[38;5;124m}\u001B[39m\u001B[38;5;130;01m\\n\u001B[39;00m\u001B[38;5;124m\"\u001B[39m,\n\u001B[0;32m     96\u001B[0m     \u001B[38;5;124m\"\u001B[39m\u001B[38;5;130;01m\\n\u001B[39;00m\u001B[38;5;124m\"\u001B[39m,\n\u001B[0;32m     97\u001B[0m     \u001B[38;5;124m\"\u001B[39m\u001B[38;5;124mSKILL_DataScience = \u001B[39m\u001B[38;5;124m{\u001B[39m\u001B[38;5;130;01m\\n\u001B[39;00m\u001B[38;5;124m\"\u001B[39m,\n\u001B[0;32m     98\u001B[0m     \u001B[38;5;124m\"\u001B[39m\u001B[38;5;124m    \u001B[39m\u001B[38;5;130;01m\\\"\u001B[39;00m\u001B[38;5;124mname\u001B[39m\u001B[38;5;130;01m\\\"\u001B[39;00m\u001B[38;5;124m: \u001B[39m\u001B[38;5;130;01m\\\"\u001B[39;00m\u001B[38;5;124mData Science\u001B[39m\u001B[38;5;130;01m\\\"\u001B[39;00m\u001B[38;5;124m,\u001B[39m\u001B[38;5;130;01m\\n\u001B[39;00m\u001B[38;5;124m\"\u001B[39m,\n\u001B[0;32m     99\u001B[0m     \u001B[38;5;124m\"\u001B[39m\u001B[38;5;124m    \u001B[39m\u001B[38;5;130;01m\\\"\u001B[39;00m\u001B[38;5;124msub_skills\u001B[39m\u001B[38;5;130;01m\\\"\u001B[39;00m\u001B[38;5;124m: [\u001B[39m\u001B[38;5;130;01m\\n\u001B[39;00m\u001B[38;5;124m\"\u001B[39m,\n\u001B[0;32m    100\u001B[0m     \u001B[38;5;124m\"\u001B[39m\u001B[38;5;124m        SKILL_DataDrivenMindset\u001B[39m\u001B[38;5;130;01m\\n\u001B[39;00m\u001B[38;5;124m\"\u001B[39m,\n\u001B[0;32m    101\u001B[0m     \u001B[38;5;124m\"\u001B[39m\u001B[38;5;124m    ]\u001B[39m\u001B[38;5;130;01m\\n\u001B[39;00m\u001B[38;5;124m\"\u001B[39m,\n\u001B[0;32m    102\u001B[0m     \u001B[38;5;124m\"\u001B[39m\u001B[38;5;124m}\u001B[39m\u001B[38;5;130;01m\\n\u001B[39;00m\u001B[38;5;124m\"\u001B[39m,\n\u001B[0;32m    103\u001B[0m     \u001B[38;5;124m\"\u001B[39m\u001B[38;5;130;01m\\n\u001B[39;00m\u001B[38;5;124m\"\u001B[39m,\n\u001B[0;32m    104\u001B[0m     \u001B[38;5;124m\"\u001B[39m\u001B[38;5;124mSKILL_IntroEDefinizioneAlMachineLearning = \u001B[39m\u001B[38;5;124m{\u001B[39m\u001B[38;5;130;01m\\n\u001B[39;00m\u001B[38;5;124m\"\u001B[39m,\n\u001B[0;32m    105\u001B[0m     \u001B[38;5;124m\"\u001B[39m\u001B[38;5;124m    \u001B[39m\u001B[38;5;130;01m\\\"\u001B[39;00m\u001B[38;5;124mname\u001B[39m\u001B[38;5;130;01m\\\"\u001B[39;00m\u001B[38;5;124m: \u001B[39m\u001B[38;5;130;01m\\\"\u001B[39;00m\u001B[38;5;124mIntroduzione al Machine Learning\u001B[39m\u001B[38;5;130;01m\\\"\u001B[39;00m\u001B[38;5;124m,\u001B[39m\u001B[38;5;130;01m\\n\u001B[39;00m\u001B[38;5;124m\"\u001B[39m,\n\u001B[0;32m    106\u001B[0m     \u001B[38;5;124m\"\u001B[39m\u001B[38;5;124m    \u001B[39m\u001B[38;5;130;01m\\\"\u001B[39;00m\u001B[38;5;124msub_skills\u001B[39m\u001B[38;5;130;01m\\\"\u001B[39;00m\u001B[38;5;124m: [\u001B[39m\u001B[38;5;130;01m\\n\u001B[39;00m\u001B[38;5;124m\"\u001B[39m,\n\u001B[0;32m    107\u001B[0m     \u001B[38;5;124m\"\u001B[39m\u001B[38;5;124m        SKILL_DataDrivenMindset\u001B[39m\u001B[38;5;130;01m\\n\u001B[39;00m\u001B[38;5;124m\"\u001B[39m,\n\u001B[0;32m    108\u001B[0m     \u001B[38;5;124m\"\u001B[39m\u001B[38;5;124m    ]\u001B[39m\u001B[38;5;130;01m\\n\u001B[39;00m\u001B[38;5;124m\"\u001B[39m,\n\u001B[0;32m    109\u001B[0m     \u001B[38;5;124m\"\u001B[39m\u001B[38;5;124m}\u001B[39m\u001B[38;5;130;01m\\n\u001B[39;00m\u001B[38;5;124m\"\u001B[39m,\n\u001B[0;32m    110\u001B[0m     \u001B[38;5;124m\"\u001B[39m\u001B[38;5;130;01m\\n\u001B[39;00m\u001B[38;5;124m\"\u001B[39m,\n\u001B[0;32m    111\u001B[0m     \u001B[38;5;124m\"\u001B[39m\u001B[38;5;124mSKILL_MachineLearning = \u001B[39m\u001B[38;5;124m{\u001B[39m\u001B[38;5;130;01m\\n\u001B[39;00m\u001B[38;5;124m\"\u001B[39m,\n\u001B[0;32m    112\u001B[0m     \u001B[38;5;124m\"\u001B[39m\u001B[38;5;124m    \u001B[39m\u001B[38;5;130;01m\\\"\u001B[39;00m\u001B[38;5;124mname\u001B[39m\u001B[38;5;130;01m\\\"\u001B[39;00m\u001B[38;5;124m: \u001B[39m\u001B[38;5;130;01m\\\"\u001B[39;00m\u001B[38;5;124mMachine Learning\u001B[39m\u001B[38;5;130;01m\\\"\u001B[39;00m\u001B[38;5;124m,\u001B[39m\u001B[38;5;130;01m\\n\u001B[39;00m\u001B[38;5;124m\"\u001B[39m,\n\u001B[0;32m    113\u001B[0m     \u001B[38;5;124m\"\u001B[39m\u001B[38;5;124m    \u001B[39m\u001B[38;5;130;01m\\\"\u001B[39;00m\u001B[38;5;124msub_skills\u001B[39m\u001B[38;5;130;01m\\\"\u001B[39;00m\u001B[38;5;124m: [\u001B[39m\u001B[38;5;130;01m\\n\u001B[39;00m\u001B[38;5;124m\"\u001B[39m,\n\u001B[0;32m    114\u001B[0m     \u001B[38;5;124m\"\u001B[39m\u001B[38;5;124m        SKILL_DataDrivenMindset\u001B[39m\u001B[38;5;130;01m\\n\u001B[39;00m\u001B[38;5;124m\"\u001B[39m,\n\u001B[0;32m    115\u001B[0m     \u001B[38;5;124m\"\u001B[39m\u001B[38;5;124m    ]\u001B[39m\u001B[38;5;130;01m\\n\u001B[39;00m\u001B[38;5;124m\"\u001B[39m,\n\u001B[0;32m    116\u001B[0m     \u001B[38;5;124m\"\u001B[39m\u001B[38;5;124m}\u001B[39m\u001B[38;5;130;01m\\n\u001B[39;00m\u001B[38;5;124m\"\u001B[39m,\n\u001B[0;32m    117\u001B[0m     \u001B[38;5;124m\"\u001B[39m\u001B[38;5;130;01m\\n\u001B[39;00m\u001B[38;5;124m\"\u001B[39m,\n\u001B[0;32m    118\u001B[0m     \u001B[38;5;124m\"\u001B[39m\u001B[38;5;124mCarrierPath = [\u001B[39m\u001B[38;5;130;01m\\n\u001B[39;00m\u001B[38;5;124m\"\u001B[39m,\n\u001B[0;32m    119\u001B[0m     \u001B[38;5;124m\"\u001B[39m\u001B[38;5;124m    SKILL_Programmazione,\u001B[39m\u001B[38;5;130;01m\\n\u001B[39;00m\u001B[38;5;124m\"\u001B[39m,\n\u001B[0;32m    120\u001B[0m     \u001B[38;5;124m\"\u001B[39m\u001B[38;5;124m    SKILL_Reti,\u001B[39m\u001B[38;5;130;01m\\n\u001B[39;00m\u001B[38;5;124m\"\u001B[39m,\n\u001B[0;32m    121\u001B[0m     \u001B[38;5;124m\"\u001B[39m\u001B[38;5;124m    SKILL_DataScience,\u001B[39m\u001B[38;5;130;01m\\n\u001B[39;00m\u001B[38;5;124m\"\u001B[39m,\n\u001B[0;32m    122\u001B[0m     \u001B[38;5;124m\"\u001B[39m\u001B[38;5;124m    SKILL_MachineLearning\u001B[39m\u001B[38;5;130;01m\\n\u001B[39;00m\u001B[38;5;124m\"\u001B[39m,\n\u001B[0;32m    123\u001B[0m     \u001B[38;5;124m\"\u001B[39m\u001B[38;5;124m]\u001B[39m\u001B[38;5;124m\"\u001B[39m\n\u001B[0;32m    124\u001B[0m    ]\n\u001B[0;32m    125\u001B[0m   }\n\u001B[0;32m    126\u001B[0m  ],\n\u001B[0;32m    127\u001B[0m  \u001B[38;5;124m\"\u001B[39m\u001B[38;5;124mmetadata\u001B[39m\u001B[38;5;124m\"\u001B[39m: {\n\u001B[0;32m    128\u001B[0m   \u001B[38;5;124m\"\u001B[39m\u001B[38;5;124mkernelspec\u001B[39m\u001B[38;5;124m\"\u001B[39m: {\n\u001B[0;32m    129\u001B[0m    \u001B[38;5;124m\"\u001B[39m\u001B[38;5;124mdisplay_name\u001B[39m\u001B[38;5;124m\"\u001B[39m: \u001B[38;5;124m\"\u001B[39m\u001B[38;5;124mPython 3\u001B[39m\u001B[38;5;124m\"\u001B[39m,\n\u001B[0;32m    130\u001B[0m    \u001B[38;5;124m\"\u001B[39m\u001B[38;5;124mlanguage\u001B[39m\u001B[38;5;124m\"\u001B[39m: \u001B[38;5;124m\"\u001B[39m\u001B[38;5;124mpython\u001B[39m\u001B[38;5;124m\"\u001B[39m,\n\u001B[0;32m    131\u001B[0m    \u001B[38;5;124m\"\u001B[39m\u001B[38;5;124mname\u001B[39m\u001B[38;5;124m\"\u001B[39m: \u001B[38;5;124m\"\u001B[39m\u001B[38;5;124mpython3\u001B[39m\u001B[38;5;124m\"\u001B[39m\n\u001B[0;32m    132\u001B[0m   },\n\u001B[0;32m    133\u001B[0m   \u001B[38;5;124m\"\u001B[39m\u001B[38;5;124mlanguage_info\u001B[39m\u001B[38;5;124m\"\u001B[39m: {\n\u001B[0;32m    134\u001B[0m    \u001B[38;5;124m\"\u001B[39m\u001B[38;5;124mcodemirror_mode\u001B[39m\u001B[38;5;124m\"\u001B[39m: {\n\u001B[0;32m    135\u001B[0m     \u001B[38;5;124m\"\u001B[39m\u001B[38;5;124mname\u001B[39m\u001B[38;5;124m\"\u001B[39m: \u001B[38;5;124m\"\u001B[39m\u001B[38;5;124mipython\u001B[39m\u001B[38;5;124m\"\u001B[39m,\n\u001B[0;32m    136\u001B[0m     \u001B[38;5;124m\"\u001B[39m\u001B[38;5;124mversion\u001B[39m\u001B[38;5;124m\"\u001B[39m: \u001B[38;5;241m2\u001B[39m\n\u001B[0;32m    137\u001B[0m    },\n\u001B[0;32m    138\u001B[0m    \u001B[38;5;124m\"\u001B[39m\u001B[38;5;124mfile_extension\u001B[39m\u001B[38;5;124m\"\u001B[39m: \u001B[38;5;124m\"\u001B[39m\u001B[38;5;124m.py\u001B[39m\u001B[38;5;124m\"\u001B[39m,\n\u001B[0;32m    139\u001B[0m    \u001B[38;5;124m\"\u001B[39m\u001B[38;5;124mmimetype\u001B[39m\u001B[38;5;124m\"\u001B[39m: \u001B[38;5;124m\"\u001B[39m\u001B[38;5;124mtext/x-python\u001B[39m\u001B[38;5;124m\"\u001B[39m,\n\u001B[0;32m    140\u001B[0m    \u001B[38;5;124m\"\u001B[39m\u001B[38;5;124mname\u001B[39m\u001B[38;5;124m\"\u001B[39m: \u001B[38;5;124m\"\u001B[39m\u001B[38;5;124mpython\u001B[39m\u001B[38;5;124m\"\u001B[39m,\n\u001B[0;32m    141\u001B[0m    \u001B[38;5;124m\"\u001B[39m\u001B[38;5;124mnbconvert_exporter\u001B[39m\u001B[38;5;124m\"\u001B[39m: \u001B[38;5;124m\"\u001B[39m\u001B[38;5;124mpython\u001B[39m\u001B[38;5;124m\"\u001B[39m,\n\u001B[0;32m    142\u001B[0m    \u001B[38;5;124m\"\u001B[39m\u001B[38;5;124mpygments_lexer\u001B[39m\u001B[38;5;124m\"\u001B[39m: \u001B[38;5;124m\"\u001B[39m\u001B[38;5;124mipython2\u001B[39m\u001B[38;5;124m\"\u001B[39m,\n\u001B[0;32m    143\u001B[0m    \u001B[38;5;124m\"\u001B[39m\u001B[38;5;124mversion\u001B[39m\u001B[38;5;124m\"\u001B[39m: \u001B[38;5;124m\"\u001B[39m\u001B[38;5;124m2.7.6\u001B[39m\u001B[38;5;124m\"\u001B[39m\n\u001B[0;32m    144\u001B[0m   }\n\u001B[0;32m    145\u001B[0m  },\n\u001B[0;32m    146\u001B[0m  \u001B[38;5;124m\"\u001B[39m\u001B[38;5;124mnbformat\u001B[39m\u001B[38;5;124m\"\u001B[39m: \u001B[38;5;241m4\u001B[39m,\n\u001B[0;32m    147\u001B[0m  \u001B[38;5;124m\"\u001B[39m\u001B[38;5;124mnbformat_minor\u001B[39m\u001B[38;5;124m\"\u001B[39m: \u001B[38;5;241m5\u001B[39m\n\u001B[0;32m    148\u001B[0m }\n",
      "\u001B[1;31mNameError\u001B[0m: name 'null' is not defined"
     ]
    }
   ],
   "source": [
    "# first cell is the clone of \"AISkiller\" class for speedup testing\n",
    "\n",
    "import os\n",
    "import re\n",
    "import openai\n",
    "from langchain.chat_models import ChatOpenAI\n",
    "from langchain.llms import OpenAI\n",
    "from langchain.schema import AIMessage, HumanMessage, SystemMessage\n",
    "from langchain.output_parsers import CommaSeparatedListOutputParser, PydanticOutputParser\n",
    "from langchain.prompts import PromptTemplate\n",
    "from langchain.pydantic_v1 import BaseModel, Field\n",
    "import csv\n",
    "from datetime import datetime\n",
    "\n",
    "\n",
    "class AISkiller:\n",
    "    def setup(self, profession=\"Machine Learning Engineer\", student=\"Mario Rossi\", questions_number=3, verbose=True,\n",
    "              fake_data=False):\n",
    "        # ---\n",
    "        class StepInfo(BaseModel):\n",
    "            ai_evaluation: str = Field(description=\"evaluation of the Student's answer\")\n",
    "            score: str = Field(description=\"score of the Student's answer\")\n",
    "            finished: bool = Field(\n",
    "                description=\"if the answer provided is sufficient for an objective evaluation of the student's skills\")\n",
    "\n",
    "        self.step_info_parser = PydanticOutputParser(pydantic_object=StepInfo)\n",
    "\n",
    "        openai.api_key = os.getenv(\"openai_key\")\n",
    "\n",
    "        self.open_ai_model = OpenAI(temperature=0., openai_api_key=os.getenv(\"openai_key\"), max_tokens=512)\n",
    "        self.chat_open_ai_model = ChatOpenAI(temperature=0., openai_api_key=os.getenv(\"openai_key\"), max_tokens=512)\n",
    "\n",
    "        self.comma_separated_list_output_parser = CommaSeparatedListOutputParser()\n",
    "        self.comma_separated_format_instructions = self.comma_separated_list_output_parser.get_format_instructions()\n",
    "        # ---\n",
    "        self.questions_number = questions_number\n",
    "        self.student = student\n",
    "        self.verbose = verbose\n",
    "        self.retry_question = False\n",
    "        self.user_timestamp = str(datetime.now().timestamp())\n",
    "\n",
    "        if fake_data:\n",
    "            self.profession = \"Frontend Developer\"\n",
    "            self.field = \"Web Development\"\n",
    "            self.skills = ['HTML/CSS', 'JavaScript', 'Responsive Design.']\n",
    "            self.q_a = [\n",
    "                {\n",
    "                    'skill': 'HTML/CSS',\n",
    "                    'question': 'What is the purpose of the z-index property in CSS?',\n",
    "                    'ai_reference': 'The purpose of the z-index property in CSS is to specify the stack order of an element, relative to other elements on the same page. It is used to control the overlapping of elements on the page, with higher values indicating higher priority.',\n",
    "                    'answer': None,\n",
    "                    'score': None,\n",
    "                    'evaluation': None\n",
    "                },\n",
    "                {\n",
    "                    'skill': 'JavaScript',\n",
    "                    'question': 'What is the difference between a function expression and a function declaration in JavaScript?',\n",
    "                    'ai_reference': 'A function expression is a function that is assigned to a variable, whereas a function declaration is a function that is declared with the function keyword.',\n",
    "                    'answer': None,\n",
    "                    'score': None,\n",
    "                    'evaluation': None\n",
    "                },\n",
    "                {\n",
    "                    'skill': 'Responsive Design.',\n",
    "                    'question': 'What is the difference between a mobile-first and a desktop-first approach to Responsive Design?',\n",
    "                    'ai_reference': 'The main difference between a mobile-first and a desktop-first approach to Responsive Design is that the mobile-first approach prioritizes the design of the mobile version of the website, while the desktop-first approach prioritizes the design of the desktop version of the website.',\n",
    "                    'answer': None,\n",
    "                    'score': None,\n",
    "                    'evaluation': None\n",
    "                }\n",
    "            ]\n",
    "        else:\n",
    "            self.profession = profession\n",
    "            self.profession = self.translate(profession)\n",
    "            self.field = self.get_field()\n",
    "            self.skills = self.get_skills()\n",
    "            self.q_a = []\n",
    "            self.get_questions()\n",
    "\n",
    "        self.save_q_a_log_to_csv()\n",
    "\n",
    "        if self.verbose:\n",
    "            print(\"-\" * 9, \"init\", \"-\" * 9)\n",
    "            print(\"skills related to a \" + self.profession + \" in the field of \" + self.field + \":\")\n",
    "            for i, s in enumerate(self.skills):\n",
    "                print(\"\\n\", s, \"\\nQ:\", self.q_a[i][\"question\"], \"- A:\", self.q_a[i][\"ai_reference\"])\n",
    "            print(\"-\" * 24, \"\\n\")\n",
    "\n",
    "    def get_field(self):\n",
    "        return self.chat_open_ai_model([\n",
    "            SystemMessage(\n",
    "                content=\"You are a bot specialized in finding the scope of a particular profession in one short sentence; if you don't find an answer, reply with \\\"\\\"\\\"Work\\\"\\\"\\\"\"),\n",
    "            HumanMessage(content=\"Data Scientist\"),\n",
    "            AIMessage(content=\"Data Science\"),\n",
    "            HumanMessage(content=\"carpenter\"),\n",
    "            AIMessage(content=\"industry\"),\n",
    "            HumanMessage(content=\"teacher\"),\n",
    "            AIMessage(content=\"instruction\"),\n",
    "            HumanMessage(content=\"Lawyer\"),\n",
    "            AIMessage(content=\"Law\"),\n",
    "            HumanMessage(content=\"employee\"),\n",
    "            AIMessage(content=\"work\"),\n",
    "            HumanMessage(content=\"Carpenter\"),\n",
    "            AIMessage(content=\"Industry\"),\n",
    "            HumanMessage(content=\"nurse\"),\n",
    "            AIMessage(content=\"medicine\"),\n",
    "            HumanMessage(content=\"operator\"),\n",
    "            AIMessage(content=\"operator\"),\n",
    "            HumanMessage(content=self.profession)\n",
    "        ]).content\n",
    "\n",
    "    def translate(self, message, to_eng=True):\n",
    "        if to_eng:\n",
    "            language_from = \"italian\"\n",
    "            language_to = \"english\"\n",
    "        else:\n",
    "            language_from = \"english\"\n",
    "            language_to = \"italian\"\n",
    "        return openai.ChatCompletion.create(\n",
    "            model=\"gpt-3.5-turbo-1106\",\n",
    "            messages=[\n",
    "                {\n",
    "                    \"role\": \"system\",\n",
    "                    \"content\": \"You are an expert translator from \" + language_from + \" to \" + language_to + \" with experience in texts related to the \" + self.profession + \" .\\nTranslate the user input into \" + language_to + \" and output only the translated text.\"\n",
    "                },\n",
    "                {\n",
    "                    \"role\": \"user\",\n",
    "                    \"content\": message\n",
    "                }\n",
    "            ],\n",
    "            temperature=0,\n",
    "            max_tokens=512,\n",
    "            top_p=1,\n",
    "            frequency_penalty=0,\n",
    "            presence_penalty=0\n",
    "        ).choices[-1].message.content\n",
    "\n",
    "    def get_skills(self):\n",
    "        prompt = PromptTemplate(\n",
    "            template=\"\"\"Act as an expert recruiter in the field of {field}.\n",
    "Identify and list the top {selected_skills_number} skills a {profession} should have.\n",
    "The selected skills must be easily measurable in a short interview.\n",
    "\n",
    "{format_instructions}\"\"\",\n",
    "            input_variables=[\"field\", \"top_skills_number\", \"profession\"],\n",
    "            partial_variables={\"format_instructions\": self.comma_separated_format_instructions}\n",
    "        )\n",
    "\n",
    "        output = self.open_ai_model(\n",
    "            prompt.format(field=self.field, profession=self.profession, selected_skills_number=self.questions_number))\n",
    "        return [re.sub(r\"^\\n?\\d+\\.\\s+\", \"\", x) for x in self.comma_separated_list_output_parser.parse(output)]\n",
    "\n",
    "    def get_question(self, skill):\n",
    "        llm = OpenAI(temperature=0.33, openai_api_key=openai.api_key, max_tokens=512)\n",
    "        new_question_prompt = PromptTemplate(\n",
    "            template=\"\"\"Act like an expert {field} teacher who has taught a course that delves into {skill}.\n",
    "    Generate a question about {skill} in the form of a short, formal text; the question must be in such a form as to require a very short answer and to allow an unambiguous evaluation. Don't add comments of any kind, just write the question.\"\"\",\n",
    "            input_variables=[\"field\", \"skill\"]\n",
    "        )\n",
    "        ai_answer_prompt = PromptTemplate(\n",
    "            template=\"\"\"Act like an expert {field} teacher who has taught a course that delves into {skill}.\n",
    "    Reply to the question \\\"\\\"\\\"{question}\\\"\\\"\\\"\n",
    "    The answer must be in the form of a short, formal text; the answer must be a short, correct and complete answer. Don't add comments of any kind, just write the answer.\"\"\",\n",
    "            input_variables=[\"field\", \"skill\", \"question\"]\n",
    "        )\n",
    "        question = llm(new_question_prompt.format(field=self.field, skill=skill)).strip()\n",
    "        return {\n",
    "            \"skill\": skill,\n",
    "            \"question\": question,\n",
    "            \"ai_reference\": llm(ai_answer_prompt.format(field=self.field, skill=skill, question=question)).strip(),\n",
    "            \"answer\": None,\n",
    "            \"eng_answer\": None,\n",
    "            \"score\": None,\n",
    "            \"evaluation\": None,\n",
    "            \"finished\": None\n",
    "        }\n",
    "\n",
    "    def get_questions(self):\n",
    "        for skill in self.skills:\n",
    "            self.q_a.append(self.get_question(skill))\n",
    "\n",
    "    def get_next_question(self):\n",
    "        idx = 0\n",
    "        question_found = False\n",
    "        question = None\n",
    "        ai_reference = None\n",
    "        skill_analyzed = None\n",
    "        while not question_found and idx < len(self.q_a):\n",
    "            q_a = self.q_a[idx]\n",
    "            if not q_a[\"score\"]:\n",
    "                question_found = True\n",
    "                question = q_a[\"question\"]\n",
    "                ai_reference = q_a[\"ai_reference\"]\n",
    "                skill_analyzed = q_a[\"skill\"]\n",
    "            else:\n",
    "                idx += 1\n",
    "        return question, ai_reference, skill_analyzed, idx\n",
    "\n",
    "    def step(self, answer=None):\n",
    "        question, ai_reference, skill_analyzed, q_a_idx = self.get_next_question()\n",
    "        if not question:\n",
    "            return None\n",
    "        else:\n",
    "            if not answer:\n",
    "                return self.translate(question, to_eng=False)\n",
    "            else:\n",
    "                eng_answer = self.translate(answer)\n",
    "                prompt = PromptTemplate(\n",
    "                    template=\"Follow these steps to answer the user queries.\\n\\nStep 1 - First analyze the question and the AI-Assistant answer. Don't rely on the Student's answer since it may be incorrect.\\n\\nStep 2 - Compare the AI-Assistant answer to the Student's answer and evaluate the Student's answer in detail, explaining how the response can be improved.\\n\\nStep 3 - Score the Student's answer compared to the AI-Assistant's answer on a scale from 1 to 5.\\n\\n{format_instructions}\\n\\n{query}\\n\",\n",
    "                    input_variables=[\"query\"],\n",
    "                    partial_variables={\"format_instructions\": self.step_info_parser.get_format_instructions()},\n",
    "                )\n",
    "                prompt_and_model = prompt | self.open_ai_model\n",
    "                result = self.step_info_parser.invoke(prompt_and_model.invoke({\n",
    "                                                                                  \"query\": \"Question: \\\"\\\"\\\"\" + question + \"\\\"\\\"\\\"\\n\\nAI-Assistant answer: \\\"\\\"\\\"\" + ai_reference + \"\\\"\\\"\\\"\\n\\nStudent answer: \\\"\\\"\\\"\" + eng_answer + \"\\\"\\\"\\\"\"}))\n",
    "                self.q_a[q_a_idx][\"answer\"] = answer\n",
    "                self.q_a[q_a_idx][\"eng_answer\"] = eng_answer\n",
    "                self.q_a[q_a_idx][\"score\"] = result.score\n",
    "                self.q_a[q_a_idx][\"evaluation\"] = result.ai_evaluation\n",
    "                self.q_a[q_a_idx][\"finished\"] = result.finished\n",
    "                if not result.finished:\n",
    "                    if not self.retry_question:\n",
    "                        self.q_a.insert(q_a_idx + 1, self.get_question(self.q_a[q_a_idx][\"skill\"]))\n",
    "                        self.retry_question = True\n",
    "                    else:\n",
    "                        self.retry_question = False\n",
    "                self.save_q_a_log_to_csv()\n",
    "                return self.q_a[q_a_idx]\n",
    "\n",
    "    def save_q_a_log_to_csv(self):\n",
    "        filename = 'data/' + self.user_timestamp + '_log.csv'\n",
    "        with open(filename, 'w', newline='\\n') as csvfile:\n",
    "            fieldnames = ['skill', 'question', 'ai_reference', 'answer', 'eng_answer', 'score', 'evaluation', 'finished']\n",
    "            writer = csv.DictWriter(csvfile, fieldnames=fieldnames)\n",
    "            writer.writeheader()\n",
    "\n",
    "            for item in self.q_a:\n",
    "                writer.writerow(item)"
   ]
  },
  {
   "cell_type": "code",
   "execution_count": 5,
   "outputs": [],
   "source": [
    "\"\"\" SETUP \"\"\"\n",
    "\n",
    "profession = 'Data Engineer'\n",
    "student = \"Roberta Bianchi\""
   ],
   "metadata": {
    "collapsed": false,
    "ExecuteTime": {
     "end_time": "2023-11-13T21:52:06.071665800Z",
     "start_time": "2023-11-13T21:52:06.057662400Z"
    }
   },
   "id": "47957e67f4c7d65e"
  },
  {
   "cell_type": "code",
   "execution_count": 6,
   "outputs": [
    {
     "name": "stdout",
     "output_type": "stream",
     "text": [
      "--------- init ---------\n",
      "skills related to a Frontend Developer in the field of Web Development:\n",
      "\n",
      " HTML/CSS \n",
      "Q: What is the purpose of the z-index property in CSS? - A: The purpose of the z-index property in CSS is to specify the stack order of an element, relative to other elements on the same page. It is used to control the overlapping of elements on the page, with higher values indicating higher priority.\n",
      "\n",
      " JavaScript \n",
      "Q: What is the difference between a function expression and a function declaration in JavaScript? - A: A function expression is a function that is assigned to a variable, whereas a function declaration is a function that is declared with the function keyword.\n",
      "\n",
      " Responsive Design. \n",
      "Q: What is the difference between a mobile-first and a desktop-first approach to Responsive Design? - A: The main difference between a mobile-first and a desktop-first approach to Responsive Design is that the mobile-first approach prioritizes the design of the mobile version of the website, while the desktop-first approach prioritizes the design of the desktop version of the website.\n",
      "------------------------ \n"
     ]
    }
   ],
   "source": [
    "\"\"\" TEST \"\"\"\n",
    "\n",
    "ai_skiller = AISkiller()\n",
    "\n",
    "ai_skiller.setup(\n",
    "    profession=profession, \n",
    "    student=student, \n",
    "    questions_number=3, \n",
    "    fake_data=True\n",
    ")"
   ],
   "metadata": {
    "collapsed": false,
    "ExecuteTime": {
     "end_time": "2023-11-13T21:52:06.117007400Z",
     "start_time": "2023-11-13T21:52:06.073662200Z"
    }
   },
   "id": "219340fd3c151020"
  },
  {
   "cell_type": "code",
   "execution_count": 7,
   "outputs": [
    {
     "data": {
      "text/plain": "'Qual è lo scopo della proprietà z-index in CSS?'"
     },
     "execution_count": 7,
     "metadata": {},
     "output_type": "execute_result"
    }
   ],
   "source": [
    "ai_skiller.step()"
   ],
   "metadata": {
    "collapsed": false,
    "ExecuteTime": {
     "end_time": "2023-11-13T21:52:06.663957500Z",
     "start_time": "2023-11-13T21:52:06.089662400Z"
    }
   },
   "id": "a6f63c5c298c4a41"
  },
  {
   "cell_type": "code",
   "execution_count": 8,
   "outputs": [
    {
     "data": {
      "text/plain": "{'skill': 'HTML/CSS',\n 'question': 'What is the purpose of the z-index property in CSS?',\n 'ai_reference': 'The purpose of the z-index property in CSS is to specify the stack order of an element, relative to other elements on the same page. It is used to control the overlapping of elements on the page, with higher values indicating higher priority.',\n 'answer': 'su cluster di computer',\n 'score': '1',\n 'evaluation': \"The student's answer does not address the question. The student should explain the purpose of the z-index property in CSS.\",\n 'eng_answer': 'computer cluster',\n 'finished': False}"
     },
     "execution_count": 8,
     "metadata": {},
     "output_type": "execute_result"
    }
   ],
   "source": [
    "ai_skiller.step(answer=\"su cluster di computer\")"
   ],
   "metadata": {
    "collapsed": false,
    "ExecuteTime": {
     "end_time": "2023-11-13T21:52:09.498493900Z",
     "start_time": "2023-11-13T21:52:06.665958200Z"
    }
   },
   "id": "896cfd93203a0cd5"
  },
  {
   "cell_type": "code",
   "execution_count": 1,
   "outputs": [],
   "source": [
    "from carrier_path.python_developer import *"
   ],
   "metadata": {
    "collapsed": false,
    "ExecuteTime": {
     "end_time": "2023-11-17T15:16:18.909695400Z",
     "start_time": "2023-11-17T15:16:18.891650100Z"
    }
   },
   "id": "cbf39c2d0a5c6d22"
  },
  {
   "cell_type": "code",
   "execution_count": 2,
   "outputs": [
    {
     "name": "stdout",
     "output_type": "stream",
     "text": [
      "***** Python Developer *****\n",
      "Programmazione\n",
      "\t Programmazione Procedurale\n",
      "\t Programmazione ad Oggetti\n",
      "\t Programmazione Funzionale\n",
      "\t Programmazione Concorrente\n",
      "\t Progettazione di DB\n",
      "\t Basi di Dati Relazionali\n",
      "\t\t MySQL\n",
      "\t\t PostgreSQL\n",
      "\t Python\n",
      "Reti\n",
      "\t Cloud Computing\n",
      "\t\t Introduzione al Cloud Computing\n",
      "Data Science\n",
      "\t Data Driven Mindset\n",
      "Machine Learning\n",
      "\t Introduzione al Machine Learning\n"
     ]
    }
   ],
   "source": [
    "print(\"*\" * 5, CarrierPathName, \"*\" * 5)\n",
    "for skill_family in CarrierPathModules:\n",
    "    print(skill_family.name)\n",
    "    for sub_family in skill_family.sub_skills:\n",
    "        print('\\t', sub_family.name)\n",
    "        for sub_skill in sub_family.sub_skills:\n",
    "            print('\\t\\t', sub_skill.name)"
   ],
   "metadata": {
    "collapsed": false,
    "ExecuteTime": {
     "end_time": "2023-11-17T15:16:18.925727100Z",
     "start_time": "2023-11-17T15:16:18.911694600Z"
    }
   },
   "id": "a0e1d7925346b1db"
  },
  {
   "cell_type": "code",
   "execution_count": 158,
   "outputs": [
    {
     "data": {
      "text/plain": "'Programmazione Procedurale'"
     },
     "execution_count": 158,
     "metadata": {},
     "output_type": "execute_result"
    }
   ],
   "source": [
    "CarrierPathModules[0].evaluate()[1].name"
   ],
   "metadata": {
    "collapsed": false,
    "ExecuteTime": {
     "end_time": "2023-11-17T15:45:36.595797200Z",
     "start_time": "2023-11-17T15:45:36.566165200Z"
    }
   },
   "id": "912baf83b20aa09a"
  },
  {
   "cell_type": "code",
   "execution_count": 159,
   "outputs": [
    {
     "data": {
      "text/plain": "'Programmazione ad Oggetti'"
     },
     "execution_count": 159,
     "metadata": {},
     "output_type": "execute_result"
    }
   ],
   "source": [
    "SKILL_ProgrammazioneProcedurale.score = 10\n",
    "\n",
    "CarrierPathModules[0].evaluate()[1].name"
   ],
   "metadata": {
    "collapsed": false,
    "ExecuteTime": {
     "end_time": "2023-11-17T15:45:38.927412200Z",
     "start_time": "2023-11-17T15:45:38.909394700Z"
    }
   },
   "id": "3b86eb49a4e1b8d4"
  },
  {
   "cell_type": "code",
   "execution_count": 160,
   "outputs": [
    {
     "data": {
      "text/plain": "'Programmazione Funzionale'"
     },
     "execution_count": 160,
     "metadata": {},
     "output_type": "execute_result"
    }
   ],
   "source": [
    "SKILL_ProgrammazioneOOP.score = 10\n",
    "\n",
    "CarrierPathModules[0].evaluate()[1].name"
   ],
   "metadata": {
    "collapsed": false,
    "ExecuteTime": {
     "end_time": "2023-11-17T15:45:39.889950700Z",
     "start_time": "2023-11-17T15:45:39.870031100Z"
    }
   },
   "id": "b367746aa6a478ac"
  },
  {
   "cell_type": "code",
   "execution_count": 161,
   "outputs": [
    {
     "data": {
      "text/plain": "'Programmazione Concorrente'"
     },
     "execution_count": 161,
     "metadata": {},
     "output_type": "execute_result"
    }
   ],
   "source": [
    "SKILL_ProgrammazioneFunzionale.score = 15\n",
    "\n",
    "CarrierPathModules[0].evaluate()[1].name"
   ],
   "metadata": {
    "collapsed": false,
    "ExecuteTime": {
     "end_time": "2023-11-17T15:45:41.616083300Z",
     "start_time": "2023-11-17T15:45:41.603384400Z"
    }
   },
   "id": "4ad9ed1471ad187a"
  },
  {
   "cell_type": "code",
   "execution_count": 162,
   "outputs": [
    {
     "data": {
      "text/plain": "'Progettazione di DB'"
     },
     "execution_count": 162,
     "metadata": {},
     "output_type": "execute_result"
    }
   ],
   "source": [
    "SKILL_ProgrammazioneConcorrente.score = 2\n",
    "\n",
    "CarrierPathModules[0].evaluate()[1].name"
   ],
   "metadata": {
    "collapsed": false,
    "ExecuteTime": {
     "end_time": "2023-11-17T15:45:42.342807600Z",
     "start_time": "2023-11-17T15:45:42.323832300Z"
    }
   },
   "id": "6bc0a9de0886414a"
  },
  {
   "cell_type": "code",
   "execution_count": 163,
   "outputs": [
    {
     "data": {
      "text/plain": "'Basi di Dati Relazionali'"
     },
     "execution_count": 163,
     "metadata": {},
     "output_type": "execute_result"
    }
   ],
   "source": [
    "SKILL_ProgettazioneDiDB.score = 1\n",
    "\n",
    "CarrierPathModules[0].evaluate()[1].name"
   ],
   "metadata": {
    "collapsed": false,
    "ExecuteTime": {
     "end_time": "2023-11-17T15:45:42.833832400Z",
     "start_time": "2023-11-17T15:45:42.814548100Z"
    }
   },
   "id": "60e5f06dc99d372c"
  },
  {
   "cell_type": "code",
   "execution_count": 164,
   "outputs": [
    {
     "name": "stdout",
     "output_type": "stream",
     "text": [
      "Python\n"
     ]
    }
   ],
   "source": [
    "SKILL_BasiDiDatiRelazionali.score = 5\n",
    "\n",
    "print(CarrierPathModules[0].evaluate()[1].name)"
   ],
   "metadata": {
    "collapsed": false,
    "ExecuteTime": {
     "end_time": "2023-11-17T15:45:43.387701100Z",
     "start_time": "2023-11-17T15:45:43.370492500Z"
    }
   },
   "id": "85b22b85ec2b3ff6"
  },
  {
   "cell_type": "code",
   "execution_count": 165,
   "outputs": [
    {
     "data": {
      "text/plain": "(7, None)"
     },
     "execution_count": 165,
     "metadata": {},
     "output_type": "execute_result"
    }
   ],
   "source": [
    "SKILL_Python.score = 12\n",
    "\n",
    "CarrierPathModules[0].evaluate()"
   ],
   "metadata": {
    "collapsed": false,
    "ExecuteTime": {
     "end_time": "2023-11-17T15:45:43.798728300Z",
     "start_time": "2023-11-17T15:45:43.778976500Z"
    }
   },
   "id": "7ec599b34e94f71c"
  },
  {
   "cell_type": "code",
   "execution_count": 166,
   "outputs": [
    {
     "data": {
      "text/plain": "[('Programmazione Procedurale', 10),\n ('Programmazione ad Oggetti', 10),\n ('Programmazione Funzionale', 15),\n ('Programmazione Concorrente', 2),\n ('Progettazione di DB', 1),\n ('Basi di Dati Relazionali', 5),\n ('Python', 12)]"
     },
     "execution_count": 166,
     "metadata": {},
     "output_type": "execute_result"
    }
   ],
   "source": [
    "[(x.name, x.score) for x in CarrierPathModules[0].sub_skills]"
   ],
   "metadata": {
    "collapsed": false,
    "ExecuteTime": {
     "end_time": "2023-11-17T15:45:44.121314100Z",
     "start_time": "2023-11-17T15:45:44.107805400Z"
    }
   },
   "id": "4bbabb20bff6d469"
  },
  {
   "cell_type": "code",
   "execution_count": null,
   "outputs": [],
   "source": [],
   "metadata": {
    "collapsed": false
   },
   "id": "fb5e931d46610bb7"
  }
 ],
 "metadata": {
  "kernelspec": {
   "display_name": "Python 3",
   "language": "python",
   "name": "python3"
  },
  "language_info": {
   "codemirror_mode": {
    "name": "ipython",
    "version": 2
   },
   "file_extension": ".py",
   "mimetype": "text/x-python",
   "name": "python",
   "nbconvert_exporter": "python",
   "pygments_lexer": "ipython2",
   "version": "2.7.6"
  }
 },
 "nbformat": 4,
 "nbformat_minor": 5
}
