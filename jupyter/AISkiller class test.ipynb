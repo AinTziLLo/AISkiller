{
 "cells": [
  {
   "cell_type": "code",
   "execution_count": 4,
   "id": "initial_id",
   "metadata": {
    "collapsed": true,
    "ExecuteTime": {
     "end_time": "2023-11-13T21:52:06.059663800Z",
     "start_time": "2023-11-13T21:52:06.042090900Z"
    }
   },
   "outputs": [],
   "source": [
    "# first cell is the clone of \"AISkiller\" class for speedup testing\n",
    "\n",
    "import os\n",
    "import re\n",
    "import openai\n",
    "from langchain.chat_models import ChatOpenAI\n",
    "from langchain.llms import OpenAI\n",
    "from langchain.schema import AIMessage, HumanMessage, SystemMessage\n",
    "from langchain.output_parsers import CommaSeparatedListOutputParser, PydanticOutputParser\n",
    "from langchain.prompts import PromptTemplate\n",
    "from langchain.pydantic_v1 import BaseModel, Field\n",
    "import csv\n",
    "from datetime import datetime\n",
    "\n",
    "\n",
    "class AISkiller:\n",
    "    def setup(self, profession=\"Machine Learning Engineer\", student=\"Mario Rossi\", questions_number=3, verbose=True,\n",
    "              fake_data=False):\n",
    "        # ---\n",
    "        class StepInfo(BaseModel):\n",
    "            ai_evaluation: str = Field(description=\"evaluation of the Student's answer\")\n",
    "            score: str = Field(description=\"score of the Student's answer\")\n",
    "            finished: bool = Field(\n",
    "                description=\"if the answer provided is sufficient for an objective evaluation of the student's skills\")\n",
    "\n",
    "        self.step_info_parser = PydanticOutputParser(pydantic_object=StepInfo)\n",
    "\n",
    "        openai.api_key = os.getenv(\"openai_key\")\n",
    "\n",
    "        self.open_ai_model = OpenAI(temperature=0., openai_api_key=os.getenv(\"openai_key\"), max_tokens=512)\n",
    "        self.chat_open_ai_model = ChatOpenAI(temperature=0., openai_api_key=os.getenv(\"openai_key\"), max_tokens=512)\n",
    "\n",
    "        self.comma_separated_list_output_parser = CommaSeparatedListOutputParser()\n",
    "        self.comma_separated_format_instructions = self.comma_separated_list_output_parser.get_format_instructions()\n",
    "        # ---\n",
    "        self.questions_number = questions_number\n",
    "        self.student = student\n",
    "        self.verbose = verbose\n",
    "        self.retry_question = False\n",
    "        self.user_timestamp = str(datetime.now().timestamp())\n",
    "\n",
    "        if fake_data:\n",
    "            self.profession = \"Frontend Developer\"\n",
    "            self.field = \"Web Development\"\n",
    "            self.skills = ['HTML/CSS', 'JavaScript', 'Responsive Design.']\n",
    "            self.q_a = [\n",
    "                {\n",
    "                    'skill': 'HTML/CSS',\n",
    "                    'question': 'What is the purpose of the z-index property in CSS?',\n",
    "                    'ai_reference': 'The purpose of the z-index property in CSS is to specify the stack order of an element, relative to other elements on the same page. It is used to control the overlapping of elements on the page, with higher values indicating higher priority.',\n",
    "                    'answer': None,\n",
    "                    'score': None,\n",
    "                    'evaluation': None\n",
    "                },\n",
    "                {\n",
    "                    'skill': 'JavaScript',\n",
    "                    'question': 'What is the difference between a function expression and a function declaration in JavaScript?',\n",
    "                    'ai_reference': 'A function expression is a function that is assigned to a variable, whereas a function declaration is a function that is declared with the function keyword.',\n",
    "                    'answer': None,\n",
    "                    'score': None,\n",
    "                    'evaluation': None\n",
    "                },\n",
    "                {\n",
    "                    'skill': 'Responsive Design.',\n",
    "                    'question': 'What is the difference between a mobile-first and a desktop-first approach to Responsive Design?',\n",
    "                    'ai_reference': 'The main difference between a mobile-first and a desktop-first approach to Responsive Design is that the mobile-first approach prioritizes the design of the mobile version of the website, while the desktop-first approach prioritizes the design of the desktop version of the website.',\n",
    "                    'answer': None,\n",
    "                    'score': None,\n",
    "                    'evaluation': None\n",
    "                }\n",
    "            ]\n",
    "        else:\n",
    "            self.profession = profession\n",
    "            self.profession = self.translate(profession)\n",
    "            self.field = self.get_field()\n",
    "            self.skills = self.get_skills()\n",
    "            self.q_a = []\n",
    "            self.get_questions()\n",
    "\n",
    "        self.save_q_a_log_to_csv()\n",
    "\n",
    "        if self.verbose:\n",
    "            print(\"-\" * 9, \"init\", \"-\" * 9)\n",
    "            print(\"skills related to a \" + self.profession + \" in the field of \" + self.field + \":\")\n",
    "            for i, s in enumerate(self.skills):\n",
    "                print(\"\\n\", s, \"\\nQ:\", self.q_a[i][\"question\"], \"- A:\", self.q_a[i][\"ai_reference\"])\n",
    "            print(\"-\" * 24, \"\\n\")\n",
    "\n",
    "    def get_field(self):\n",
    "        return self.chat_open_ai_model([\n",
    "            SystemMessage(\n",
    "                content=\"You are a bot specialized in finding the scope of a particular profession in one short sentence; if you don't find an answer, reply with \\\"\\\"\\\"Work\\\"\\\"\\\"\"),\n",
    "            HumanMessage(content=\"Data Scientist\"),\n",
    "            AIMessage(content=\"Data Science\"),\n",
    "            HumanMessage(content=\"carpenter\"),\n",
    "            AIMessage(content=\"industry\"),\n",
    "            HumanMessage(content=\"teacher\"),\n",
    "            AIMessage(content=\"instruction\"),\n",
    "            HumanMessage(content=\"Lawyer\"),\n",
    "            AIMessage(content=\"Law\"),\n",
    "            HumanMessage(content=\"employee\"),\n",
    "            AIMessage(content=\"work\"),\n",
    "            HumanMessage(content=\"Carpenter\"),\n",
    "            AIMessage(content=\"Industry\"),\n",
    "            HumanMessage(content=\"nurse\"),\n",
    "            AIMessage(content=\"medicine\"),\n",
    "            HumanMessage(content=\"operator\"),\n",
    "            AIMessage(content=\"operator\"),\n",
    "            HumanMessage(content=self.profession)\n",
    "        ]).content\n",
    "\n",
    "    def translate(self, message, to_eng=True):\n",
    "        if to_eng:\n",
    "            language_from = \"italian\"\n",
    "            language_to = \"english\"\n",
    "        else:\n",
    "            language_from = \"english\"\n",
    "            language_to = \"italian\"\n",
    "        return openai.ChatCompletion.create(\n",
    "            model=\"gpt-3.5-turbo-1106\",\n",
    "            messages=[\n",
    "                {\n",
    "                    \"role\": \"system\",\n",
    "                    \"content\": \"You are an expert translator from \" + language_from + \" to \" + language_to + \" with experience in texts related to the \" + self.profession + \" .\\nTranslate the user input into \" + language_to + \" and output only the translated text.\"\n",
    "                },\n",
    "                {\n",
    "                    \"role\": \"user\",\n",
    "                    \"content\": message\n",
    "                }\n",
    "            ],\n",
    "            temperature=0,\n",
    "            max_tokens=512,\n",
    "            top_p=1,\n",
    "            frequency_penalty=0,\n",
    "            presence_penalty=0\n",
    "        ).choices[-1].message.content\n",
    "\n",
    "    def get_skills(self):\n",
    "        prompt = PromptTemplate(\n",
    "            template=\"\"\"Act as an expert recruiter in the field of {field}.\n",
    "Identify and list the top {selected_skills_number} skills a {profession} should have.\n",
    "The selected skills must be easily measurable in a short interview.\n",
    "\n",
    "{format_instructions}\"\"\",\n",
    "            input_variables=[\"field\", \"top_skills_number\", \"profession\"],\n",
    "            partial_variables={\"format_instructions\": self.comma_separated_format_instructions}\n",
    "        )\n",
    "\n",
    "        output = self.open_ai_model(\n",
    "            prompt.format(field=self.field, profession=self.profession, selected_skills_number=self.questions_number))\n",
    "        return [re.sub(r\"^\\n?\\d+\\.\\s+\", \"\", x) for x in self.comma_separated_list_output_parser.parse(output)]\n",
    "\n",
    "    def get_question(self, skill):\n",
    "        llm = OpenAI(temperature=0.33, openai_api_key=openai.api_key, max_tokens=512)\n",
    "        new_question_prompt = PromptTemplate(\n",
    "            template=\"\"\"Act like an expert {field} teacher who has taught a course that delves into {skill}.\n",
    "    Generate a question about {skill} in the form of a short, formal text; the question must be in such a form as to require a very short answer and to allow an unambiguous evaluation. Don't add comments of any kind, just write the question.\"\"\",\n",
    "            input_variables=[\"field\", \"skill\"]\n",
    "        )\n",
    "        ai_answer_prompt = PromptTemplate(\n",
    "            template=\"\"\"Act like an expert {field} teacher who has taught a course that delves into {skill}.\n",
    "    Reply to the question \\\"\\\"\\\"{question}\\\"\\\"\\\"\n",
    "    The answer must be in the form of a short, formal text; the answer must be a short, correct and complete answer. Don't add comments of any kind, just write the answer.\"\"\",\n",
    "            input_variables=[\"field\", \"skill\", \"question\"]\n",
    "        )\n",
    "        question = llm(new_question_prompt.format(field=self.field, skill=skill)).strip()\n",
    "        return {\n",
    "            \"skill\": skill,\n",
    "            \"question\": question,\n",
    "            \"ai_reference\": llm(ai_answer_prompt.format(field=self.field, skill=skill, question=question)).strip(),\n",
    "            \"answer\": None,\n",
    "            \"eng_answer\": None,\n",
    "            \"score\": None,\n",
    "            \"evaluation\": None,\n",
    "            \"finished\": None\n",
    "        }\n",
    "\n",
    "    def get_questions(self):\n",
    "        for skill in self.skills:\n",
    "            self.q_a.append(self.get_question(skill))\n",
    "\n",
    "    def get_next_question(self):\n",
    "        idx = 0\n",
    "        question_found = False\n",
    "        question = None\n",
    "        ai_reference = None\n",
    "        skill_analyzed = None\n",
    "        while not question_found and idx < len(self.q_a):\n",
    "            q_a = self.q_a[idx]\n",
    "            if not q_a[\"score\"]:\n",
    "                question_found = True\n",
    "                question = q_a[\"question\"]\n",
    "                ai_reference = q_a[\"ai_reference\"]\n",
    "                skill_analyzed = q_a[\"skill\"]\n",
    "            else:\n",
    "                idx += 1\n",
    "        return question, ai_reference, skill_analyzed, idx\n",
    "\n",
    "    def step(self, answer=None):\n",
    "        question, ai_reference, skill_analyzed, q_a_idx = self.get_next_question()\n",
    "        if not question:\n",
    "            return None\n",
    "        else:\n",
    "            if not answer:\n",
    "                return self.translate(question, to_eng=False)\n",
    "            else:\n",
    "                eng_answer = self.translate(answer)\n",
    "                prompt = PromptTemplate(\n",
    "                    template=\"Follow these steps to answer the user queries.\\n\\nStep 1 - First analyze the question and the AI-Assistant answer. Don't rely on the Student's answer since it may be incorrect.\\n\\nStep 2 - Compare the AI-Assistant answer to the Student's answer and evaluate the Student's answer in detail, explaining how the response can be improved.\\n\\nStep 3 - Score the Student's answer compared to the AI-Assistant's answer on a scale from 1 to 5.\\n\\n{format_instructions}\\n\\n{query}\\n\",\n",
    "                    input_variables=[\"query\"],\n",
    "                    partial_variables={\"format_instructions\": self.step_info_parser.get_format_instructions()},\n",
    "                )\n",
    "                prompt_and_model = prompt | self.open_ai_model\n",
    "                result = self.step_info_parser.invoke(prompt_and_model.invoke({\n",
    "                                                                                  \"query\": \"Question: \\\"\\\"\\\"\" + question + \"\\\"\\\"\\\"\\n\\nAI-Assistant answer: \\\"\\\"\\\"\" + ai_reference + \"\\\"\\\"\\\"\\n\\nStudent answer: \\\"\\\"\\\"\" + eng_answer + \"\\\"\\\"\\\"\"}))\n",
    "                self.q_a[q_a_idx][\"answer\"] = answer\n",
    "                self.q_a[q_a_idx][\"eng_answer\"] = eng_answer\n",
    "                self.q_a[q_a_idx][\"score\"] = result.score\n",
    "                self.q_a[q_a_idx][\"evaluation\"] = result.ai_evaluation\n",
    "                self.q_a[q_a_idx][\"finished\"] = result.finished\n",
    "                if not result.finished:\n",
    "                    if not self.retry_question:\n",
    "                        self.q_a.insert(q_a_idx + 1, self.get_question(self.q_a[q_a_idx][\"skill\"]))\n",
    "                        self.retry_question = True\n",
    "                    else:\n",
    "                        self.retry_question = False\n",
    "                self.save_q_a_log_to_csv()\n",
    "                return self.q_a[q_a_idx]\n",
    "\n",
    "    def save_q_a_log_to_csv(self):\n",
    "        filename = 'data/' + self.user_timestamp + '_log.csv'\n",
    "        with open(filename, 'w', newline='\\n') as csvfile:\n",
    "            fieldnames = ['skill', 'question', 'ai_reference', 'answer', 'eng_answer', 'score', 'evaluation', 'finished']\n",
    "            writer = csv.DictWriter(csvfile, fieldnames=fieldnames)\n",
    "            writer.writeheader()\n",
    "\n",
    "            for item in self.q_a:\n",
    "                writer.writerow(item)"
   ]
  },
  {
   "cell_type": "code",
   "execution_count": 5,
   "outputs": [],
   "source": [
    "\"\"\" SETUP \"\"\"\n",
    "\n",
    "profession = 'Data Engineer'\n",
    "student = \"Roberta Bianchi\""
   ],
   "metadata": {
    "collapsed": false,
    "ExecuteTime": {
     "end_time": "2023-11-13T21:52:06.071665800Z",
     "start_time": "2023-11-13T21:52:06.057662400Z"
    }
   },
   "id": "47957e67f4c7d65e"
  },
  {
   "cell_type": "code",
   "execution_count": 6,
   "outputs": [
    {
     "name": "stdout",
     "output_type": "stream",
     "text": [
      "--------- init ---------\n",
      "skills related to a Frontend Developer in the field of Web Development:\n",
      "\n",
      " HTML/CSS \n",
      "Q: What is the purpose of the z-index property in CSS? - A: The purpose of the z-index property in CSS is to specify the stack order of an element, relative to other elements on the same page. It is used to control the overlapping of elements on the page, with higher values indicating higher priority.\n",
      "\n",
      " JavaScript \n",
      "Q: What is the difference between a function expression and a function declaration in JavaScript? - A: A function expression is a function that is assigned to a variable, whereas a function declaration is a function that is declared with the function keyword.\n",
      "\n",
      " Responsive Design. \n",
      "Q: What is the difference between a mobile-first and a desktop-first approach to Responsive Design? - A: The main difference between a mobile-first and a desktop-first approach to Responsive Design is that the mobile-first approach prioritizes the design of the mobile version of the website, while the desktop-first approach prioritizes the design of the desktop version of the website.\n",
      "------------------------ \n"
     ]
    }
   ],
   "source": [
    "\"\"\" TEST \"\"\"\n",
    "\n",
    "ai_skiller = AISkiller()\n",
    "\n",
    "ai_skiller.setup(\n",
    "    profession=profession, \n",
    "    student=student, \n",
    "    questions_number=3, \n",
    "    fake_data=True\n",
    ")"
   ],
   "metadata": {
    "collapsed": false,
    "ExecuteTime": {
     "end_time": "2023-11-13T21:52:06.117007400Z",
     "start_time": "2023-11-13T21:52:06.073662200Z"
    }
   },
   "id": "219340fd3c151020"
  },
  {
   "cell_type": "code",
   "execution_count": 7,
   "outputs": [
    {
     "data": {
      "text/plain": "'Qual è lo scopo della proprietà z-index in CSS?'"
     },
     "execution_count": 7,
     "metadata": {},
     "output_type": "execute_result"
    }
   ],
   "source": [
    "ai_skiller.step()"
   ],
   "metadata": {
    "collapsed": false,
    "ExecuteTime": {
     "end_time": "2023-11-13T21:52:06.663957500Z",
     "start_time": "2023-11-13T21:52:06.089662400Z"
    }
   },
   "id": "a6f63c5c298c4a41"
  },
  {
   "cell_type": "code",
   "execution_count": 8,
   "outputs": [
    {
     "data": {
      "text/plain": "{'skill': 'HTML/CSS',\n 'question': 'What is the purpose of the z-index property in CSS?',\n 'ai_reference': 'The purpose of the z-index property in CSS is to specify the stack order of an element, relative to other elements on the same page. It is used to control the overlapping of elements on the page, with higher values indicating higher priority.',\n 'answer': 'su cluster di computer',\n 'score': '1',\n 'evaluation': \"The student's answer does not address the question. The student should explain the purpose of the z-index property in CSS.\",\n 'eng_answer': 'computer cluster',\n 'finished': False}"
     },
     "execution_count": 8,
     "metadata": {},
     "output_type": "execute_result"
    }
   ],
   "source": [
    "ai_skiller.step(answer=\"su cluster di computer\")"
   ],
   "metadata": {
    "collapsed": false,
    "ExecuteTime": {
     "end_time": "2023-11-13T21:52:09.498493900Z",
     "start_time": "2023-11-13T21:52:06.665958200Z"
    }
   },
   "id": "896cfd93203a0cd5"
  },
  {
   "cell_type": "code",
   "execution_count": 9,
   "outputs": [
    {
     "data": {
      "text/plain": "[{'skill': 'HTML/CSS',\n  'question': 'What is the purpose of the z-index property in CSS?',\n  'ai_reference': 'The purpose of the z-index property in CSS is to specify the stack order of an element, relative to other elements on the same page. It is used to control the overlapping of elements on the page, with higher values indicating higher priority.',\n  'answer': 'su cluster di computer',\n  'score': '1',\n  'evaluation': \"The student's answer does not address the question. The student should explain the purpose of the z-index property in CSS.\",\n  'eng_answer': 'computer cluster',\n  'finished': False},\n {'skill': 'HTML/CSS',\n  'question': 'What is the purpose of the <head> element in HTML?',\n  'ai_reference': 'The <head> element in HTML contains information about the document, such as the title, meta data, and links to external resources.',\n  'answer': None,\n  'eng_answer': None,\n  'score': None,\n  'evaluation': None,\n  'finished': None},\n {'skill': 'JavaScript',\n  'question': 'What is the difference between a function expression and a function declaration in JavaScript?',\n  'ai_reference': 'A function expression is a function that is assigned to a variable, whereas a function declaration is a function that is declared with the function keyword.',\n  'answer': None,\n  'score': None,\n  'evaluation': None},\n {'skill': 'Responsive Design.',\n  'question': 'What is the difference between a mobile-first and a desktop-first approach to Responsive Design?',\n  'ai_reference': 'The main difference between a mobile-first and a desktop-first approach to Responsive Design is that the mobile-first approach prioritizes the design of the mobile version of the website, while the desktop-first approach prioritizes the design of the desktop version of the website.',\n  'answer': None,\n  'score': None,\n  'evaluation': None}]"
     },
     "execution_count": 9,
     "metadata": {},
     "output_type": "execute_result"
    }
   ],
   "source": [
    "ai_skiller.q_a"
   ],
   "metadata": {
    "collapsed": false,
    "ExecuteTime": {
     "end_time": "2023-11-13T21:52:09.558498500Z",
     "start_time": "2023-11-13T21:52:09.500493900Z"
    }
   },
   "id": "cbf39c2d0a5c6d22"
  }
 ],
 "metadata": {
  "kernelspec": {
   "display_name": "Python 3",
   "language": "python",
   "name": "python3"
  },
  "language_info": {
   "codemirror_mode": {
    "name": "ipython",
    "version": 2
   },
   "file_extension": ".py",
   "mimetype": "text/x-python",
   "name": "python",
   "nbconvert_exporter": "python",
   "pygments_lexer": "ipython2",
   "version": "2.7.6"
  }
 },
 "nbformat": 4,
 "nbformat_minor": 5
}
