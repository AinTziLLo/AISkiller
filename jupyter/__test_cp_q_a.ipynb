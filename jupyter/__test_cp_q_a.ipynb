{
 "cells": [
  {
   "cell_type": "code",
   "execution_count": 1,
   "outputs": [],
   "source": [
    "import math\n",
    "\n",
    "from python_developer import PythonDeveloperCP\n",
    "from skills import *"
   ],
   "metadata": {
    "collapsed": false,
    "ExecuteTime": {
     "end_time": "2023-11-21T17:06:25.025560800Z",
     "start_time": "2023-11-21T17:06:24.944572700Z"
    }
   },
   "id": "77da7999e6ec6ae7"
  },
  {
   "cell_type": "code",
   "execution_count": 2,
   "outputs": [],
   "source": [
    "python_developer_cp = PythonDeveloperCP()"
   ],
   "metadata": {
    "collapsed": false,
    "ExecuteTime": {
     "end_time": "2023-11-21T17:06:25.049561400Z",
     "start_time": "2023-11-21T17:06:25.027561200Z"
    }
   },
   "id": "a7e7abadcfdb3acf"
  },
  {
   "cell_type": "code",
   "execution_count": 3,
   "outputs": [
    {
     "data": {
      "text/plain": "[('Programmazione', 'Programmazione ad Oggetti'),\n ('Reti', 'Cloud Computing'),\n ('Data Science', 'Data Driven Mindset'),\n ('Machine Learning', 'Introduzione al Machine Learning')]"
     },
     "execution_count": 3,
     "metadata": {},
     "output_type": "execute_result"
    }
   ],
   "source": [
    "[(x.name, y.name) for (x, y) in python_developer_cp.get_skills_to_evaluate()]"
   ],
   "metadata": {
    "collapsed": false,
    "ExecuteTime": {
     "end_time": "2023-11-21T17:06:25.100565700Z",
     "start_time": "2023-11-21T17:06:25.047560400Z"
    }
   },
   "id": "998e03243de00058"
  },
  {
   "cell_type": "code",
   "execution_count": 4,
   "outputs": [
    {
     "name": "stdout",
     "output_type": "stream",
     "text": [
      "***** Python Developer *****\n",
      "Programmazione\n",
      "\t Programmazione Procedurale\n",
      "\t Programmazione ad Oggetti\n",
      "\t Programmazione Funzionale\n",
      "\t Programmazione Concorrente\n",
      "\t Progettazione di DB\n",
      "\t Basi di Dati Relazionali\n",
      "\t\t MySQL\n",
      "\t\t PostgreSQL\n",
      "\t Python\n",
      "Reti\n",
      "\t Cloud Computing\n",
      "\t\t Introduzione al Cloud Computing\n",
      "Data Science\n",
      "\t Data Driven Mindset\n",
      "Machine Learning\n",
      "\t Introduzione al Machine Learning\n"
     ]
    }
   ],
   "source": [
    "CarrierPathName = python_developer_cp.name\n",
    "CarrierPathModules = python_developer_cp.modules\n",
    "\n",
    "print(\"*\" * 5, CarrierPathName, \"*\" * 5)\n",
    "for skill_family in CarrierPathModules:\n",
    "    print(skill_family.name)\n",
    "    for sub_family in skill_family.sub_skills:\n",
    "        print('\\t', sub_family.name)\n",
    "        for sub_skill in sub_family.sub_skills:\n",
    "            print('\\t\\t', sub_skill.name)"
   ],
   "metadata": {
    "collapsed": false,
    "ExecuteTime": {
     "end_time": "2023-11-21T17:06:25.117560800Z",
     "start_time": "2023-11-21T17:06:25.059560600Z"
    }
   },
   "id": "93a7e33ddaef9d6d"
  },
  {
   "cell_type": "code",
   "execution_count": 5,
   "outputs": [
    {
     "name": "stdout",
     "output_type": "stream",
     "text": [
      "Programmazione Procedurale\n"
     ]
    }
   ],
   "source": [
    "print(CarrierPathModules[0].get_skill_to_evaluate().name)"
   ],
   "metadata": {
    "collapsed": false,
    "ExecuteTime": {
     "end_time": "2023-11-21T17:06:25.117560800Z",
     "start_time": "2023-11-21T17:06:25.074563300Z"
    }
   },
   "id": "fb722122e403e501"
  },
  {
   "cell_type": "code",
   "execution_count": 6,
   "outputs": [
    {
     "name": "stdout",
     "output_type": "stream",
     "text": [
      "Python\n"
     ]
    }
   ],
   "source": [
    "SKILL_ProgrammazioneProcedurale.score = 10\n",
    "\n",
    "print(CarrierPathModules[0].get_skill_to_evaluate().name)"
   ],
   "metadata": {
    "collapsed": false,
    "ExecuteTime": {
     "end_time": "2023-11-21T17:06:25.119561600Z",
     "start_time": "2023-11-21T17:06:25.089560800Z"
    }
   },
   "id": "801b3274232020d8"
  },
  {
   "cell_type": "code",
   "execution_count": 7,
   "outputs": [
    {
     "name": "stdout",
     "output_type": "stream",
     "text": [
      "Python\n"
     ]
    }
   ],
   "source": [
    "SKILL_ProgrammazioneOOP.score = 10\n",
    "\n",
    "print(CarrierPathModules[0].get_skill_to_evaluate().name)"
   ],
   "metadata": {
    "collapsed": false,
    "ExecuteTime": {
     "end_time": "2023-11-21T17:06:25.136562500Z",
     "start_time": "2023-11-21T17:06:25.103559500Z"
    }
   },
   "id": "35b645fc8f1f41c0"
  },
  {
   "cell_type": "code",
   "execution_count": 8,
   "outputs": [
    {
     "name": "stdout",
     "output_type": "stream",
     "text": [
      "Programmazione Concorrente\n"
     ]
    }
   ],
   "source": [
    "SKILL_ProgrammazioneFunzionale.score = 15\n",
    "\n",
    "print(CarrierPathModules[0].get_skill_to_evaluate().name)"
   ],
   "metadata": {
    "collapsed": false,
    "ExecuteTime": {
     "end_time": "2023-11-21T17:06:25.226113400Z",
     "start_time": "2023-11-21T17:06:25.120559400Z"
    }
   },
   "id": "d14c4e440596a9ee"
  },
  {
   "cell_type": "code",
   "execution_count": 9,
   "outputs": [
    {
     "name": "stdout",
     "output_type": "stream",
     "text": [
      "Progettazione di DB\n"
     ]
    }
   ],
   "source": [
    "SKILL_ProgrammazioneConcorrente.score = 2\n",
    "\n",
    "print(CarrierPathModules[0].get_skill_to_evaluate().name)"
   ],
   "metadata": {
    "collapsed": false,
    "ExecuteTime": {
     "end_time": "2023-11-21T17:06:25.228107200Z",
     "start_time": "2023-11-21T17:06:25.134558400Z"
    }
   },
   "id": "5efa8fdb2f014a6b"
  },
  {
   "cell_type": "code",
   "execution_count": 10,
   "outputs": [
    {
     "name": "stdout",
     "output_type": "stream",
     "text": [
      "Basi di Dati Relazionali\n"
     ]
    }
   ],
   "source": [
    "SKILL_ProgettazioneDiDB.score = 1\n",
    "\n",
    "print(CarrierPathModules[0].get_skill_to_evaluate().name)"
   ],
   "metadata": {
    "collapsed": false,
    "ExecuteTime": {
     "end_time": "2023-11-21T17:06:25.257654600Z",
     "start_time": "2023-11-21T17:06:25.150562100Z"
    }
   },
   "id": "74b42f92aa8015c3"
  },
  {
   "cell_type": "code",
   "execution_count": 11,
   "outputs": [
    {
     "name": "stdout",
     "output_type": "stream",
     "text": [
      "Progettazione di DB\n"
     ]
    }
   ],
   "source": [
    "SKILL_BasiDiDatiRelazionali.score = 5\n",
    "\n",
    "print(CarrierPathModules[0].get_skill_to_evaluate().name)"
   ],
   "metadata": {
    "collapsed": false,
    "ExecuteTime": {
     "end_time": "2023-11-21T17:06:25.261645300Z",
     "start_time": "2023-11-21T17:06:25.167096300Z"
    }
   },
   "id": "d826896745a67833"
  },
  {
   "cell_type": "code",
   "execution_count": 12,
   "outputs": [],
   "source": [
    "SKILL_Python.score = 12\n",
    "SKILL_Programmazione.score = 10"
   ],
   "metadata": {
    "collapsed": false,
    "ExecuteTime": {
     "end_time": "2023-11-21T17:06:25.261645300Z",
     "start_time": "2023-11-21T17:06:25.181115100Z"
    }
   },
   "id": "8e56b69574a6eee2"
  },
  {
   "cell_type": "code",
   "execution_count": 13,
   "outputs": [
    {
     "data": {
      "text/plain": "'Progettazione di DB'"
     },
     "execution_count": 13,
     "metadata": {},
     "output_type": "execute_result"
    }
   ],
   "source": [
    "CarrierPathModules[0].get_skill_to_evaluate().name"
   ],
   "metadata": {
    "collapsed": false,
    "ExecuteTime": {
     "end_time": "2023-11-21T17:06:25.261645300Z",
     "start_time": "2023-11-21T17:06:25.198106300Z"
    }
   },
   "id": "50209552c7252cd1"
  },
  {
   "cell_type": "code",
   "execution_count": 14,
   "outputs": [
    {
     "data": {
      "text/plain": "[('Programmazione Procedurale', 10),\n ('Programmazione ad Oggetti', 10),\n ('Programmazione Funzionale', 15),\n ('Programmazione Concorrente', 2),\n ('Progettazione di DB', 1),\n ('Basi di Dati Relazionali', 5),\n ('Python', 12)]"
     },
     "execution_count": 14,
     "metadata": {},
     "output_type": "execute_result"
    }
   ],
   "source": [
    "[(x.name, x.score) for x in CarrierPathModules[0].sub_skills]"
   ],
   "metadata": {
    "collapsed": false,
    "ExecuteTime": {
     "end_time": "2023-11-21T17:06:25.277644200Z",
     "start_time": "2023-11-21T17:06:25.215107Z"
    }
   },
   "id": "124a5141fecea38e"
  },
  {
   "cell_type": "code",
   "execution_count": 15,
   "outputs": [],
   "source": [
    "# --------------------------------------------------------------------------"
   ],
   "metadata": {
    "collapsed": false,
    "ExecuteTime": {
     "end_time": "2023-11-21T17:06:26.239670300Z",
     "start_time": "2023-11-21T17:06:26.211368Z"
    }
   },
   "id": "8c555fa05f52aa1a"
  },
  {
   "cell_type": "code",
   "execution_count": 16,
   "outputs": [],
   "source": [
    "import os\n",
    "import openai\n",
    "from langchain.llms import OpenAI\n",
    "from langchain.prompts import PromptTemplate\n",
    "\n",
    "openai.api_key = os.getenv(\"openai_key\")"
   ],
   "metadata": {
    "collapsed": false,
    "ExecuteTime": {
     "end_time": "2023-11-21T17:06:26.929692600Z",
     "start_time": "2023-11-21T17:06:26.411719700Z"
    }
   },
   "id": "7a121437f06c6860"
  },
  {
   "cell_type": "code",
   "execution_count": 17,
   "outputs": [],
   "source": [
    "module = python_developer_cp.modules[0].name\n",
    "skill = python_developer_cp.modules[0].get_skill_to_evaluate().name\n",
    "\n",
    "def translate(message, to_eng=True):\n",
    "    if to_eng:\n",
    "        language_from = \"italian\"\n",
    "        language_to = \"english\"\n",
    "    else:\n",
    "        language_from = \"english\"\n",
    "        language_to = \"italian\"\n",
    "    return openai.ChatCompletion.create(\n",
    "        model=\"gpt-3.5-turbo\",\n",
    "        messages=[\n",
    "            {\n",
    "                \"role\": \"system\",\n",
    "                \"content\": \"Traslate from \" + language_from + \" to \" + language_to + \" the user input into and output only the translated text.\"\n",
    "            },\n",
    "            {\n",
    "                \"role\": \"user\",\n",
    "                \"content\": message\n",
    "            }\n",
    "        ],\n",
    "        temperature=0,\n",
    "        max_tokens=50,\n",
    "        top_p=1,\n",
    "        frequency_penalty=0,\n",
    "        presence_penalty=0\n",
    "    ).choices[-1].message.content"
   ],
   "metadata": {
    "collapsed": false,
    "ExecuteTime": {
     "end_time": "2023-11-21T17:06:26.945691300Z",
     "start_time": "2023-11-21T17:06:26.931699700Z"
    }
   },
   "id": "bbe28e5ce6482f84"
  },
  {
   "cell_type": "code",
   "execution_count": 18,
   "outputs": [],
   "source": [
    "# cp_eng = translate(python_developer_cp.name)\n",
    "# sleep(2)\n",
    "# module_eng = translate(module)\n",
    "# sleep(2)\n",
    "# skill_eng = translate(skill)\n",
    "# \n",
    "# print('[', cp_eng, '] : generating a q&a for the [', module_eng, '] module on the [', skill_eng, '] skill')"
   ],
   "metadata": {
    "collapsed": false,
    "ExecuteTime": {
     "end_time": "2023-11-21T17:06:27.505313800Z",
     "start_time": "2023-11-21T17:06:27.472017900Z"
    }
   },
   "id": "56172c254539a23f"
  },
  {
   "cell_type": "code",
   "execution_count": 19,
   "outputs": [],
   "source": [
    "cp_eng = \"Python Developer\"\n",
    "module_eng = \"Software Development\"\n",
    "skill_eng = \"Relational Database\"\n",
    "skill = \"Database Relazionali\""
   ],
   "metadata": {
    "collapsed": false,
    "ExecuteTime": {
     "end_time": "2023-11-21T17:06:28.364201400Z",
     "start_time": "2023-11-21T17:06:28.346198800Z"
    }
   },
   "id": "72bf797fd30b83b"
  },
  {
   "cell_type": "code",
   "execution_count": 20,
   "outputs": [
    {
     "name": "stdout",
     "output_type": "stream",
     "text": [
      "{'skill': 'Database Relazionali', 'question': 'What is a Relational Database?', 'ai_reference': 'A relational database is a type of database that stores and organizes data into tables that are related to one another based on defined relationships. It allows users to easily access and manipulate data through the use of Structured Query Language (SQL).', 'answer': None, 'eng_answer': None, 'score': None, 'evaluation': None, 'finished': None}\n"
     ]
    }
   ],
   "source": [
    "# llm = OpenAI(temperature=.75, openai_api_key=openai.api_key, max_tokens=50, top_p=1, frequency_penalty=0, presence_penalty=0)\n",
    "# \n",
    "# new_question_prompt = PromptTemplate(\n",
    "#     template=\"\"\"act as an expert {cp} trainer who has experience in {module}, especially regarding {skill}.\n",
    "# write a question about {skill} in the form of a short, formal text.\n",
    "# creates a question that requires a very short and unambiguous answer.\n",
    "# don't add comments of any kind, just write the question.\"\"\",\n",
    "#     input_variables=[\"cp\", \"module\", \"skill\"]\n",
    "# )\n",
    "# ai_answer_prompt = PromptTemplate(\n",
    "#     template=\"\"\"Act like an expert {module} trainer who has taught a specialization course in {skill}.\n",
    "# Answer the question \\\"\\\"\\\"{question}\\\"\\\"\\\".\n",
    "# The response must be in formal text; the answer must be short, correct and complete.\n",
    "# Don't add comments of any kind, just write your answer.\"\"\",\n",
    "#     input_variables=[\"module\", \"skill\", \"question\"]\n",
    "# )\n",
    "# question = llm(new_question_prompt.format(cp=cp_eng, module=module_eng, skill=skill_eng)).strip()\n",
    "# \n",
    "# result = {\n",
    "#     \"skill\": skill,\n",
    "#     \"question\": question,\n",
    "#     \"ai_reference\": llm(ai_answer_prompt.format(module=module_eng, skill=skill_eng, question=question)).strip(),\n",
    "#     \"answer\": None,\n",
    "#     \"eng_answer\": None,\n",
    "#     \"score\": None,\n",
    "#     \"evaluation\": None,\n",
    "#     \"finished\": None\n",
    "# }\n",
    "# \n",
    "# print(result)"
   ],
   "metadata": {
    "collapsed": false,
    "ExecuteTime": {
     "end_time": "2023-11-21T17:06:31.022255900Z",
     "start_time": "2023-11-21T17:06:28.879482700Z"
    }
   },
   "id": "94244ca13d7b54e5"
  },
  {
   "cell_type": "code",
   "execution_count": 87,
   "outputs": [],
   "source": [
    "from langchain.pydantic_v1 import BaseModel, Field\n",
    "from langchain.output_parsers import PydanticOutputParser"
   ],
   "metadata": {
    "collapsed": false,
    "ExecuteTime": {
     "end_time": "2023-11-21T17:22:55.669978300Z",
     "start_time": "2023-11-21T17:22:55.625691300Z"
    }
   },
   "id": "9c4736d511de4fb7"
  },
  {
   "cell_type": "code",
   "execution_count": 93,
   "outputs": [],
   "source": [
    "model = OpenAI(model=\"gpt-3.5-turbo-instruct\", temperature=.75, openai_api_key=os.getenv(\"openai_key\"), max_tokens=350)\n",
    "\n",
    "class StepInfo(BaseModel):\n",
    "    subject: str = Field(description=\"subject of the question\")\n",
    "    ai_comment: str = Field(description=\"comment on the user's answer\")\n",
    "    score: int = Field(description=\"score of the user's answer\")\n",
    "    new_question: str = Field(description=\"any new question\")\n",
    "    further_questions: str = Field(description=\"only the word CONTINUE or STOP, indicating if it's needed to propose further questions\")\n",
    "\n",
    "step_info_parser = PydanticOutputParser(pydantic_object=StepInfo)"
   ],
   "metadata": {
    "collapsed": false,
    "ExecuteTime": {
     "end_time": "2023-11-21T17:24:53.150539400Z",
     "start_time": "2023-11-21T17:24:53.118820900Z"
    }
   },
   "id": "422c75af56cd6060"
  },
  {
   "cell_type": "code",
   "execution_count": 94,
   "outputs": [],
   "source": [
    "prompt = PromptTemplate(\n",
    "    template=\"\"\"act as an expert {cp} evaluator who has experience in {module}, especially regarding {skill}\n",
    "use informal but refined language \n",
    "\n",
    "first of all, analyze the question: \\\"\\\"\\\"{question}\\\"\\\"\\\"\n",
    "\n",
    "then follow these steps:\n",
    "\n",
    "subject: \\\"\\\"\\\"summarize the question in very few words\\\"\\\"\\\" \n",
    "\n",
    "score: \\\"\\\"\\\"carefully evaluate the user's skills in {skill} by evaluating the user's response to a question with a score from 0 to 100 and write only the score\\\"\\\"\\\"\n",
    "\n",
    "ai_comment: \\\"\\\"\\\"evaluate the answer given by the user and write a very short comment to the user without revealing the correct answer; possibly just suggest how to improve future answers\\\"\\\"\\\"\n",
    "\n",
    "new_question: \\\"\\\"\\\"write a new question to evaluate the user's knowledge in {skill}; the difficulty of the new question is based on the user's skills in {skill}\\\"\\\"\\\"\n",
    "\n",
    "further_questions: \\\"\\\"\\\"write only the word CONTINUE if it's needed to propose further questions to the user with the aim of evaluating his competence in {skill}, otherwise write only the word STOP\\\"\\\"\\\"\n",
    "\n",
    "{format_instructions}\n",
    "\n",
    "User Answer: \\\"\\\"\\\"{answer}\\\"\\\"\\\"\n",
    "\n",
    "\"\"\",\n",
    "    input_variables=[\"cp\", \"module\", \"skill\", \"question\", \"user_answer\"],\n",
    "    partial_variables={\"format_instructions\": step_info_parser.get_format_instructions()},\n",
    ")\n",
    "\n",
    "prompt_with_old_questions = PromptTemplate(\n",
    "    template=\"\"\"act as an expert {cp} evaluator who has experience in {module}, especially regarding {skill}\n",
    "use informal but refined language \n",
    "\n",
    "first of all, analyze the question: \\\"\\\"\\\"{question}\\\"\\\"\\\"\n",
    "\n",
    "then follow these steps:\n",
    "\n",
    "subject: \\\"\\\"\\\"summarize the question in very few words\\\"\\\"\\\"\n",
    "\n",
    "score: \\\"\\\"\\\"carefully evaluate the user's skills in {skill} by evaluating the user's response to a question with a score from 0 to 100 and write only the score\\\"\\\"\\\"\n",
    "\n",
    "ai_comment: \\\"\\\"\\\"evaluate the answer given by the user and write a very short comment to the user without revealing the correct answer; possibly just suggest how to improve future answers\\\"\\\"\\\"\n",
    "\n",
    "new_question: \\\"\\\"\\\"write a new question to evaluate the user's knowledge in {skill}; the difficulty of the new question is based on the user's skills in {skill}; pay attentio to the subject of the new application that must not be one of the following: {old_subjects}\\\"\\\"\\\"\n",
    "\n",
    "further_questions: \\\"\\\"\\\"write only the word CONTINUE if it's needed to propose further questions to the user with the aim of evaluating his competence in {skill}, otherwise write only the word STOP\\\"\\\"\\\"\n",
    "\n",
    "{format_instructions}\n",
    "\n",
    "User Answer: \\\"\\\"\\\"{answer}\\\"\\\"\\\"\n",
    "\n",
    "\"\"\",\n",
    "    input_variables=[\"cp\", \"module\", \"skill\", \"question\", \"user_answer\", \"old_subjects\"],\n",
    "    partial_variables={\"format_instructions\": step_info_parser.get_format_instructions()},\n",
    ")"
   ],
   "metadata": {
    "collapsed": false,
    "ExecuteTime": {
     "end_time": "2023-11-21T17:24:53.725736600Z",
     "start_time": "2023-11-21T17:24:53.706316500Z"
    }
   },
   "id": "9bd4c87ef7db509"
  },
  {
   "cell_type": "code",
   "execution_count": 95,
   "outputs": [
    {
     "name": "stdout",
     "output_type": "stream",
     "text": [
      "---[bot]---\n",
      " What is a relational database?\n",
      "\n",
      "---[user]---\n",
      " a software to manage structured tabular data\n"
     ]
    }
   ],
   "source": [
    "question = \"What is a relational database?\"\n",
    "print('---[bot]---\\n', question)\n",
    "\n",
    "answer = \"un software per gestire dati strutturati tabellari\"\n",
    "# answer = input(question)\n",
    "\n",
    "answer_eng = \"a software to manage structured tabular data\"\n",
    "# answer_eng = translate(answer)\n",
    "print('\\n---[user]---\\n', answer_eng)"
   ],
   "metadata": {
    "collapsed": false,
    "ExecuteTime": {
     "end_time": "2023-11-21T17:24:54.472056300Z",
     "start_time": "2023-11-21T17:24:54.450061500Z"
    }
   },
   "id": "c4bacc4b0a3d1c25"
  },
  {
   "cell_type": "code",
   "execution_count": 96,
   "outputs": [],
   "source": [
    "import json \n",
    "\n",
    "prompt_and_model = prompt | model\n",
    "\n",
    "model_output = prompt_and_model.invoke({\n",
    "    \"cp\": cp_eng,\n",
    "    \"module\": module_eng,\n",
    "    \"skill\": skill_eng,\n",
    "    \"question\": question,\n",
    "    \"answer\": answer_eng\n",
    "})"
   ],
   "metadata": {
    "collapsed": false,
    "ExecuteTime": {
     "end_time": "2023-11-21T17:24:57.431371600Z",
     "start_time": "2023-11-21T17:24:55.640558500Z"
    }
   },
   "id": "1337bd7c2670d320"
  },
  {
   "cell_type": "code",
   "execution_count": 97,
   "outputs": [
    {
     "data": {
      "text/plain": "'{\"subject\": \"Relational Database\", \"ai_comment\": \"Your answer is on the right track, but it could benefit from a bit more detail and technical terminology.\", \"score\": 70, \"new_question\": \"Can you explain the difference between a relational database and a non-relational database?\", \"further_questions\": \"CONTINUE\"}'"
     },
     "execution_count": 97,
     "metadata": {},
     "output_type": "execute_result"
    }
   ],
   "source": [
    "model_output"
   ],
   "metadata": {
    "collapsed": false,
    "ExecuteTime": {
     "end_time": "2023-11-21T17:24:58.813560200Z",
     "start_time": "2023-11-21T17:24:58.784998500Z"
    }
   },
   "id": "caad426a45f543b4"
  },
  {
   "cell_type": "code",
   "execution_count": 98,
   "outputs": [],
   "source": [
    "result = json.loads(model_output)"
   ],
   "metadata": {
    "collapsed": false,
    "ExecuteTime": {
     "end_time": "2023-11-21T17:25:01.655514300Z",
     "start_time": "2023-11-21T17:25:01.616062200Z"
    }
   },
   "id": "a14fd11ec18683c7"
  },
  {
   "cell_type": "code",
   "execution_count": 99,
   "outputs": [
    {
     "name": "stdout",
     "output_type": "stream",
     "text": [
      "question: What is a relational database?\n",
      "answer: un software per gestire dati strutturati tabellari\n",
      "question subject: Relational Database\n",
      "comment to answer: Your answer is on the right track, but it could benefit from a bit more detail and technical terminology.\n",
      "score: 70\n",
      "more questions: CONTINUE\n",
      "new question: Can you explain the difference between a relational database and a non-relational database?\n"
     ]
    }
   ],
   "source": [
    "print('question:', question)\n",
    "print('answer:', answer)\n",
    "print('question subject:', result[\"subject\"])\n",
    "print('comment to answer:', result[\"ai_comment\"])\n",
    "print('score:', result[\"score\"])\n",
    "print('more questions:', result[\"further_questions\"])\n",
    "print('new question:', result[\"new_question\"])"
   ],
   "metadata": {
    "collapsed": false,
    "ExecuteTime": {
     "end_time": "2023-11-21T17:25:03.688656500Z",
     "start_time": "2023-11-21T17:25:03.682655100Z"
    }
   },
   "id": "e9494a1b48eb113c"
  },
  {
   "cell_type": "code",
   "execution_count": 100,
   "outputs": [
    {
     "name": "stdout",
     "output_type": "stream",
     "text": [
      "---[bot]---\n",
      " Can you explain the difference between a relational database and a non-relational database?\n"
     ]
    }
   ],
   "source": [
    "old_subjects = []\n",
    "old_subjects.append(result[\"subject\"])\n",
    "\n",
    "question = result[\"new_question\"]\n",
    "print('---[bot]---\\n', question)"
   ],
   "metadata": {
    "collapsed": false,
    "ExecuteTime": {
     "end_time": "2023-11-21T17:25:07.123135Z",
     "start_time": "2023-11-21T17:25:07.097828800Z"
    }
   },
   "id": "338e7f3285dd53d8"
  },
  {
   "cell_type": "code",
   "execution_count": 101,
   "outputs": [
    {
     "name": "stdout",
     "output_type": "stream",
     "text": [
      "\n",
      "---[user]---\n",
      " first ones have relationships, the latter do not, only unrelated documents\n"
     ]
    }
   ],
   "source": [
    "answer = \"i primi hanno relazioni, i secondi no, solo documenti non relazionati\"\n",
    "# answer = input(question)\n",
    "\n",
    "answer_eng = \"first ones have relationships, the latter do not, only unrelated documents\"\n",
    "# answer_eng = translate(answer)\n",
    "print('\\n---[user]---\\n', answer_eng)"
   ],
   "metadata": {
    "collapsed": false,
    "ExecuteTime": {
     "end_time": "2023-11-21T17:25:51.102218Z",
     "start_time": "2023-11-21T17:25:51.066361900Z"
    }
   },
   "id": "b100fbbe33feb239"
  },
  {
   "cell_type": "code",
   "execution_count": 102,
   "outputs": [
    {
     "name": "stdout",
     "output_type": "stream",
     "text": [
      "{\n",
      "    \"subject\": \"difference between relational and non-relational databases\",\n",
      "    \"ai_comment\": \"Your understanding of relational and non-relational databases seems limited. You may want to do some further research to fully grasp the concept.\",\n",
      "    \"score\": 60,\n",
      "    \"new_question\": \"Can you give an example of a relational database and a non-relational database and explain how they differ?\",\n",
      "    \"further_questions\": \"CONTINUE\"\n",
      "}\n"
     ]
    }
   ],
   "source": [
    "prompt_and_model = prompt_with_old_questions | model\n",
    "\n",
    "old_subjects_str = \", \".join(old_subjects)\n",
    "\n",
    "model_output = prompt_and_model.invoke({\n",
    "    \"cp\": cp_eng,\n",
    "    \"module\": module_eng,\n",
    "    \"skill\": skill_eng,\n",
    "    \"question\": question,\n",
    "    \"answer\": answer_eng,\n",
    "    \"old_subjects\": old_subjects_str\n",
    "})\n",
    "print(model_output)"
   ],
   "metadata": {
    "collapsed": false,
    "ExecuteTime": {
     "end_time": "2023-11-21T17:25:55.198332900Z",
     "start_time": "2023-11-21T17:25:53.224924200Z"
    }
   },
   "id": "bed3e1e4f3a4824"
  },
  {
   "cell_type": "code",
   "execution_count": 103,
   "outputs": [
    {
     "name": "stdout",
     "output_type": "stream",
     "text": [
      "question: Can you explain the difference between a relational database and a non-relational database?\n",
      "answer: i primi hanno relazioni, i secondi no, solo documenti non relazionati\n",
      "question subject: difference between relational and non-relational databases\n",
      "comment to answer: Your understanding of relational and non-relational databases seems limited. You may want to do some further research to fully grasp the concept.\n",
      "score: 60\n",
      "more questions: CONTINUE\n",
      "new question: Can you give an example of a relational database and a non-relational database and explain how they differ?\n"
     ]
    }
   ],
   "source": [
    "result = json.loads(model_output.strip())\n",
    "\n",
    "print('question:', question)\n",
    "print('answer:', answer)\n",
    "print('question subject:', result[\"subject\"])\n",
    "print('comment to answer:', result[\"ai_comment\"])\n",
    "print('score:', result[\"score\"])\n",
    "print('more questions:', result[\"further_questions\"])\n",
    "print('new question:', result[\"new_question\"])"
   ],
   "metadata": {
    "collapsed": false,
    "ExecuteTime": {
     "end_time": "2023-11-21T17:26:10.644396300Z",
     "start_time": "2023-11-21T17:26:10.622102600Z"
    }
   },
   "id": "af5f2ad71d85bdd3"
  },
  {
   "cell_type": "code",
   "execution_count": 104,
   "outputs": [
    {
     "name": "stdout",
     "output_type": "stream",
     "text": [
      "---[bot]---\n",
      " Can you give an example of a relational database and a non-relational database and explain how they differ?\n"
     ]
    }
   ],
   "source": [
    "old_subjects.append(result[\"subject\"])\n",
    "\n",
    "question = result[\"new_question\"]\n",
    "print('---[bot]---\\n', question)"
   ],
   "metadata": {
    "collapsed": false,
    "ExecuteTime": {
     "end_time": "2023-11-21T17:26:14.947042600Z",
     "start_time": "2023-11-21T17:26:14.929048400Z"
    }
   },
   "id": "3376cccd920f915a"
  },
  {
   "cell_type": "code",
   "execution_count": 105,
   "outputs": [
    {
     "name": "stdout",
     "output_type": "stream",
     "text": [
      "\n",
      "---[user]---\n",
      " they differ in whether or not structured data is used; relational databases are organized in tables, document databases are organized in document bins\n"
     ]
    }
   ],
   "source": [
    "answer = \"differiscono per l'utilizzo o no di dati strutturati; i database relazionali sono organizzati in tabelle, quelli documentali sono organizzati in raccoglitori di documenti\"\n",
    "# answer = input(question)\n",
    "\n",
    "answer_eng = \"they differ in whether or not structured data is used; relational databases are organized in tables, document databases are organized in document bins\"\n",
    "# answer_eng = translate(answer)\n",
    "print('\\n---[user]---\\n', answer_eng)"
   ],
   "metadata": {
    "collapsed": false,
    "ExecuteTime": {
     "end_time": "2023-11-21T17:27:09.021337900Z",
     "start_time": "2023-11-21T17:27:08.977300100Z"
    }
   },
   "id": "2f4e7344313c49f5"
  },
  {
   "cell_type": "code",
   "execution_count": 106,
   "outputs": [
    {
     "name": "stdout",
     "output_type": "stream",
     "text": [
      "Relational Database, difference between relational and non-relational databases\n"
     ]
    }
   ],
   "source": [
    "prompt_and_model = prompt_with_old_questions | model\n",
    "\n",
    "old_subjects_str = \", \".join(old_subjects)\n",
    "print(old_subjects_str)"
   ],
   "metadata": {
    "collapsed": false,
    "ExecuteTime": {
     "end_time": "2023-11-21T17:27:10.928393900Z",
     "start_time": "2023-11-21T17:27:10.907393500Z"
    }
   },
   "id": "fc81d6bf1220a4e0"
  },
  {
   "cell_type": "code",
   "execution_count": 107,
   "outputs": [
    {
     "name": "stdout",
     "output_type": "stream",
     "text": [
      "question: Can you give an example of a relational database and a non-relational database and explain how they differ?\n",
      "answer: differiscono per l'utilizzo o no di dati strutturati; i database relazionali sono organizzati in tabelle, quelli documentali sono organizzati in raccoglitori di documenti\n",
      "question subject: Difference between relational and non-relational databases\n",
      "comment to answer: Good job summarizing the main difference between relational and non-relational databases. However, it would be helpful to also mention the use of SQL and NoSQL in relation to these types of databases. Keep up the good work!\n",
      "score: 70\n",
      "more questions: CONTINUE\n",
      "new question: Can you explain the role of SQL and NoSQL in relational and non-relational databases?\n"
     ]
    }
   ],
   "source": [
    "prompt_and_model = prompt_with_old_questions | model\n",
    "\n",
    "old_subjects_str = \", \".join(old_subjects)\n",
    "\n",
    "model_output = prompt_and_model.invoke({\n",
    "    \"cp\": cp_eng,\n",
    "    \"module\": module_eng,\n",
    "    \"skill\": skill_eng,\n",
    "    \"question\": question,\n",
    "    \"answer\": answer_eng,\n",
    "    \"old_subjects\": old_subjects_str\n",
    "})\n",
    "result = json.loads(model_output.strip())\n",
    "\n",
    "print('question:', question)\n",
    "print('answer:', answer)\n",
    "print('question subject:', result[\"subject\"])\n",
    "print('comment to answer:', result[\"ai_comment\"])\n",
    "print('score:', result[\"score\"])\n",
    "print('more questions:', result[\"further_questions\"])\n",
    "print('new question:', result[\"new_question\"])"
   ],
   "metadata": {
    "collapsed": false,
    "ExecuteTime": {
     "end_time": "2023-11-21T17:27:15.929318300Z",
     "start_time": "2023-11-21T17:27:13.667067Z"
    }
   },
   "id": "7d34db23e6c9fe8a"
  },
  {
   "cell_type": "code",
   "execution_count": 108,
   "outputs": [
    {
     "name": "stdout",
     "output_type": "stream",
     "text": [
      "---[bot]---\n",
      " Can you explain the role of SQL and NoSQL in relational and non-relational databases?\n"
     ]
    }
   ],
   "source": [
    "old_subjects.append(result[\"subject\"])\n",
    "\n",
    "question = result[\"new_question\"]\n",
    "print('---[bot]---\\n', question)"
   ],
   "metadata": {
    "collapsed": false,
    "ExecuteTime": {
     "end_time": "2023-11-21T17:27:36.104600100Z",
     "start_time": "2023-11-21T17:27:36.089604300Z"
    }
   },
   "id": "79406c0b52bed7e1"
  },
  {
   "cell_type": "code",
   "execution_count": 109,
   "outputs": [
    {
     "name": "stdout",
     "output_type": "stream",
     "text": [
      "\n",
      "---[user]---\n",
      " it is the language with which you can interact with the database and depends on the RDBMS or NoSQL DB that you are going to use\n"
     ]
    }
   ],
   "source": [
    "answer = \"è il linguaggio con cui poter interagire con la base dati e dipende dal RDBMS o dal NoSQL DB che si va ad utilizzare\"\n",
    "# answer = input(question)\n",
    "\n",
    "answer_eng = \"it is the language with which you can interact with the database and depends on the RDBMS or NoSQL DB that you are going to use\"\n",
    "# answer_eng = translate(answer)\n",
    "print('\\n---[user]---\\n', answer_eng)"
   ],
   "metadata": {
    "collapsed": false,
    "ExecuteTime": {
     "end_time": "2023-11-21T17:28:15.891188800Z",
     "start_time": "2023-11-21T17:28:15.873187700Z"
    }
   },
   "id": "c74e4489209ac534"
  },
  {
   "cell_type": "code",
   "execution_count": 110,
   "outputs": [
    {
     "name": "stdout",
     "output_type": "stream",
     "text": [
      "Relational Database, difference between relational and non-relational databases, Difference between relational and non-relational databases\n"
     ]
    }
   ],
   "source": [
    "prompt_and_model = prompt_with_old_questions | model\n",
    "\n",
    "old_subjects_str = \", \".join(old_subjects)\n",
    "print(old_subjects_str)"
   ],
   "metadata": {
    "collapsed": false,
    "ExecuteTime": {
     "end_time": "2023-11-21T17:28:17.123100400Z",
     "start_time": "2023-11-21T17:28:17.103137800Z"
    }
   },
   "id": "48ef55d63e222d19"
  },
  {
   "cell_type": "code",
   "execution_count": 111,
   "outputs": [
    {
     "name": "stdout",
     "output_type": "stream",
     "text": [
      "question: Can you explain the role of SQL and NoSQL in relational and non-relational databases?\n",
      "answer: è il linguaggio con cui poter interagire con la base dati e dipende dal RDBMS o dal NoSQL DB che si va ad utilizzare\n",
      "question subject: SQL and NoSQL in relational and non-relational databases\n",
      "comment to answer: It seems like you have a basic understanding of the role of SQL and NoSQL in databases, but your answer could benefit from more detail and explanation.\n",
      "score: 60\n",
      "more questions: CONTINUE\n",
      "new question: Can you give an example of a relational database and explain how SQL is used to interact with it?\n"
     ]
    }
   ],
   "source": [
    "prompt_and_model = prompt_with_old_questions | model\n",
    "\n",
    "old_subjects_str = \", \".join(old_subjects)\n",
    "\n",
    "model_output = prompt_and_model.invoke({\n",
    "    \"cp\": cp_eng,\n",
    "    \"module\": module_eng,\n",
    "    \"skill\": skill_eng,\n",
    "    \"question\": question,\n",
    "    \"answer\": answer_eng,\n",
    "    \"old_subjects\": old_subjects_str\n",
    "})\n",
    "result = json.loads(model_output.strip())\n",
    "\n",
    "print('question:', question)\n",
    "print('answer:', answer)\n",
    "print('question subject:', result[\"subject\"])\n",
    "print('comment to answer:', result[\"ai_comment\"])\n",
    "print('score:', result[\"score\"])\n",
    "print('more questions:', result[\"further_questions\"])\n",
    "print('new question:', result[\"new_question\"])"
   ],
   "metadata": {
    "collapsed": false,
    "ExecuteTime": {
     "end_time": "2023-11-21T17:28:20.711285800Z",
     "start_time": "2023-11-21T17:28:18.458689700Z"
    }
   },
   "id": "3a0f0d5335e0e150"
  },
  {
   "cell_type": "code",
   "execution_count": null,
   "outputs": [],
   "source": [
    "questions = [\n",
    "    \n",
    "]"
   ],
   "metadata": {
    "collapsed": false
   },
   "id": "f6bfba9ba7ffb221"
  },
  {
   "cell_type": "code",
   "execution_count": null,
   "outputs": [],
   "source": [],
   "metadata": {
    "collapsed": false
   },
   "id": "e2cde733b0ab7aa4"
  }
 ],
 "metadata": {
  "kernelspec": {
   "display_name": "Python 3",
   "language": "python",
   "name": "python3"
  },
  "language_info": {
   "codemirror_mode": {
    "name": "ipython",
    "version": 2
   },
   "file_extension": ".py",
   "mimetype": "text/x-python",
   "name": "python",
   "nbconvert_exporter": "python",
   "pygments_lexer": "ipython2",
   "version": "2.7.6"
  }
 },
 "nbformat": 4,
 "nbformat_minor": 5
}
