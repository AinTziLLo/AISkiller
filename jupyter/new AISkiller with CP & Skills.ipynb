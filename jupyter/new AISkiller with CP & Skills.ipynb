{
 "cells": [
  {
   "cell_type": "code",
   "execution_count": 1,
   "id": "initial_id",
   "metadata": {
    "collapsed": true,
    "ExecuteTime": {
     "end_time": "2023-11-25T12:07:43.364970900Z",
     "start_time": "2023-11-25T12:07:42.357490900Z"
    }
   },
   "outputs": [],
   "source": [
    "from python_developer import PythonDeveloperCP\n",
    "import os\n",
    "import openai\n",
    "from langchain.llms import OpenAI\n",
    "from langchain.chat_models import ChatOpenAI\n",
    "from langchain.prompts import PromptTemplate\n",
    "from langchain.pydantic_v1 import BaseModel, Field\n",
    "import json\n",
    "import re\n",
    "from langchain.schema import AIMessage, HumanMessage, SystemMessage\n",
    "from langchain.output_parsers import CommaSeparatedListOutputParser, PydanticOutputParser\n",
    "import csv\n",
    "from datetime import datetime\n",
    "import numpy as np\n",
    "\n",
    "SESSION_TIME_LIMIT = 60  # minutes\n",
    "\n",
    "\n",
    "class StepInfo(BaseModel):\n",
    "    question_summary: str = Field(description=\"summary of the question in very few words\")\n",
    "    ai_comment: str = Field(description=\"comment on the user's answer\")\n",
    "    score: int = Field(description=\"score of the user's answer\")\n",
    "    new_question: str = Field(description=\"any new question\")\n",
    "    further_questions: str = Field(\n",
    "        description=\"the only word CONTINUE if it's needed to propose further questions on the topic, else the only word STOP\")\n",
    "\n",
    "\n",
    "class FinalInfo(BaseModel):\n",
    "    ai_comment: str = Field(description=\"comment on the user's answer\")\n",
    "    score: int = Field(description=\"score of the user's answer\")\n",
    "    \n",
    "\n",
    "class PromptTemplateQuestionNoPreviousQuestions(PromptTemplate):\n",
    "    def __init__(self):\n",
    "        step_info_parser = PydanticOutputParser(pydantic_object=StepInfo)\n",
    "        super(PromptTemplate, self).__init__(\n",
    "            template=\"\"\"act as an expert {cp} evaluator who has experience in {module}, especially regarding {skill}\n",
    "use informal but refined language\n",
    "evaluates how competent the user is in {skill} (that is {descr})\n",
    "\n",
    "first of all, analyze the question: \\\"\\\"\\\"{question}\\\"\\\"\\\"\n",
    "\n",
    "then follow these steps:\n",
    "\n",
    "\\\"question_summary\\\": \\\"\\\"\\\"summarize the specific topic of the question in very few words without using verbs\\\"\\\"\\\" \n",
    "\n",
    "\\\"score\\\": \\\"\\\"\\\"carefully evaluate the user's skills in {skill} by evaluating the user's response to a question with a score from 0 to 100 and write only the score\\\"\\\"\\\"\n",
    "\n",
    "\\\"ai_comment\\\": \\\"\\\"\\\"evaluate the answer given by the user and write a very short comment to the user without revealing the correct answer; possibly just suggest how to improve future answers\\\"\\\"\\\"\n",
    "\n",
    "\\\"new_question\\\": \\\"\\\"\\\"write a new question to evaluate the user's knowledge in {skill}; the difficulty of the new question is proportional to the user's score in {skill}\\\"\\\"\\\"\n",
    "\n",
    "\\\"further_questions\\\": \\\"\\\"\\\"write only the word CONTINUE if it's needed to propose further questions to the user with the aim of evaluating his competence in {skill}, otherwise write only the word STOP to indicate that there is no need to investigate the user's evaluation in {skill} with further questions\\\"\\\"\\\"\n",
    "\n",
    "{format_instructions}\n",
    "\n",
    "User Answer: \\\"\\\"\\\"{answer}\\\"\\\"\\\"\n",
    "\"\"\", \n",
    "            input_variables=[\"cp\", \"module\", \"skill\", \"question\", \"user_answer\", \"descr\"], \n",
    "        )\n",
    "        self.partial_variables={\"format_instructions\": step_info_parser}\n",
    "        \n",
    "\n",
    "class PromptTemplateQuestionWithPreviousQuestions(PromptTemplate):\n",
    "    def __init__(self):\n",
    "        step_info_parser = PydanticOutputParser(pydantic_object=StepInfo)\n",
    "        super(PromptTemplate, self).__init__(\n",
    "            template=\"\"\"act as an expert {cp} evaluator who has experience in {module}, especially regarding {skill}\n",
    "use informal but refined language\n",
    "evaluates how competent the user is in {skill} (that is {descr})\n",
    "\n",
    "first of all, analyze the question: \\\"\\\"\\\"{question}\\\"\\\"\\\"\n",
    "\n",
    "then follow these steps:\n",
    "\n",
    "\\\"question_summary\\\": \\\"\\\"\\\"summarize the specific topic of the question in very few words without using verbs\\\"\\\"\\\" \n",
    "\n",
    "\\\"score\\\": \\\"\\\"\\\"carefully evaluate the user's skills in {skill} by evaluating the user's response to a question with a score from 0 to 100 and write only the score\\\"\\\"\\\"\n",
    "\n",
    "\\\"ai_comment\\\": \\\"\\\"\\\"evaluate the answer given by the user and write a very short comment to the user without revealing the correct answer; possibly just suggest how to improve future answers\\\"\\\"\\\"\n",
    "\n",
    "\\\"new_question\\\": \\\"\\\"\\\"write a new question to evaluate the user's knowledge in {skill} ; the difficulty of the new question is proportional to the user's score in {skill} ; the topic of the new question must not be on one of the following: [{old_subjects}]\\\"\\\"\\\"\n",
    "\n",
    "\\\"further_questions\\\": \\\"\\\"\\\"write only the word CONTINUE if it's needed to propose further questions to the user with the aim of evaluating his competence in {skill}, otherwise write only the word STOP to indicate that there is no need to investigate the user's evaluation in {skill} with further questions\\\"\\\"\\\"\n",
    "\n",
    "{format_instructions}\n",
    "\n",
    "User Answer: \\\"\\\"\\\"{answer}\\\"\\\"\\\"\n",
    "\n",
    "\"\"\", \n",
    "            input_variables=[\"cp\", \"module\", \"skill\", \"question\", \"user_answer\", \"old_subjects\", \"descr\"], \n",
    "        )\n",
    "        self.partial_variables={\"format_instructions\": step_info_parser}\n",
    "    \n",
    "\n",
    "class AISkiller:\n",
    "    def __init__(self, student_name='Mario', carrier_path=PythonDeveloperCP(), localization=\"italian\"):\n",
    "        self.step_info_parser = PydanticOutputParser(pydantic_object=StepInfo)\n",
    "        self.final_info_parser = PydanticOutputParser(pydantic_object=FinalInfo)\n",
    "        self.carrier_path = carrier_path\n",
    "        self.student_name = student_name\n",
    "        self.models = {\n",
    "            \"question_generator\": ChatOpenAI(model=\"gpt-4-0613\", temperature=.75,\n",
    "                                             openai_api_key=os.getenv(\"openai_key\"), max_tokens=500),\n",
    "            \"evaluator\": ChatOpenAI(model=\"gpt-4-0613\", temperature=0., openai_api_key=os.getenv(\"openai_key\"),\n",
    "                                    max_tokens=500),\n",
    "        }\n",
    "        self.session_ts = datetime.now()\n",
    "        self.localization = localization\n",
    "        self.assessment_session_started = False\n",
    "        self.prompt_no_previous_question = PromptTemplateQuestionNoPreviousQuestions()\n",
    "        self.prompt_with_previous_questions = PromptTemplateQuestionWithPreviousQuestions()\n",
    "\n",
    "    def get_skill_to_evaluate(self):\n",
    "        \"\"\"\n",
    "        Return a skill to evaluate, randomly selected from each module in the\n",
    "        Carrier Path [self.carrier_path]\n",
    "\n",
    "        Returns:\n",
    "            Dict{\"area\": Skill, \"skill\": Skill}:    A dictionary of the randomly \n",
    "                                                    selected skill from each module.\n",
    "        \"\"\"\n",
    "        skills = [{\"area\": area, \"skill\": skill} for (area, skill) in self.carrier_path.get_skills_to_evaluate()]\n",
    "        return np.random.choice(skills)\n",
    "\n",
    "    def get_question(self, student_name, carrier_path_name, area_name, skill):\n",
    "        \"\"\"\n",
    "        Generate a new question on a skill selected by the student's degree of knowledge in the various skills\n",
    "        of the carrier path. \n",
    "        The difficulty of the question is balanced on the student's knowledge of the skill\n",
    "        \"\"\"\n",
    "        welcome = self.models[\"question_generator\"]([\n",
    "            SystemMessage(\n",
    "                content=f\"act as a specialist in creating short and formal welcome messages in the context of assessment sessions for the {carrier_path_name} carrier path\"),\n",
    "            HumanMessage(\n",
    "                content=f\"creates a welcome message to a new assessment session in Python Developer for the user named John Smith\"),\n",
    "            SystemMessage(\n",
    "                content=f\"Dear John Smith,\\n\\nWelcome to your personalized Python Developer assessment session. We are thrilled to have you embark on this exciting path of enhancing your skills in Python development! \\n\\nThroughout this assessment, you will be presented with a series of tasks and questions designed to evaluate your understanding and proficiency in Python. The experience will be both challenging and rewarding, as it will provide you with the opportunity to showcase your talent while identifying areas for growth. Remember to answer short and concisely but be careful to create correct and complete answers. Good studying and... good luck with your test! Let's begin!\"\n",
    "            ),\n",
    "            HumanMessage(\n",
    "                content=f\"creates a welcome message to a new assessment session for a role of Machine Learning Engineer for the user named TheBestInTheWorld\"),\n",
    "            SystemMessage(\n",
    "                content=f\"Hi TheBestInTheWorld,\\n\\nWelcome to your new assessment session in Machine Learning. This session is designed to assess your skills and knowledge in the field of Machine Learning exploring his algorithms, methodologies and models. \\n\\nRemember, this assessment is but a stepping stone in your learning journey. We wish you all the best and are excited to see your progress.\\n\\nUse short answers, if useful give some examples but still pay attention to answer completely.\\n\\nWarm Regards... let's start with the first question!\"\n",
    "            ),\n",
    "            HumanMessage(\n",
    "                content=f\"creates a welcome message to a new assessment session in Data Scientist for the user named Mario\"),\n",
    "            SystemMessage(\n",
    "                content=f\"Welcome Mario,\\n\\nWe are happy to welcome you to your assessment session on the topics a Data Scientist should know well. This is an opportunity to demonstrate your skills and growth in the field of Data Science and in particular for the profession of Data Scientist.\\n\\nRemember that it is preferable to use short but always complete answers to the questions provided\\n\\nWe wish you the best in your rating and we look forward to seeing your solutions.\\n\\nLet's get things started with the first question... have fun!\"\n",
    "            ),\n",
    "            HumanMessage(\n",
    "                content=f\"creates a welcome message to a new assessment session in {carrier_path_name} for the user named {student_name}\"),\n",
    "        ]).content\n",
    "        question = self.models[\"question_generator\"]([\n",
    "            SystemMessage(\n",
    "                content=f\"act as an expert {carrier_path_name} instructor who has expertise in {area_name}, particularly regarding {skill.name}\"),\n",
    "            HumanMessage(\n",
    "                content=f\"write a very short question to evaluate my skills in {skill.name}; the difficulty of the question must be {skill.score} on a scale from 0 to 100; the question must be formulated in such a way as to allow a short textual answer to be able to evaluate my skills in {skill.name} write only the question, nothing else\")\n",
    "        ]).content\n",
    "        return welcome, question\n",
    "\n",
    "    def translate(self, message, language_from=\"italian\", language_to=\"english\"):\n",
    "        return openai.ChatCompletion.create(\n",
    "            model=\"gpt-3.5-turbo-1106\",\n",
    "            messages=[\n",
    "                {\n",
    "                    \"role\": \"system\",\n",
    "                    \"content\": \"You are an expert translator from \" + language_from + \" to \" + language_to + \" with experience in texts related to the \" + self.carrier_path.name + \" .\\nTranslate the user input into \" + language_to + \" and output only the translated text.\"\n",
    "                },\n",
    "                {\n",
    "                    \"role\": \"user\",\n",
    "                    \"content\": message\n",
    "                }\n",
    "            ],\n",
    "            temperature=0,\n",
    "            max_tokens=512,\n",
    "            top_p=1,\n",
    "            frequency_penalty=0,\n",
    "            presence_penalty=0\n",
    "        ).choices[-1].message.content\n",
    "    \n",
    "    def print_report(self, skills_list, level=1):\n",
    "        for i in range(len(skills_list)):\n",
    "            print('\\t' * level, skills_list[i].name, '(' + str(skills_list[i].score) + ')')\n",
    "            for o in range(len(skills_list[i].sub_skills)):\n",
    "                self.print_report([skills_list[i].sub_skills[o]], level=level + 1)\n",
    "\n",
    "    def step(self, user_answer=None):\n",
    "        if user_answer:\n",
    "            time_elapsed = int((datetime.now() - self.session_ts).total_seconds() / 60)\n",
    "            if time_elapsed > SESSION_TIME_LIMIT:\n",
    "                self.print_report(self.carrier_path.modules)\n",
    "            skill_to_evaluate = self.get_skill_to_evaluate()\n",
    "            return skill_to_evaluate\n",
    "        else:\n",
    "            self.assessment_session_started = True\n",
    "            skill_to_evaluate = self.get_skill_to_evaluate()\n",
    "            welcome, question = self.get_question(self.student_name, self.carrier_path.name,\n",
    "                                                  skill_to_evaluate[\"area\"].name, skill_to_evaluate[\"skill\"])\n",
    "            return welcome + \"\\n\\n\" + question"
   ]
  },
  {
   "cell_type": "code",
   "execution_count": 2,
   "outputs": [],
   "source": [
    "a = AISkiller()"
   ],
   "metadata": {
    "collapsed": false,
    "ExecuteTime": {
     "end_time": "2023-11-25T12:07:45.585621800Z",
     "start_time": "2023-11-25T12:07:45.566600900Z"
    }
   },
   "id": "4381a750366272be"
  },
  {
   "cell_type": "code",
   "execution_count": 3,
   "outputs": [
    {
     "name": "stdout",
     "output_type": "stream",
     "text": [
      "Python Developer - Networks - Cloud Computing\n"
     ]
    }
   ],
   "source": [
    "from skills_eng import * \n",
    "\n",
    "__test = a.get_skill_to_evaluate()\n",
    "print(a.carrier_path.name, '-', __test[\"area\"].name, '-', __test[\"skill\"].name)"
   ],
   "metadata": {
    "collapsed": false,
    "ExecuteTime": {
     "end_time": "2023-11-25T12:07:45.951430200Z",
     "start_time": "2023-11-25T12:07:45.937429500Z"
    }
   },
   "id": "cae7a28066c8ebb0"
  },
  {
   "cell_type": "code",
   "execution_count": 4,
   "outputs": [
    {
     "name": "stdout",
     "output_type": "stream",
     "text": [
      "Python Developer Programming Object-Oriented Programming\n",
      "(\"Dear Ciccio,\\n\\nWelcome to your Python Developer assessment session. This is a fantastic opportunity for you to showcase your skills and knowledge in Python development. \\n\\nThis session is designed to test your understanding and proficiency in Python, giving you the chance to demonstrate your capabilities while also identifying areas for potential growth. Be concise in your responses but ensure to cover all necessary points.\\n\\nWe wish you all the best in your assessment. Now, let's get started with the first question, and enjoy the process!\\n\\nKind Regards.\", 'What is the concept of encapsulation in object-oriented programming?')\n"
     ]
    }
   ],
   "source": [
    "SKILL_OOPProgramming.score = 10\n",
    "print(a.carrier_path.name, SKILL_Programming.name, SKILL_OOPProgramming.name)\n",
    "print(a.get_question('Ciccio', a.carrier_path.name, SKILL_Programming.name, SKILL_OOPProgramming))"
   ],
   "metadata": {
    "collapsed": false,
    "ExecuteTime": {
     "end_time": "2023-11-25T12:07:52.669615Z",
     "start_time": "2023-11-25T12:07:47.212745300Z"
    }
   },
   "id": "84633897a680de31"
  },
  {
   "cell_type": "code",
   "execution_count": 6,
   "outputs": [
    {
     "data": {
      "text/plain": "\"Dear Mario,\\n\\nWelcome to your Python Developer assessment session. We are excited to see you showcase your abilities and growth in the realm of Python development.\\n\\nThis assessment offers a platform for you to demonstrate your proficiency in Python, a critical skill in current and future industry scenarios. Remember, concise and precise responses are the most effective.\\n\\nWe wish you the best of luck on your evaluation and look forward to reviewing your solutions.\\n\\nLet's commence this journey with your first question... Best of luck!\\n\\nWhat is Cloud Computing?\""
     },
     "execution_count": 6,
     "metadata": {},
     "output_type": "execute_result"
    }
   ],
   "source": [
    "a.step()"
   ],
   "metadata": {
    "collapsed": false,
    "ExecuteTime": {
     "end_time": "2023-11-25T12:08:13.647693300Z",
     "start_time": "2023-11-25T12:08:08.723542100Z"
    }
   },
   "id": "3e5d7f75f7980619"
  },
  {
   "cell_type": "code",
   "execution_count": 7,
   "outputs": [
    {
     "name": "stdout",
     "output_type": "stream",
     "text": [
      "\t Programming (0)\n",
      "\t\t Procedural Programming (0)\n",
      "\t\t Object-Oriented Programming (10)\n",
      "\t\t Functional Programming (0)\n",
      "\t\t Concurrent Programming (0)\n",
      "\t\t DB Design (0)\n",
      "\t\t Relational Databases (0)\n",
      "\t\t\t MySQL (0)\n",
      "\t\t\t PostgreSQL (0)\n",
      "\t\t Python (0)\n",
      "\t Networks (0)\n",
      "\t\t Cloud Computing (0)\n",
      "\t\t\t Introduction to Cloud Computing (0)\n",
      "\t Data Science (0)\n",
      "\t\t Data Driven Mindset (0)\n",
      "\t Machine Learning (0)\n",
      "\t\t Introduction to Machine Learning (0)\n"
     ]
    }
   ],
   "source": [
    "a.print_report(a.carrier_path.modules)"
   ],
   "metadata": {
    "collapsed": false,
    "ExecuteTime": {
     "end_time": "2023-11-25T12:08:17.024783800Z",
     "start_time": "2023-11-25T12:08:17.008785100Z"
    }
   },
   "id": "931b465f7714095a"
  },
  {
   "cell_type": "code",
   "execution_count": 8,
   "outputs": [
    {
     "name": "stdout",
     "output_type": "stream",
     "text": [
      "Programming Procedural Programming\n"
     ]
    }
   ],
   "source": [
    "b = a.step(\"cippirimerlo\")\n",
    "\n",
    "print(b[\"area\"].name, b[\"skill\"].name)"
   ],
   "metadata": {
    "collapsed": false,
    "ExecuteTime": {
     "end_time": "2023-11-25T12:08:24.612034700Z",
     "start_time": "2023-11-25T12:08:24.566731200Z"
    }
   },
   "id": "f841793ee2465530"
  },
  {
   "cell_type": "code",
   "execution_count": null,
   "outputs": [],
   "source": [],
   "metadata": {
    "collapsed": false
   },
   "id": "cf804037d03f8b1a"
  }
 ],
 "metadata": {
  "kernelspec": {
   "display_name": "Python 3",
   "language": "python",
   "name": "python3"
  },
  "language_info": {
   "codemirror_mode": {
    "name": "ipython",
    "version": 2
   },
   "file_extension": ".py",
   "mimetype": "text/x-python",
   "name": "python",
   "nbconvert_exporter": "python",
   "pygments_lexer": "ipython2",
   "version": "2.7.6"
  }
 },
 "nbformat": 4,
 "nbformat_minor": 5
}
